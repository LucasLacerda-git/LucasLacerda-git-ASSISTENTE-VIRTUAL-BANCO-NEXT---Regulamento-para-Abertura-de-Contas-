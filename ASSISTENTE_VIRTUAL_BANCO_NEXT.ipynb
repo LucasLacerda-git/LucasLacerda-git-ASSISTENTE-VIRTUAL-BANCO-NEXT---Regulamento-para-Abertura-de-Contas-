{
  "cells": [
    {
      "cell_type": "markdown",
      "metadata": {
        "id": "view-in-github",
        "colab_type": "text"
      },
      "source": [
        "<a href=\"https://colab.research.google.com/github/LucasLacerda-git/LucasLacerda-git-ASSISTENTE-VIRTUAL-BANCO-NEXT---Regulamento-para-Abertura-de-Contas-/blob/main/ASSISTENTE_VIRTUAL_BANCO_NEXT.ipynb\" target=\"_parent\"><img src=\"https://colab.research.google.com/assets/colab-badge.svg\" alt=\"Open In Colab\"/></a>"
      ]
    },
    {
      "cell_type": "markdown",
      "metadata": {
        "id": "0Y1ov1jlqmOI"
      },
      "source": [
        "#ASSISTENTE VIRTUAL BANCONEXT - DOCUMENTAÇÃO"
      ]
    },
    {
      "cell_type": "markdown",
      "metadata": {
        "id": "kJ5teZmBhXv-"
      },
      "source": [
        "Objetivo: Assistente virtual inteligente para o Banco Next capaz de responder perguntas sobre\n",
        "a abertura de contas e serviços bancários, utilizando técnicas avançadas de NLP e RAG (Retrieval-Augmented Generation).\n",
        "\n",
        "Tecnologias principais:\n",
        "- LangChain: Framework para construção de pipelines de LLM\n",
        "- Groq: Plataforma de inferência rápida para modelos LLM\n",
        "- HuggingFace: Modelos de embeddings e transformers\n",
        "- FAISS: Armazenamento vetorial eficiente\n",
        "- Streamlit: Interface web para interação com usuários\n",
        "\n",
        "Fluxo principal:\n",
        "1. Processamento de documentos PDF com regulamentos do banco\n",
        "2. Criação de embeddings e armazenamento vetorial\n",
        "3. Sistema de recuperação de informações relevantes\n",
        "4. Geração de respostas contextualizadas usando LLM\n"
      ]
    },
    {
      "cell_type": "markdown",
      "metadata": {
        "id": "bORs4yHnLsoE"
      },
      "source": [
        "Instalando Bibliotecas"
      ]
    },
    {
      "cell_type": "code",
      "execution_count": null,
      "metadata": {
        "colab": {
          "base_uri": "https://localhost:8080/"
        },
        "id": "YiKuzA9uLqLK",
        "outputId": "a2b8010a-36a3-4835-8c1a-07346d2a3892"
      },
      "outputs": [
        {
          "output_type": "stream",
          "name": "stdout",
          "text": [
            "\u001b[2K   \u001b[90m━━━━━━━━━━━━━━━━━━━━━━━━━━━━━━━━━━━━━━━━\u001b[0m \u001b[32m2.5/2.5 MB\u001b[0m \u001b[31m29.5 MB/s\u001b[0m eta \u001b[36m0:00:00\u001b[0m\n",
            "\u001b[2K   \u001b[90m━━━━━━━━━━━━━━━━━━━━━━━━━━━━━━━━━━━━━━━━\u001b[0m \u001b[32m131.4/131.4 kB\u001b[0m \u001b[31m9.5 MB/s\u001b[0m eta \u001b[36m0:00:00\u001b[0m\n",
            "\u001b[2K   \u001b[90m━━━━━━━━━━━━━━━━━━━━━━━━━━━━━━━━━━━━━━━━\u001b[0m \u001b[32m45.2/45.2 kB\u001b[0m \u001b[31m3.3 MB/s\u001b[0m eta \u001b[36m0:00:00\u001b[0m\n",
            "\u001b[2K   \u001b[90m━━━━━━━━━━━━━━━━━━━━━━━━━━━━━━━━━━━━━━━━\u001b[0m \u001b[32m50.9/50.9 kB\u001b[0m \u001b[31m3.6 MB/s\u001b[0m eta \u001b[36m0:00:00\u001b[0m\n",
            "\u001b[2K   \u001b[90m━━━━━━━━━━━━━━━━━━━━━━━━━━━━━━━━━━━━━━━━\u001b[0m \u001b[32m31.4/31.4 MB\u001b[0m \u001b[31m46.1 MB/s\u001b[0m eta \u001b[36m0:00:00\u001b[0m\n",
            "\u001b[2K   \u001b[90m━━━━━━━━━━━━━━━━━━━━━━━━━━━━━━━━━━━━━━━━\u001b[0m \u001b[32m24.1/24.1 MB\u001b[0m \u001b[31m56.1 MB/s\u001b[0m eta \u001b[36m0:00:00\u001b[0m\n",
            "\u001b[2K   \u001b[90m━━━━━━━━━━━━━━━━━━━━━━━━━━━━━━━━━━━━━━━━\u001b[0m \u001b[32m363.4/363.4 MB\u001b[0m \u001b[31m2.9 MB/s\u001b[0m eta \u001b[36m0:00:00\u001b[0m\n",
            "\u001b[2K   \u001b[90m━━━━━━━━━━━━━━━━━━━━━━━━━━━━━━━━━━━━━━━━\u001b[0m \u001b[32m13.8/13.8 MB\u001b[0m \u001b[31m71.2 MB/s\u001b[0m eta \u001b[36m0:00:00\u001b[0m\n",
            "\u001b[2K   \u001b[90m━━━━━━━━━━━━━━━━━━━━━━━━━━━━━━━━━━━━━━━━\u001b[0m \u001b[32m24.6/24.6 MB\u001b[0m \u001b[31m21.4 MB/s\u001b[0m eta \u001b[36m0:00:00\u001b[0m\n",
            "\u001b[2K   \u001b[90m━━━━━━━━━━━━━━━━━━━━━━━━━━━━━━━━━━━━━━━━\u001b[0m \u001b[32m883.7/883.7 kB\u001b[0m \u001b[31m35.2 MB/s\u001b[0m eta \u001b[36m0:00:00\u001b[0m\n",
            "\u001b[2K   \u001b[90m━━━━━━━━━━━━━━━━━━━━━━━━━━━━━━━━━━━━━━━━\u001b[0m \u001b[32m664.8/664.8 MB\u001b[0m \u001b[31m1.3 MB/s\u001b[0m eta \u001b[36m0:00:00\u001b[0m\n",
            "\u001b[2K   \u001b[90m━━━━━━━━━━━━━━━━━━━━━━━━━━━━━━━━━━━━━━━━\u001b[0m \u001b[32m211.5/211.5 MB\u001b[0m \u001b[31m5.0 MB/s\u001b[0m eta \u001b[36m0:00:00\u001b[0m\n",
            "\u001b[2K   \u001b[90m━━━━━━━━━━━━━━━━━━━━━━━━━━━━━━━━━━━━━━━━\u001b[0m \u001b[32m56.3/56.3 MB\u001b[0m \u001b[31m13.2 MB/s\u001b[0m eta \u001b[36m0:00:00\u001b[0m\n",
            "\u001b[2K   \u001b[90m━━━━━━━━━━━━━━━━━━━━━━━━━━━━━━━━━━━━━━━━\u001b[0m \u001b[32m127.9/127.9 MB\u001b[0m \u001b[31m7.5 MB/s\u001b[0m eta \u001b[36m0:00:00\u001b[0m\n",
            "\u001b[2K   \u001b[90m━━━━━━━━━━━━━━━━━━━━━━━━━━━━━━━━━━━━━━━━\u001b[0m \u001b[32m207.5/207.5 MB\u001b[0m \u001b[31m4.7 MB/s\u001b[0m eta \u001b[36m0:00:00\u001b[0m\n",
            "\u001b[2K   \u001b[90m━━━━━━━━━━━━━━━━━━━━━━━━━━━━━━━━━━━━━━━━\u001b[0m \u001b[32m188.7/188.7 MB\u001b[0m \u001b[31m5.5 MB/s\u001b[0m eta \u001b[36m0:00:00\u001b[0m\n",
            "\u001b[2K   \u001b[90m━━━━━━━━━━━━━━━━━━━━━━━━━━━━━━━━━━━━━━━━\u001b[0m \u001b[32m21.1/21.1 MB\u001b[0m \u001b[31m27.4 MB/s\u001b[0m eta \u001b[36m0:00:00\u001b[0m\n",
            "\u001b[?25h"
          ]
        }
      ],
      "source": [
        "!pip install langchain langchain-groq langchain_community langchain-huggingface --q\n",
        "!pip install faiss-cpu sentence-transformers PyMuPDF --q"
      ]
    },
    {
      "cell_type": "markdown",
      "metadata": {
        "id": "DnxVoQGZL4bk"
      },
      "source": [
        "Dependências"
      ]
    },
    {
      "cell_type": "code",
      "execution_count": null,
      "metadata": {
        "id": "n0b7UfedLVwO"
      },
      "outputs": [],
      "source": [
        "from langchain_groq import ChatGroq\n",
        "from langchain_core.output_parsers import StrOutputParser\n",
        "from langchain_core.prompts import ChatPromptTemplate\n",
        "import os\n",
        "import getpass\n",
        "# dependencias"
      ]
    },
    {
      "cell_type": "code",
      "execution_count": null,
      "metadata": {
        "colab": {
          "base_uri": "https://localhost:8080/"
        },
        "id": "i6cVD9LrMSpW",
        "outputId": "d72af9f5-3cc5-476d-c012-5bccdb245894"
      },
      "outputs": [
        {
          "name": "stdout",
          "output_type": "stream",
          "text": [
            "··········\n"
          ]
        }
      ],
      "source": [
        "os.environ[\"GROQ_API_KEY\"] = getpass.getpass()\n",
        "#carregando LLM"
      ]
    },
    {
      "cell_type": "code",
      "execution_count": null,
      "metadata": {
        "id": "DSAfDHqurQ9T"
      },
      "outputs": [],
      "source": [
        "def load_llm(id_model, temperature):\n",
        "  llm = ChatGroq(\n",
        "      model = id_model,\n",
        "      temperature = temperature,\n",
        "      max_tokens=None,\n",
        "      timeout=None,\n",
        "      max_retries=2,\n",
        "  )\n",
        "  return llm\n",
        "#configurando e atualizando uma instancia"
      ]
    },
    {
      "cell_type": "code",
      "execution_count": null,
      "metadata": {
        "id": "QkDYnL3CrjI4"
      },
      "outputs": [],
      "source": [
        "id_model = \"llama3-70b-8192\" # @param {type: \"string\"}\n",
        "temperature = 0.7 # @param {type: \"slider\", min: 0.1, max: 1.5, step: 0.1}\n",
        "\n",
        "llm = load_llm(id_model, temperature)\n",
        "\n",
        "#fazendo definições"
      ]
    },
    {
      "cell_type": "code",
      "execution_count": null,
      "metadata": {
        "colab": {
          "base_uri": "https://localhost:8080/",
          "height": 145
        },
        "id": "e5tepTxgsAN7",
        "outputId": "01a3e2b1-2988-48b7-acc6-65d33c42e7ba"
      },
      "outputs": [
        {
          "data": {
            "application/vnd.google.colaboratory.intrinsic+json": {
              "type": "string"
            },
            "text/plain": [
              "'Criar uma conta é um processo comum em muitas plataformas online, como sites de redes sociais, serviços de email, bancos online, lojas virtuais, entre outros. Aqui vai uma explicação geral sobre como criar uma conta:\\n\\n**Passos para criar uma conta:**\\n\\n1. **Acesse o site ou aplicativo**: Abra o site ou aplicativo onde você deseja criar uma conta. Certifique-se de que está acessando o site oficial e não uma página falsa.\\n2. **Clique em \"Criar conta\" ou \"Registrar-se\"**: Procure o botão ou link que diz \"Criar conta\", \"Registrar-se\", \"Inscrever-se\" ou algo semelhante. Clique nele para iniciar o processo de criação de conta.\\n3. **Preencha o formulário de registro**: Você será apresentado a um formulário onde precisará preencher informações básicas sobre si mesmo, como:\\n\\t* Nome e sobrenome\\n\\t* Endereço de email (que será usado como login)\\n\\t* Senha (escolha uma senha forte e única)\\n\\t* Data de nascimento\\n\\t* Gênero (opcional)\\n\\t* Outras informações que variam de acordo com o site ou aplicativo\\n4. **Verifique seu email**: Em seguida, você receberá um email de confirmação no endereço de email que você forneceu. Abra o email e clique no link de confirmação para ativar sua conta.\\n5. **Complete seu perfil (opcional)**: Depois de confirmar sua conta, você pode ser solicitado a completar seu perfil com informações adicionais, como uma foto de perfil, bio, interesses, etc.\\n6. **Você está pronto!**: Agora você tem uma conta criada e pode começar a usar o site ou aplicativo.\\n\\n**Dicas importantes:**\\n\\n* Use uma senha forte e única para sua conta.\\n* Certifique-se de que você está acessando o site oficial e não uma página falsa.\\n* Leia e entenda as políticas de privacidade e termos de uso do site ou aplicativo antes de criar uma conta.\\n* Guarde suas informações de login em um lugar seguro.\\n\\nLembre-se de que os passos podem variar ligeiramente de acordo com o site ou aplicativo que você está usando. Se tiver alguma dúvida ou problema durante o processo de criação de conta, você pode contatar o suporte ao cliente do site ou aplicativo para obter ajuda.'"
            ]
          },
          "execution_count": 6,
          "metadata": {},
          "output_type": "execute_result"
        }
      ],
      "source": [
        "prompt = \"Como criar uma conta\" # @param {type: \"string\"}\n",
        "\n",
        "template = ChatPromptTemplate.from_messages([\n",
        "    (\"system\", \"Você é um assistente virtual prestativo e está respondendo perguntas gerais\"),\n",
        "    (\"human\", \"{prompt}\")\n",
        "])\n",
        "\n",
        "chain = template | llm | StrOutputParser()\n",
        "\n",
        "res = chain.invoke({\"prompt\": prompt})\n",
        "res\n",
        "#gerando resposta por meio de prompt(teste)"
      ]
    },
    {
      "cell_type": "code",
      "execution_count": null,
      "metadata": {
        "colab": {
          "base_uri": "https://localhost:8080/",
          "height": 538
        },
        "id": "Gt1-ssUT1AMC",
        "outputId": "bc7fa514-1256-4b30-a765-73d041bbc325"
      },
      "outputs": [
        {
          "data": {
            "text/markdown": "Criar uma conta é um processo comum em muitas plataformas online, como sites de redes sociais, serviços de email, bancos online, lojas virtuais, entre outros. Aqui vai uma explicação geral sobre como criar uma conta:\n\n**Passos para criar uma conta:**\n\n1. **Acesse o site ou aplicativo**: Abra o site ou aplicativo onde você deseja criar uma conta. Certifique-se de que está acessando o site oficial e não uma página falsa.\n2. **Clique em \"Criar conta\" ou \"Registrar-se\"**: Procure o botão ou link que diz \"Criar conta\", \"Registrar-se\", \"Inscrever-se\" ou algo semelhante. Clique nele para iniciar o processo de criação de conta.\n3. **Preencha o formulário de registro**: Você será apresentado a um formulário onde precisará preencher informações básicas sobre si mesmo, como:\n\t* Nome e sobrenome\n\t* Endereço de email (que será usado como login)\n\t* Senha (escolha uma senha forte e única)\n\t* Data de nascimento\n\t* Gênero (opcional)\n\t* Outras informações que variam de acordo com o site ou aplicativo\n4. **Verifique seu email**: Em seguida, você receberá um email de confirmação no endereço de email que você forneceu. Abra o email e clique no link de confirmação para ativar sua conta.\n5. **Complete seu perfil (opcional)**: Depois de confirmar sua conta, você pode ser solicitado a completar seu perfil com informações adicionais, como uma foto de perfil, bio, interesses, etc.\n6. **Você está pronto!**: Agora você tem uma conta criada e pode começar a usar o site ou aplicativo.\n\n**Dicas importantes:**\n\n* Use uma senha forte e única para sua conta.\n* Certifique-se de que você está acessando o site oficial e não uma página falsa.\n* Leia e entenda as políticas de privacidade e termos de uso do site ou aplicativo antes de criar uma conta.\n* Guarde suas informações de login em um lugar seguro.\n\nLembre-se de que os passos podem variar ligeiramente de acordo com o site ou aplicativo que você está usando. Se tiver alguma dúvida ou problema durante o processo de criação de conta, você pode contatar o suporte ao cliente do site ou aplicativo para obter ajuda.",
            "text/plain": [
              "<IPython.core.display.Markdown object>"
            ]
          },
          "metadata": {},
          "output_type": "display_data"
        }
      ],
      "source": [
        "def show_res(res):\n",
        "  from IPython.display import Markdown\n",
        "  if \"</think>\" in res:\n",
        "    res = res.split(\"</think>\")[-1].strip()\n",
        "  else:\n",
        "    res = res.strip()\n",
        "  display(Markdown(res))\n",
        "\n",
        "show_res(res)\n",
        "#formatando e guardando resposta temporaria"
      ]
    },
    {
      "cell_type": "markdown",
      "metadata": {
        "id": "Zc1dAHxi2bYn"
      },
      "source": [
        "###Definindo o contexto"
      ]
    },
    {
      "cell_type": "code",
      "execution_count": null,
      "metadata": {
        "id": "7bFqesPv2XjK"
      },
      "outputs": [],
      "source": [
        "context = \"\"\"\n",
        "Como criar uma conta, Baixe o app do Banco Next na playstore '.\n",
        "\n",
        "\"\"\"\n",
        "\n",
        "prompt = f\"\"\"\n",
        "Como criar uma conta na Next?\n",
        "\n",
        "Contexto: {context}\n",
        "\"\"\"\n",
        "#definindo um contexto"
      ]
    },
    {
      "cell_type": "code",
      "execution_count": null,
      "metadata": {
        "colab": {
          "base_uri": "https://localhost:8080/",
          "height": 36
        },
        "id": "9Lc1BP8f3ecv",
        "outputId": "5d46997e-972d-403a-ddfe-0000f2eda796"
      },
      "outputs": [
        {
          "data": {
            "application/vnd.google.colaboratory.intrinsic+json": {
              "type": "string"
            },
            "text/plain": [
              "\"\\nComo criar uma conta na Next?\\n\\nContexto: \\nComo criar uma conta, Baixe o app do Banco Next na playstore '.\\n\\n\\n\""
            ]
          },
          "execution_count": 9,
          "metadata": {},
          "output_type": "execute_result"
        }
      ],
      "source": [
        "prompt"
      ]
    },
    {
      "cell_type": "code",
      "execution_count": null,
      "metadata": {
        "colab": {
          "base_uri": "https://localhost:8080/",
          "height": 420
        },
        "id": "9iSf-YpZ3pPr",
        "outputId": "f43a4d4a-873e-4683-802d-8ab81fb82bae"
      },
      "outputs": [
        {
          "data": {
            "text/markdown": "Olá!\n\nPara criar uma conta no Banco Next, siga os passos abaixo:\n\n**Passo 1: Baixe o app do Banco Next**\n\nAbra a Google Play Store no seu dispositivo Android e procure pelo aplicativo \"Banco Next\". Clique no botão \"Instalar\" para baixar e instalar o app.\n\n**Passo 2: Abra o app e clique em \"Criar conta\"**\n\nApós a instalação, abra o app do Banco Next e clique no botão \"Criar conta\" na tela de boas-vindas.\n\n**Passo 3: Forneça seus dados pessoais**\n\nPreencha o formulário de cadastro com seus dados pessoais, como nome, CPF, data de nascimento, e-mail e senha.\n\n**Passo 4: Adicione um método de pagamento**\n\nSelecione um método de pagamento para vincular à sua conta, como cartão de crédito ou débito.\n\n**Passo 5: Verifique sua conta**\n\nO Banco Next enviará um código de verificação para o seu e-mail ou telefone. Digite o código para verificar sua conta.\n\n**Passo 6: Defina sua senha e configure sua conta**\n\nCrie uma senha forte e segura para acessar sua conta. Em seguida, configure sua conta adicionando mais informações, como endereço e telefone.\n\n**Pronto!**\n\nSua conta no Banco Next está criada! Agora você pode acessar sua conta, realizar transações e aproveitar os serviços oferecidos pelo banco.\n\nLembre-se de que é importante ler e concordar com os termos e condições do Banco Next antes de criar sua conta.",
            "text/plain": [
              "<IPython.core.display.Markdown object>"
            ]
          },
          "metadata": {},
          "output_type": "display_data"
        }
      ],
      "source": [
        "res = chain.invoke({\"prompt\": prompt})\n",
        "show_res(res)\n",
        "#gerando resposta baseada no prompt"
      ]
    },
    {
      "cell_type": "markdown",
      "metadata": {
        "id": "flPuJDyG4FEH"
      },
      "source": [
        "###Rag"
      ]
    },
    {
      "cell_type": "code",
      "execution_count": null,
      "metadata": {
        "id": "8IAKl1R_4B-F"
      },
      "outputs": [],
      "source": [
        "template_rag = \"\"\"\n",
        "Pergunta: {input}\n",
        "Contexto: {context}\n",
        "\"\"\"\n",
        "#definindo estrutura fixa"
      ]
    },
    {
      "cell_type": "code",
      "execution_count": null,
      "metadata": {
        "colab": {
          "base_uri": "https://localhost:8080/"
        },
        "id": "nMXEhGJ94clj",
        "outputId": "86f06b5b-ce57-4ec3-fe79-8adc3ed89639"
      },
      "outputs": [
        {
          "name": "stdout",
          "output_type": "stream",
          "text": [
            "input_variables=['context', 'input'] input_types={} partial_variables={} template='\\nPergunta: {input}\\nContexto: {context}\\n'\n"
          ]
        }
      ],
      "source": [
        "from langchain.prompts import PromptTemplate\n",
        "\n",
        "prompt_rag = PromptTemplate.from_template(template_rag)\n",
        "print(prompt_rag)"
      ]
    },
    {
      "cell_type": "markdown",
      "metadata": {
        "id": "eGa5T2tCD4Or"
      },
      "source": [
        "###Criação de Chain"
      ]
    },
    {
      "cell_type": "code",
      "execution_count": null,
      "metadata": {
        "colab": {
          "base_uri": "https://localhost:8080/",
          "height": 277
        },
        "id": "H5ogvNN9CoNR",
        "outputId": "4255ec91-ae32-4b68-aabe-2216b0db64fa"
      },
      "outputs": [
        {
          "data": {
            "text/markdown": "Entendi!\n\nPara criar uma conta no Banco Next, siga os seguintes passos:\n\n1. Baixe o aplicativo do Banco Next na Play Store.\n2. Abra o aplicativo e clique em \"Criar Conta\".\n3. Insira seus dados pessoais, como nome, CPF, data de nascimento e endereço.\n4. Crie uma senha segura e confirme-a.\n5. Adicione um método de pagamento, como cartão de crédito ou débito.\n6. Verifique seu e-mail e número de telefone para confirmar sua conta.\n7. Leia e aceite os termos e condições do Banco Next.\n8. Clique em \"Criar Conta\" para finalizar o processo.\n\nPronto! Sua conta do Banco Next está criada.\n\n(Lembre-se de que os passos podem variar dependendo do aplicativo e das políticas do Banco Next.)",
            "text/plain": [
              "<IPython.core.display.Markdown object>"
            ]
          },
          "metadata": {},
          "output_type": "display_data"
        }
      ],
      "source": [
        "chain_rag = prompt_rag | llm | StrOutputParser()\n",
        "\n",
        "input = \"como criar uma conta?\"\n",
        "\n",
        "res = chain_rag.invoke({\"context\": context, \"input\": input})\n",
        "\n",
        "show_res(res)"
      ]
    },
    {
      "cell_type": "markdown",
      "metadata": {
        "id": "ki4mm1VHEC5U"
      },
      "source": [
        "Indexação -"
      ]
    },
    {
      "cell_type": "code",
      "execution_count": null,
      "metadata": {
        "colab": {
          "base_uri": "https://localhost:8080/",
          "height": 92
        },
        "id": "EDee_CYzD8_3",
        "outputId": "891d25b2-53ad-4c66-b021-f122aaebee17"
      },
      "outputs": [
        {
          "data": {
            "text/html": [
              "\n",
              "     <input type=\"file\" id=\"files-8d8bffa8-bf46-4462-8e37-7b1255a89a59\" name=\"files[]\" multiple disabled\n",
              "        style=\"border:none\" />\n",
              "     <output id=\"result-8d8bffa8-bf46-4462-8e37-7b1255a89a59\">\n",
              "      Upload widget is only available when the cell has been executed in the\n",
              "      current browser session. Please rerun this cell to enable.\n",
              "      </output>\n",
              "      <script>// Copyright 2017 Google LLC\n",
              "//\n",
              "// Licensed under the Apache License, Version 2.0 (the \"License\");\n",
              "// you may not use this file except in compliance with the License.\n",
              "// You may obtain a copy of the License at\n",
              "//\n",
              "//      http://www.apache.org/licenses/LICENSE-2.0\n",
              "//\n",
              "// Unless required by applicable law or agreed to in writing, software\n",
              "// distributed under the License is distributed on an \"AS IS\" BASIS,\n",
              "// WITHOUT WARRANTIES OR CONDITIONS OF ANY KIND, either express or implied.\n",
              "// See the License for the specific language governing permissions and\n",
              "// limitations under the License.\n",
              "\n",
              "/**\n",
              " * @fileoverview Helpers for google.colab Python module.\n",
              " */\n",
              "(function(scope) {\n",
              "function span(text, styleAttributes = {}) {\n",
              "  const element = document.createElement('span');\n",
              "  element.textContent = text;\n",
              "  for (const key of Object.keys(styleAttributes)) {\n",
              "    element.style[key] = styleAttributes[key];\n",
              "  }\n",
              "  return element;\n",
              "}\n",
              "\n",
              "// Max number of bytes which will be uploaded at a time.\n",
              "const MAX_PAYLOAD_SIZE = 100 * 1024;\n",
              "\n",
              "function _uploadFiles(inputId, outputId) {\n",
              "  const steps = uploadFilesStep(inputId, outputId);\n",
              "  const outputElement = document.getElementById(outputId);\n",
              "  // Cache steps on the outputElement to make it available for the next call\n",
              "  // to uploadFilesContinue from Python.\n",
              "  outputElement.steps = steps;\n",
              "\n",
              "  return _uploadFilesContinue(outputId);\n",
              "}\n",
              "\n",
              "// This is roughly an async generator (not supported in the browser yet),\n",
              "// where there are multiple asynchronous steps and the Python side is going\n",
              "// to poll for completion of each step.\n",
              "// This uses a Promise to block the python side on completion of each step,\n",
              "// then passes the result of the previous step as the input to the next step.\n",
              "function _uploadFilesContinue(outputId) {\n",
              "  const outputElement = document.getElementById(outputId);\n",
              "  const steps = outputElement.steps;\n",
              "\n",
              "  const next = steps.next(outputElement.lastPromiseValue);\n",
              "  return Promise.resolve(next.value.promise).then((value) => {\n",
              "    // Cache the last promise value to make it available to the next\n",
              "    // step of the generator.\n",
              "    outputElement.lastPromiseValue = value;\n",
              "    return next.value.response;\n",
              "  });\n",
              "}\n",
              "\n",
              "/**\n",
              " * Generator function which is called between each async step of the upload\n",
              " * process.\n",
              " * @param {string} inputId Element ID of the input file picker element.\n",
              " * @param {string} outputId Element ID of the output display.\n",
              " * @return {!Iterable<!Object>} Iterable of next steps.\n",
              " */\n",
              "function* uploadFilesStep(inputId, outputId) {\n",
              "  const inputElement = document.getElementById(inputId);\n",
              "  inputElement.disabled = false;\n",
              "\n",
              "  const outputElement = document.getElementById(outputId);\n",
              "  outputElement.innerHTML = '';\n",
              "\n",
              "  const pickedPromise = new Promise((resolve) => {\n",
              "    inputElement.addEventListener('change', (e) => {\n",
              "      resolve(e.target.files);\n",
              "    });\n",
              "  });\n",
              "\n",
              "  const cancel = document.createElement('button');\n",
              "  inputElement.parentElement.appendChild(cancel);\n",
              "  cancel.textContent = 'Cancel upload';\n",
              "  const cancelPromise = new Promise((resolve) => {\n",
              "    cancel.onclick = () => {\n",
              "      resolve(null);\n",
              "    };\n",
              "  });\n",
              "\n",
              "  // Wait for the user to pick the files.\n",
              "  const files = yield {\n",
              "    promise: Promise.race([pickedPromise, cancelPromise]),\n",
              "    response: {\n",
              "      action: 'starting',\n",
              "    }\n",
              "  };\n",
              "\n",
              "  cancel.remove();\n",
              "\n",
              "  // Disable the input element since further picks are not allowed.\n",
              "  inputElement.disabled = true;\n",
              "\n",
              "  if (!files) {\n",
              "    return {\n",
              "      response: {\n",
              "        action: 'complete',\n",
              "      }\n",
              "    };\n",
              "  }\n",
              "\n",
              "  for (const file of files) {\n",
              "    const li = document.createElement('li');\n",
              "    li.append(span(file.name, {fontWeight: 'bold'}));\n",
              "    li.append(span(\n",
              "        `(${file.type || 'n/a'}) - ${file.size} bytes, ` +\n",
              "        `last modified: ${\n",
              "            file.lastModifiedDate ? file.lastModifiedDate.toLocaleDateString() :\n",
              "                                    'n/a'} - `));\n",
              "    const percent = span('0% done');\n",
              "    li.appendChild(percent);\n",
              "\n",
              "    outputElement.appendChild(li);\n",
              "\n",
              "    const fileDataPromise = new Promise((resolve) => {\n",
              "      const reader = new FileReader();\n",
              "      reader.onload = (e) => {\n",
              "        resolve(e.target.result);\n",
              "      };\n",
              "      reader.readAsArrayBuffer(file);\n",
              "    });\n",
              "    // Wait for the data to be ready.\n",
              "    let fileData = yield {\n",
              "      promise: fileDataPromise,\n",
              "      response: {\n",
              "        action: 'continue',\n",
              "      }\n",
              "    };\n",
              "\n",
              "    // Use a chunked sending to avoid message size limits. See b/62115660.\n",
              "    let position = 0;\n",
              "    do {\n",
              "      const length = Math.min(fileData.byteLength - position, MAX_PAYLOAD_SIZE);\n",
              "      const chunk = new Uint8Array(fileData, position, length);\n",
              "      position += length;\n",
              "\n",
              "      const base64 = btoa(String.fromCharCode.apply(null, chunk));\n",
              "      yield {\n",
              "        response: {\n",
              "          action: 'append',\n",
              "          file: file.name,\n",
              "          data: base64,\n",
              "        },\n",
              "      };\n",
              "\n",
              "      let percentDone = fileData.byteLength === 0 ?\n",
              "          100 :\n",
              "          Math.round((position / fileData.byteLength) * 100);\n",
              "      percent.textContent = `${percentDone}% done`;\n",
              "\n",
              "    } while (position < fileData.byteLength);\n",
              "  }\n",
              "\n",
              "  // All done.\n",
              "  yield {\n",
              "    response: {\n",
              "      action: 'complete',\n",
              "    }\n",
              "  };\n",
              "}\n",
              "\n",
              "scope.google = scope.google || {};\n",
              "scope.google.colab = scope.google.colab || {};\n",
              "scope.google.colab._files = {\n",
              "  _uploadFiles,\n",
              "  _uploadFilesContinue,\n",
              "};\n",
              "})(self);\n",
              "</script> "
            ],
            "text/plain": [
              "<IPython.core.display.HTML object>"
            ]
          },
          "metadata": {},
          "output_type": "display_data"
        },
        {
          "name": "stdout",
          "output_type": "stream",
          "text": [
            "Saving regulamento_abertura_conta.pdf to regulamento_abertura_conta.pdf\n",
            "Arquivo carregado: regulamento_abertura_conta.pdf\n"
          ]
        }
      ],
      "source": [
        "from google.colab import files\n",
        "uploaded = files.upload()\n",
        "file_path = list(uploaded.keys())[0]\n",
        "print(f\"Arquivo carregado: {file_path}\")\n",
        "#preparando o documento"
      ]
    },
    {
      "cell_type": "code",
      "execution_count": null,
      "metadata": {
        "colab": {
          "base_uri": "https://localhost:8080/"
        },
        "id": "ClxmA6OKElwi",
        "outputId": "fe070106-64da-4613-b1a4-ff98ad47b3ae"
      },
      "outputs": [
        {
          "data": {
            "text/plain": [
              "Document(metadata={'producer': 'Adobe PDF Library 15.0', 'creator': 'Adobe InDesign 14.0 (Windows)', 'creationdate': '2020-02-18T16:28:54-03:00', 'source': 'regulamento_abertura_conta.pdf', 'file_path': 'regulamento_abertura_conta.pdf', 'total_pages': 23, 'format': 'PDF 1.4', 'title': '', 'author': '', 'subject': '', 'keywords': '', 'moddate': '2020-02-18T16:28:58-03:00', 'trapped': '', 'modDate': \"D:20200218162858-03'00'\", 'creationDate': \"D:20200218162854-03'00'\", 'page': 1}, page_content='2/23\\nMOD.: 4769-023E                    VERSÃO: 02/2020\\nRegulamento para Abertura de Contas de \\nDepósito, Produtos e Serviços - Pessoa Física\\nÍndice\\nCartão Next..........\\nRegulamento das Condições para Abertura, Movimentação, Manutenção e Encerramento de \\nContas de Depósito, bem como Produtos e Serviços - Pessoa Física ...........\\nI - Definições.............\\nII - Condições para Abertura, Movimentação e Manutenção da Conta de Depósito\\nIII - Tarifas, Taxas, Despesas e/ou outros Encargos \\nIV - Serviço de Avaliação  Emergencial de Crédito do Cartão de Crédito Next\\nV - Aplicações e Resgates Automáticos de Valores\\nVI - Acolhimento de Ordens de Débito na Conta de Depósito\\nVII - Movimentação da Conta de Depósito por Valores em Espécie\\nVIII - Movimentação da Conta de Depósito por Cheques \\nIX - Movimentação da Conta de Depósito por Meio do Cartão Next\\nX – Acesso e Movimentação da Conta de Depósito por meio do Aplicativo Next \\nXI - Acesso aos Serviços da Central de Relacionamento Next \\nXII - Poupança Fácil Next \\nXIII - Responsabilidade do Cliente pelo uso de Senhas \\nXIV - Prestação de Contas por Extratos . \\nXV - Encerramento de Conta de Depósito \\nXVI - Dispositivos de Segurança \\nXVII – Da Coleta de Vídeos e Dados Biométricos do Cliente\\nXVIII- Dos Produtos e Serviços Contratados no Ato da Abertura da Conta.\\nXIX – Foro\\nAnexo - Condições para Contratação e Utilização dos Produtos e/ou Serviços por Meio do Termo \\nde Adesão a Produtos e Serviços.')"
            ]
          },
          "execution_count": 15,
          "metadata": {},
          "output_type": "execute_result"
        }
      ],
      "source": [
        "from pathlib import Path\n",
        "from langchain_community.document_loaders import PyMuPDFLoader\n",
        "\n",
        "file_path = \"regulamento_abertura_conta.pdf\"\n",
        "\n",
        "loader = PyMuPDFLoader(file_path)\n",
        "doc = loader.load()\n",
        "doc[1]\n",
        "#carregando documento pdf para usar como fonte de contexto - montando estrutura"
      ]
    },
    {
      "cell_type": "code",
      "execution_count": null,
      "metadata": {
        "colab": {
          "base_uri": "https://localhost:8080/"
        },
        "id": "Nvvx8cRGE459",
        "outputId": "459783dc-b5d5-4a4a-9eb2-20a267728636"
      },
      "outputs": [
        {
          "name": "stdout",
          "output_type": "stream",
          "text": [
            "{'producer': 'Adobe PDF Library 15.0',\n",
            " 'creator': 'Adobe InDesign 14.0 (Windows)',\n",
            " 'creationdate': '2020-02-18T16:28:54-03:00',\n",
            " 'source': 'regulamento_abertura_conta.pdf',\n",
            " 'file_path': 'regulamento_abertura_conta.pdf',\n",
            " 'total_pages': 23,\n",
            " 'format': 'PDF 1.4',\n",
            " 'title': '',\n",
            " 'author': '',\n",
            " 'subject': '',\n",
            " 'keywords': '',\n",
            " 'moddate': '2020-02-18T16:28:58-03:00',\n",
            " 'trapped': '',\n",
            " 'modDate': \"D:20200218162858-03'00'\",\n",
            " 'creationDate': \"D:20200218162854-03'00'\",\n",
            " 'page': 0}\n"
          ]
        }
      ],
      "source": [
        "import pprint\n",
        "\n",
        "pprint.pp(doc[0].metadata)\n",
        "#exibindo metadados"
      ]
    },
    {
      "cell_type": "code",
      "execution_count": null,
      "metadata": {
        "colab": {
          "base_uri": "https://localhost:8080/"
        },
        "id": "07dCuNThF0GG",
        "outputId": "3d62d6e8-7bea-4314-dc03-d5f150580ebb"
      },
      "outputs": [
        {
          "data": {
            "text/plain": [
              "1187"
            ]
          },
          "execution_count": 17,
          "metadata": {},
          "output_type": "execute_result"
        }
      ],
      "source": [
        "len(doc[0].page_content)\n",
        "#medindo o tamanho do texto da 1 página"
      ]
    },
    {
      "cell_type": "code",
      "execution_count": null,
      "metadata": {
        "colab": {
          "base_uri": "https://localhost:8080/"
        },
        "id": "PPrriFCoGEXd",
        "outputId": "4dcf27f2-fa87-4ea1-ba42-b28e7fcbd2d4"
      },
      "outputs": [
        {
          "name": "stdout",
          "output_type": "stream",
          "text": [
            "1/23\n",
            "MOD.: 4769-023E                    VERSÃO: 02/2020\n",
            "Regulamento para Abertura de Contas de \n",
            "Depósito, Produtos e Serviços - Pessoa Física\n",
            "Importante:\n",
            "- Emprestar sua Conta de Depósito para utilização por terceiros poderá acarretar problemas \n",
            "graves, inclusive, sob o ponto de vista legal;\n",
            "- Não empreste sua Conta de Depósito ou o seu Cartão Next para utilização por terceiros;\n",
            "- Cuidado com o uso de Códigos Secretos (Senhas). Eles são pessoais e intransferíveis.\n",
            "Prezado Cliente,\n",
            "Sem prejuízo do disposto neste Regulamento, a abertura, a manutenção, a movimentação \n",
            "e o encerramento de Contas de Depósito, bem como produtos e serviços bancários, são \n",
            "regulamentados por normas do Banco Central do Brasil, do Conselho Monetário Nacional \n",
            "(Circulares e Resoluções) e por Leis Federais que estipulam as responsabilidades de ambas as \n",
            "partes, as quais recomendamos a prévia leitura e entendimento.\n",
            "O acesso às Circulares e Resoluções do Banco Central do Brasil e do Conselho Monetário Nacional, \n",
            "respectivamente, poderá ser efetuado por meio do site: www.bcb.gov.br, no ícone Legislação e \n",
            "Normas, enquanto o acesso às Leis Federais poderá se dar por meio do site: www.planalto.gov.br.\n"
          ]
        }
      ],
      "source": [
        "print(doc[0].page_content[:2000])\n",
        "#exibindo os primeiros mil caracters"
      ]
    },
    {
      "cell_type": "code",
      "execution_count": null,
      "metadata": {
        "id": "o-9LJOs7GZHE"
      },
      "outputs": [],
      "source": [
        "def extract_text_pdf(file_path):\n",
        "  loader = PyMuPDFLoader(file_path)\n",
        "  doc = loader.load()\n",
        "  content = \"\\n\".join([page.page_content for page in doc])\n",
        "  return content\n",
        "#extraindo todo texto em uma unica string"
      ]
    },
    {
      "cell_type": "code",
      "execution_count": null,
      "metadata": {
        "colab": {
          "base_uri": "https://localhost:8080/",
          "height": 145
        },
        "id": "REQ7dAjTG4ej",
        "outputId": "22f6fb94-8d54-434f-ce52-3314240b8c78"
      },
      "outputs": [
        {
          "data": {
            "application/vnd.google.colaboratory.intrinsic+json": {
              "type": "string"
            },
            "text/plain": [
              "'1/23\\nMOD.: 4769-023E                    VERSÃO: 02/2020\\nRegulamento para Abertura de Contas de \\nDepósito, Produtos e Serviços - Pessoa Física\\nImportante:\\n- Emprestar sua Conta de Depósito para utilização por terceiros poderá acarretar problemas \\ngraves, inclusive, sob o ponto de vista legal;\\n- Não empreste sua Conta de Depósito ou o seu Cartão Next para utilização por terceiros;\\n- Cuidado com o uso de Códigos Secretos (Senhas). Eles são pessoais e intransferíveis.\\nPrezado Cliente,\\nSem prejuízo do disposto neste Regulamento, a abertura, a manutenção, a movimentação \\ne o encerramento de Contas de Depósito, bem como produtos e serviços bancários, são \\nregulamentados por normas do Banco Central do Brasil, do Conselho Monetário Nacional \\n(Circulares e Resoluções) e por Leis Federais que estipulam as responsabilidades de ambas as \\npartes, as quais recomendamos a prévia leitura e entendimento.\\nO acesso às Circulares e Resoluções do Banco Central do Brasil e do Conselho Monetário Nacional, \\nrespectivamente, poderá ser efetuado por meio do site: www.bcb.gov.br, no ícone Legislação e \\nNormas, enquanto o acesso às Leis Federais poderá se dar por meio do site: www.planalto.gov.br.\\n2/23\\nMOD.: 4769-023E                    VERSÃO: 02/2020\\nRegulamento para Abertura de Contas de \\nDepósito, Produtos e Serviços - Pessoa Física\\nÍndice\\nCartão Next..........\\nRegulamento das Condições para Abertura, Movimentação, Manutenção e Encerramento de \\nContas de Depósito, bem como Produtos e Serviços - Pessoa Física ...........\\nI - Definições.............\\nII - Condições para Abertura, Movimentação e Manutenção da Conta de Depósito\\nIII - Tarifas, Taxas, Despesas e/ou outros Encargos \\nIV - Serviço de Avaliação  Emergencial de Crédito do Cartão de Crédito Next\\nV - Aplicações e Resgates Automáticos de Valores\\nVI - Acolhimento de Ordens de Débito na Conta de Depósito\\nVII - Movimentação da Conta de Depósito por Valores em Espécie\\nVIII - Movimentação da Conta de Depósito por Cheques \\nIX - Movimentação da Conta de Depósito por Meio do Cartão Next\\nX – Acesso e Movimentação da Conta de Depósito por meio do Aplicativo Next \\nXI - Acesso aos Serviços da Central de Relacionamento Next \\nXII - Poupança Fácil Next \\nXIII - Responsabilidade do Cliente pelo uso de Senhas \\nXIV - Prestação de Contas por Extratos . \\nXV - Encerramento de Conta de Depósito \\nXVI - Dispositivos de Segurança \\nXVII – Da Coleta de Vídeos e Dados Biométricos do Cliente\\nXVIII- Dos Produtos e Serviços Contratados no Ato da Abertura da Conta.\\nXIX – Foro\\nAnexo - Condições para Contratação e Utilização dos Produtos e/ou Serviços por Meio do Termo \\nde Adesão a Produtos e Serviços.\\n3/23\\nMOD.: 4769-023E                    VERSÃO: 02/2020\\nRegulamento para Abertura de Contas de \\nDepósito, Produtos e Serviços - Pessoa Física\\nCartão Next \\nCuidados Especiais com o seu Cartão:\\n• Não deixe que outras pessoas conheçam ou vejam o seu Código Secreto (Senha) enquanto \\ndigitá-lo, seja no Aplicativo \\nNext, na máquina de Autoatendimento ou em qualquer outro Meio eletrônico de atendimento;\\n• Nunca peça nem aceite orientação de estranhos. Seja cauteloso com quem estiver próximo de você;\\n• Não empreste seu Cartão a terceiros;\\n• A sua Senha é a sua Assinatura Eletrônica. Cuidado! Não revele a ninguém;\\n• Evite expor o seu Cartão ao calor ou a campos magnéticos, tais como: aparelhos eletroeletrônicos \\n(rádio, TV, vídeo, som, telefone celular, controle remoto, geladeira e outros) bolsa/carteira com \\nfecho ou adesivo magnético.\\n4/23\\nMOD.: 4769-023E                    VERSÃO: 02/2020\\nRegulamento para Abertura de Contas de \\nDepósito, Produtos e Serviços - Pessoa Física\\nRegulamento das Condições para Abertura, Movimentação, Manutenção e Encerramento \\nde Contas de Depósito, bem como Produtos e Serviços - Pessoa Física\\nEste Regulamento das Condições para Abertura, Movimentação, Manutenção e Encerramento de \\nContas de Depósito, bem como para Produtos e Serviços - Pessoa Física (“Regulamento”), juntamente \\ncom  o  Termo de Adesão  a  Produtos  e  Serviços (“Termo de Adesão”) e a  Ficha-Proposta de \\nAbertura de Contas de Depósito (“Ficha-Proposta”) têm a finalidade de disciplinar a relação jurídica \\nentre o Banco Bradesco S.A., com sede no “Núcleo Cidade de Deus”, s/n.º, Vila Yara, Osasco/\\nSP, inscrito no CNPJ/MF sob nº 60.746.948/0001-12, doravante designado “Next”, e o Cliente, \\npessoa física nomeada e qualificada na Ficha-Proposta e ali identificado como Proponente, para \\na abertura, movimentação, manutenção e encerramento de Contas de Depósito - Pessoa Física, \\nna modalidade Conta Fácil, espécies e características por ele, Cliente, livremente escolhidas, bem \\ncomo no que tange aos produtos e serviços bancários livremente contratados pelo Cliente conforme \\nTermo de Adesão, estipulando os direitos e obrigações aos quais as Partes ficarão submetidas, a partir \\ndo instante em que o Cliente formalizar, por meio da assinatura da Ficha-Proposta e do Termo de \\nAdesão, a concordância com as condições gerais e específicas previstas neste documento.\\nOs vínculos jurídicos que decorrem dos termos deste Regulamento dispensam a formalização de \\noutro documento específico, estando concordes as Partes com todos os seus termos e condições, \\njuntamente com todos os termos e condições da Ficha-Proposta e do Termo de Adesão, devidamente \\nfirmados, valerão para elas como negócio jurídico perfeito e acabado, devendo produzir, de imediato, \\nos seus efeitos jurídicos.\\nO Next disponibilizaráenviará ao Cliente uma via deste Regulamento e de suas eventuais atualizações \\nem Meio Eletrônico, conforme abaixo definido. \\nAlém da cópia enviada ao Cliente neste ato, este Regulamento e suas posteriores alterações, o Termo \\nde Adesão e a Ficha-Proposta estão à disposição no Aplicativo Next, podendo o Cliente acessá-los \\npara consultas e/ou impressão, a qualquer tempo. \\nDe um lado, o Next e, de outro lado, o Cliente, têm entre si ajustada e contratada a abertura de \\nconta bancária (“Conta de Depósito” ou “Conta”), de acordo com a modalidade Conta Fácil, espécies \\ne características livremente escolhidas pelo Cliente, destinada a acolher e movimentar valores, bem \\ncomo a contratação de determinados produtos e/ou serviços, conforme opções constantes do Termo \\nde Adesão que se disciplinarão pelas disposições deste Regulamento e ficarão submetidas ao que \\ndispuserem a lei e os normativos das autoridades competentes.\\nI - Definições\\n1 - Para a perfeita interpretação deste Regulamento, as expressões grafadas na forma abaixo terão \\nos seguintes significados: \\n“Agência”: é a dependência fixa destinada ao atendimento ao Cliente e ao público em geral no \\nexercício de atividades da instituição, não podendo ser móvel ou transitória. A Conta de Depósito e \\ndemais operações contratadas com Cliente devem estar vinculadas à agência Next.\\n“Autoatendimento”: é o atendimento promovido pelo próprio Cliente em interação com as \\nmáquinas e outros Meios Eletrônicos de atendimento disponibilizados pelo Next.\\n“BACEN”: é o Banco Central do Brasil, agente financeiro do Conselho Monetário Nacional, sendo o órgão \\nresponsável pela fiscalização das instituições financeiras integrantes do Sistema Financeiro Nacional.\\n“Central de Relacionamento Next”: são os canais de comunicação disponibilizados pelo Next, \\ncomo Chat, e-mail ou ligações telefônicas, que permitem ao Cliente realizar diversos serviços e \\ntransações bancárias, mediante atendimento personalizado.\\n“CMN”: é o Conselho Monetário Nacional, órgão deliberativo do Sistema Financeiro Nacional, ao \\nqual compete, dentre outras atividades, a regulação e fiscalização das instituições financeiras.\\n5/23\\nMOD.: 4769-023E                    VERSÃO: 02/2020\\nRegulamento para Abertura de Contas de \\nDepósito, Produtos e Serviços - Pessoa Física\\n“Conta de Depósito” ou “Conta”: é a conta bancária na modalidade Conta Fácil, com as \\ncaracterísticas previstas neste Regulamento, em que são possíveis o acolhimento e a movimentação \\nde recursos financeiros. \\n“Documentos Eletrônicos”: entende-se por documento eletrônico o registro magnético ou eletrônico \\nda instrução comandada pelo Cliente em interatividade com as máquinas de Autoatendimento \\ndisponibilizadas pelo Next; os registros magnéticos ou eletrônicos de operações feitas com a utização \\nde Smartphone, nas transações realizadas pelo Aplicativo Next ou, ainda, os registros magnéticos ou \\neletrônicos realizados por outro meio similar que vier a ser disponibilizado pelo Next ao Cliente.\\n“Investimentos Administrados/Aplicações Financeiras”: são aplicações feitas pelo Cliente ou \\npelo Next, este quando autorizado ou instruído pelos primeiros, de recursos financeiros disponíveis \\nem Títulos e/ou Valores Mobiliários, sob custódia ou não do Next, e/ou em depósitos de poupança \\ncustodiados no Next, e/ou em cotas de Fundos de Investimento sob a administração, gestão e/ou \\ncomercialização do Next, com a finalidade de obter rendimentos.\\n“Meio” ou “Meios”: são os seguintes canais de comunicação entre o Next e o Cliente: (I) Aplicativo \\nNext; (II) Autoatendimento e ou Rede Conveniada; (III) Meios Eletrônicos, conforme abaixo definidos; \\n(IV) Central de Relacionamento Next; (V) Agências; (VI) correspondências e outros documentos trocados \\nentre o Next e o Cliente (“Documentos Físicos” ou “Meios Físicos”); e (VII) Documentos Eletrônicos.\\n“Meio Eletrônico” ou “Meios Eletrônicos”: procedimento mediante o qual o Next oferece ou venha a \\noferecer ao Cliente a possibilidade de acesso remoto e/ou eletrônico, incluindo, mas sem limitar, os seguintes: \\n(I) Aplicativo Next, disponível para acesso pelo Cliente aderentes ao “Termo de Adesão  e Condições de Uso” \\ndo canal; (II) redes, sistemas eletrônicos, telefônicos e/ou de processamento de dados do Next, (III) redes, \\nsistemas eletrônicos, telefônicos e/ou de processamento de dados do Cliente, com ou sem intermediação \\nde outros sistemas eletrônicos, de comunicação e/ou de processamento de dados que não os utilizados na \\nInternet; (IV) softwares que permitam a comunicação e a interação entre o Next e o Cliente. \\n“Parte”: significa o Next ou o Cliente, indistintamente, assim considerado isoladamente.\\n“Partes”: significam o Next e o Cliente quando considerados conjuntamente.\\n“Produtos e/ou Serviços”: são os produtos e/ou serviços descritos neste Regulamento que foram \\ncontratados no ato de abertura da Conta de Depósito, mediante a assinatura pelo Cliente do Termo \\nde Adesão e da devida aprovação do Next.\\n“Quadro de Tarifas”: é o Cartaz de Serviços Bancários - Tabela de Tarifas vigente, afixado em local \\nvisível na Agência Next, bem como divulgado no Aplicativo Next, no site www.bradesco.com.br e \\nna Home Page next.me, onde constam os valores e os respectivos produtos e serviços que estejam \\nvinculados ou não à utilização da Conta de Depósito, incluindo as taxas de juros do Limite de Crédito \\nEspecial, previstos no Anexo deste Regulamento.\\n“Rede Conveniada”: são as empresas que o Next mantém acordo de utilização/compartilhamento \\nde seus pontos de atendimento para fins de prestação de serviços bancários, a exemplo da rede \\n“Banco24 Horas”.\\nAs condições contratuais gerais e específicas da Conta de Depósito, dos produtos e dos serviços \\ncontratados pelo Cliente são as que constam das cláusulas adiante, sem prejuízo do quanto disposto \\nna Ficha-Proposta ou no Termo de Adesão.\\nII - Condições para Abertura, Movimentação e Manutenção da Conta de Depósito\\n2.1 - O Next oferece condições para abertura de Conta de Depósito, na modalidade Conta Fácil, que \\npermite a movimentação da Conta Corrente juntamente com a Conta-Poupança (“Poupança Fácil”). \\nA Conta Fácil apresenta-se como sendo a Conta de Depósito formada pela Conta Corrente e pela \\nConta-Poupança, ambas sob o mesmo número.\\n6/23\\nMOD.: 4769-023E                    VERSÃO: 02/2020\\nRegulamento para Abertura de Contas de \\nDepósito, Produtos e Serviços - Pessoa Física\\n2.2 - Na Conta Fácil vigorará o Sistema de Resgate Automático, por meio do qual os valores \\ndepositados ou direcionados para a Poupança Fácil serão resgatados automaticamente para \\ncobrir eventual saldo devedor na Conta Corrente do Cliente e evitar que esta apresente \\ninsuficiência de fundos.\\n2.3 - O Cliente declara ter pleno conhecimento de que as franquias de serviços da Conta \\nCorrente e Poupança Fácil são diferentes, ficando ao seu exclusivo critério a escolha da conta \\nem que realizará as transações, sendo que as tarifas das transações excedentes variam de \\nacordo com o canal em que foi realizada a operação. \\n2.4 - Será disponibilizada ao Cliente a Conta de Depósitos na espécie Conta Individual, que é a conta \\ntitularizada por uma única pessoa, cuja movimentação será feita apenas pelo titular, o Cliente.\\n2.5 - A movimentação a débito da Conta de Depósito por Meio Físico exigirá autorização expressa do \\nCliente nos documentos, físicos ou eletrônicos, correspondentes. A Conta de Depósito, de acordo \\ncom sua modalidade, espécie e características, é movimentada com a utilização de Cartão Next ou \\npor qualquer Meio Eletrônico, nos limites estabelecidos pelo Next. O Cliente fará uso de Senha que \\né pessoal e intransferível, assim como dos demais Dispositivos de Segurança que o Next exija ou \\nvenha a exigir, para que essas movimentações sejam possíveis.\\n2.6 - Os créditos representados por depósitos em cheques ou outros papéis sujeitos a liquidação por \\nCâmara de Compensação, serão considerados disponíveis para aplicação ou movimentação após a \\nefetiva liquidação, sendo que o prazo de bloqueio consta no cartaz de tarifas afixado na Agência \\nNext, denominado “Serviço de Compensação de Cheques e Outros Papéis - Tabelas de Prazos dos \\nCheques Compensáveis” e disponível no Aplicativo Next.\\n2.7 - O Cliente, desde já, autoriza o Next a realizar os estornos necessários para corrigir \\nlançamentos indevidos decorrentes de erros operacionais ocorridos na Conta de Depósito.\\n2.8 - O Cliente autoriza o Next e as instituições financeiras ou assemelhadas a ele ligadas \\nou por ele controladas a: \\n2.8.1 - Utilizar os seus dados para efeito de elaboração de Ficha Cadastral nas operações de \\ncrédito e outras de qualquer espécie, bem como para fins de cadastramento junto à B3 S.A \\n– Brasil, Bolsa, Balcão (B3) por meio da Ágora Corretora de Títulos e Valores Mobiliários S.A.\\n2.8.2 - O Cliente concorda e autoriza o Next a disponibilizar informações amparadas pelo \\nsigilo bancário a entidades registradoras e liquidantes de operações realizadas no âmbito \\ndo mercado financeiro e de capitais, bem como às entidades autoreguladoras e autarquias, \\nquando elas forem necessárias para o cumprimento de determinação da entidade \\nautoreguladora, de normativos e/ou legislação dos mercados nos quais o Next atue.\\n2.8.3 - O Cliente declara ainda que não possui quaisquer impedimentos para operar no \\nmercado que englobam valores mobiliários e mercado de capitais.\\n2.9 - O Next comunica ao Cliente que: a) todos e quaisquer débitos e responsabilidades \\ndecorrentes de operações com características de crédito realizadas pelo Cliente junto à \\nOrganização Bradesco, incluindo o Next e demais instituições financeiras ou empresas \\na  ele ligadas e/ ou por ele controladas, bem como seus sucessores, serão registrados no \\nSistema de Informações de Créditos (SCR) gerido pelo Banco Central do Brasil (BACEN) e \\ntambém nos eventuais sistemas que venham a substituir ou a complementar o SCR; b) o \\nSCR tem por finalidades: (I) fornecer informações ao BACEN para fins de supervisão do risco \\nde crédito a que estão expostas as instituições financeiras e (II) propiciar o intercâmbio, \\nentre as instituições obrigadas a prestar informações ao SCR, das informações referentes a \\ndébitos e responsabilidades de Cliente de operações de crédito, com o objetivo de subsidiar \\ndecisões de crédito e de negócios; c) o Cliente poderá ter acesso aos dados constantes \\nem seu nome no SCR, por meio da Central de Atendimento ao Público do BACEN; d) as \\nmanifestações de discordância quanto às informações constantes do SCR e os pedidos de\\n7/23\\nMOD.: 4769-023E                    VERSÃO: 02/2020\\nRegulamento para Abertura de Contas de \\nDepósito, Produtos e Serviços - Pessoa Física\\ncorreções, exclusões e registros de medidas judiciais no SCR deverão ser dirigidos ao Next, \\npor meio de requerimento escrito e fundamentado do Cliente, acompanhado da respectiva \\ndecisão judicial, quando for o caso; e) a consulta sobre qualquer informação constante do \\nSCR dependerá da prévia autorização do Cliente.\\n2.9.1 - Diante do comunicado feito acima, o Cliente declara-se ciente da obrigatoriedade do \\nfornecimento pelo Next ao BACEN das informações previstas na letra “a” da Cláusula 2.9.\\n2.10 - Aplicam-se, adicionalmente a este Regulamento, as normas legais e regulamentares em \\nvigor, bem como aquelas que obrigam o Next a manter controles e registros internos consolidados \\nque permitam verificar, além da adequada identificação do Cliente, a compatibilidade entre as \\ncorrespondentes movimentações de recursos, atividade econômica e capacidade financeira. Portanto, \\no Cliente deverá fornecer informações verdadeiras que permitam ao Next avaliar sua capacidade \\neconômico-financeira, incluindo os valores de renda mensal e patrimônio, os propósitos e a \\nnatureza da relação que pretendem estabelecer com o Next, mediante o preenchimento dos \\ndevidos campos da Ficha-Proposta ou da Ficha Cadastral de Cliente Pessoa Física. \\n2.11 - O Next poderá, ainda, solicitar quaisquer informações e/ou documentos adicionais \\npara fazer tal avaliação, caso seja necessário.\\n2.12 - O Cliente declara que conhece as leis que dispõem sobre a prevenção e combate \\naos crimes de “lavagem de dinheiro e de financiamento do terrorismo” e as normas \\ncomplementares editadas pelo BACEN, Conselho Monetário Nacional (CMN) e Secretaria da \\nReceita Federal (SRF) e, ainda, tem ciência de que o Next e as instituições financeiras a ele \\nligadas ou por ele controladas, por força dessas leis e normas, estão obrigados a comunicar \\nàs autoridades competentes a ocorrência de operações previstas nas referidas normas.\\n2.13 - O Cliente declara que as informações prestadas na Ficha-Proposta são expressões da \\nverdade e autoriza a elaboração/atualização da Ficha Cadastral de Cliente Pessoa Física, \\no débito das respectivas tarifas e despesas em Conta de Depósito e o posterior envio dos \\ndados aos órgãos públicos ou privados administradores de bancos de dados.\\n2.14 - Além dos dados e documentos exigidos para abertura da Conta de Depósitos, com \\nbase na regulamentação vigente, especialmente a Resolução CMN nº 4.753/2019, o Next \\npoderá, a seu exclusivo critério, na abertura e/ou durante a constância da manutenção \\nda Conta de Depósito, exigir dados, documentos e declarações que entenda necessários à \\nperfeita identificação, qualificação e conhecimento de seu Cliente, em especial, mas não se \\nlimitando, às informações necessárias à prevenção e ao combate à “lavagem de dinheiro e ao \\nfinanciamento do terrorismo”, à identificação e ao relacionamento das pessoas politicamente \\nexpostas. A recusa do Cliente no fornecimento de dados, informações, documentos e ou \\ndeclarações solicitadas pelo Next poderá, a exclusivo critério deste, ensejar a não abertura \\nda Conta, a não realização da transação e/ou o encerramento da Conta de Depósito.\\n2.15 - O Next, a seu exclusivo critério, poderá colocar à disposição do Cliente, mediante informação \\ninserida no extrato ou enviada por outros Meios disponíveis, limites de crédito previamente aprovados \\nque poderão ser por eleutilizado. A contratação e a aceitação das condições negociais serão \\nefetivadas através de Meios Eletrônicos, sendo que o Cliente terá conhecimento prévio \\ndessas condições antes da confirmação da contratação, que se dará por meio de digitação \\nde senha eletrônica, do reconhecimento de dados biométricos coletados do Cliente e/ou de \\noutros instrumentos de identificação que venham a ser aceitos pelas Partes. Fica desde já \\nacertado que a operação financeira aqui tratada não se realizará caso sejam constatadas \\na existência de restrições cadastrais, de qualquer espécie, em nome do Cliente à época da \\nsolicitação. Poderá o Next, a qualquer momento, cancelar ou alterar o limite previamente \\naprovado ou concedido, mediante aviso prévio nos extratos de movimentação da Conta de \\nDepósito ou por outros Meios disponíveis.\\n2.15.1 - Serão aplicáveis aos limites implantados com base na Cláusula 2.15, acima, as\\n8/23\\nMOD.: 4769-023E                    VERSÃO: 02/2020\\nRegulamento para Abertura de Contas de \\nDepósito, Produtos e Serviços - Pessoa Física\\ndisposições constantes das cláusulas, itens e subitens do Capítulo - Limites de Crédito \\nPessoal, de Crédito Especial e de Crédito Flex Next, do Anexo deste Regulamento, respeitada \\na modalidade de limite que venha a ser implantada pelo Next na Conta de Depósito.\\n2.16 - O Cliente se obriga a informar ao Next, imediatamente, por meio do Aplicativo Next \\ne/ou Central de Relacionamento Next, todas as alterações dos dados cadastrais por ele \\nfornecido no ato da solicitação de abertura da Conta de Depósito. Se a alteração cadastral \\nestiver relacionada com alguma informação desatualizada constante de documentos em \\npoder do Next, o Cliente deverá providenciar as respectivas e imediatas substituições.\\n2.16.1 - Caso o Cliente não providencie a comunicação de qualquer alteração cadastral, fica \\ndesde já esclarecido que as comunicações e correspondências físicas ou eletrônicas enviadas \\npelo Next aos endereços fornecidos na abertura da Conta de Depósito pelo Cliente serão \\nconsideradas como efetivamente recebidas.\\nIII - Tarifas, Taxas, Despesas e/ou outros Encargos\\n3.1 - Observadas os limites das normas do BACEN e do CMN, o Next cobrará tarifas, taxas, \\ndespesas e outros encargos relacionados à Conta de Depósito, bem como à contratação/\\nutilização de Produtos e/ou Serviços relacionados ou não com a Conta de Depósito. Os \\nvalores, os fatos geradores, bem como a periodicidade de cobrança, constam no Quadro de \\nTarifas e nos Meios Eletrônicos disponibilizados de acordo com a legislação vigente. \\n3.1 .1 - No Quadro de Tarifas disponível na Agência Next, no Aplicativo Next, no site www.\\nbradesco.com.br e na Home Page next.me, constará: (I) os serviços essenciais, cuja cobrança \\né proibida pelo BACEN e o CMN, observados os limites de isenção previstos nas normas do \\nBACEN e do CMN; (II) a lista de serviços prioritários, inclusive os Meios de entrega, siglas de \\nlançamento nos extratos da Conta de Depósito, os fatos geradores e o valor dessas tarifas; \\n(III) tabela contendo informações a respeito do Pacote Padronizado; (IV) demais tabelas de \\nserviços e Cestas de Serviços oferecidos pelo Next, observados os fatos geradores, valores e \\nperiodicidade de cobrança previstos no Quadro de Tarifas e/ou nos contratos dos Produtos \\ne/ou Serviços contratados.\\n3.1 .2 - O Cliente poderá optar, na abertura e/ou durante a manutenção da Conta de Depósito, \\npela: (I) utilização e pagamento individualizado dos serviços e produtos relacionados ou não \\ncom a Conta de Depósito; e/ou (II) utilização e pagamento, não individualizado, de serviços \\ne produtos incluídos em Cestas de Serviços, relacionados ou não com a Conta de Depósito.\\n3.2 - Conforme opção constante do Termo de Opção ou a qualquer tempo por meio de \\ncontratação específica, o Cliente poderá escolher uma nova Cesta de Serviços para \\na movimentação de sua Conta e se sujeitará, também, ao pagamento de tarifas, taxas, \\ndespesas e outros encargos sobre os produtos e serviços bancários por ele solicitado e/ou \\ncontratado com o Next, inclusos na respectiva Cesta de Serviços então contratada.\\n3.2.1 - A Cesta de Serviços corresponde ao pagamento mensal de um único valor, que dará \\ndireito aos produtos e serviços previstos em cada Cesta de Serviços.\\n3.2.2 - Ao aderir à Cesta de Serviços oferecida pelo Next, o Cliente aceitará as condições \\nestabelecidas, constantes do Quadro de Tarifas, assim permanecendo essa adesão mesmo na \\nhipótese deste Regulamento vir a sofrer modificações, totais ou parciais. Todavia, a qualquer \\nmomento, o Cliente poderá cessar a contratação da Cesta de Serviços nos mesmos Canais \\ndisponíveis para contratação da mesma, sujeitando-se, nessa hipótese, aos pagamentos \\nnormais constantes do Quadro de Tarifas.\\n3.2.3 - O Cliente que exceder os limites de utilização da Conta de Depósito e/ou dos produtos \\ne serviços contemplados nas Cestas de Serviços por ele livremente escolhidas pagarão pelos \\neventos excedentes as respectivas tarifas, taxas, despesas e outros encargos próprios da \\nutilização individualizada nos moldes constantes do Quadro de Tarifas.\\n9/23\\nMOD.: 4769-023E                    VERSÃO: 02/2020\\nRegulamento para Abertura de Contas de \\nDepósito, Produtos e Serviços - Pessoa Física\\n3.3 - As tarifas, taxas, despesas e outros encargos correrão igualmente por conta do Cliente, \\nse os produtos e/ou serviços, relacionados ou não com a Conta de Depósito, forem solicitados \\ne contratados por intermédio do Aplicativo Next.\\n3.4 - Os valores correspondentes às tarifas, taxas, despesas e outros encargos devidos pelo \\nCliente nos termos deste Regulamento, bem como os tributos incidentes na forma da lei, \\nserão debitados na Conta de Depósito de titularidade do Cliente mantida no Next, sendo os \\nrespectivos débitos, desde já, autorizados.\\n3.5 - A cobrança de novas tarifas e as majorações de seus valores serão divulgadas ao Cliente \\ncom antecedência mínima de 45 (quarenta e cinco) dias para os serviços relacionados a cartão de \\ncrédito e 30 (trinta) dias para os demais serviços, por meio das mídias disponibilizadas pelo Next.\\nIV - Serviço de Avaliação Emergencial de Crédito do Cartão de Crédito Next\\n4.1 - O Cliente poderá contratar com o Next o serviço de avaliação emergencial de crédito, se \\ndisponível à época, através da Central de Atendimento Next e ou de outros canais de atendimento \\neventualmente disponíveis. O serviço consiste na concessão de um limite de crédito superior ao \\ndisponibilizado pelo Next e será extensivo, automaticamente, a todos os Cartões emitidos pelo \\nNext sob a responsabilidade do Cliente, sujeito, portanto, à aprovação do Next.\\n4.1.1 - Pelo serviço de Avaliação Emergencial de Crédito, o Cliente pagará a respectiva tarifa \\nno valor vigente à época da utilização do serviço, demonstrado no Quadro de Tarifas existente \\nna agência do Next e disponibilizado no Aplicativo Next, no site www.bradesco.com.br e na \\nHome Page next.me. A referida tarifa será cobrada uma única vez a cada 30 (trinta) dias e por \\nCartão de Crédito Next, desde que haja a utilização do serviço, por meio de lançamento no \\ndemonstrativo mensal do Cartão de Crédito Next, sob a sigla “AVAL.EMERG.CRÉDITO”.\\n4.2 - A prestação do serviço de Avaliação Emergencial de Crédito dar-se-á por prazo \\nindeterminado, salvo se o Cliente solicitar o seu cancelamento, que poderá ser efetuado \\na qualquer momento na Central de Relacionamento Next e/ou em outros canais de \\natendimento eventualmente disponíveis pelo Next.\\n4.3 - O serviço será prestado sempre que houver autorização de despesas efetuadas com o \\nCartão de Crédito Next do Cliente, no valor superior ao do seu limite de crédito.\\n4.4 - A Avaliação Emergencial de Crédito, desde que aprovada pelo Next, estará disponível \\nem até 24 (vinte e quatro) horas contados da data de sua adesão pelo Cliente.\\nV - Aplicações e Resgates Automáticos de Valores\\n5.1  - Fica o Next desde já autorizado a proceder a resgates automáticos na Poupança Fácil \\nNext, com a finalidade de evitar que a Conta de Depósito do Cliente apresente insuficiência \\nde fundos ou para liquidar obrigações de responsabilidade do Cliente, ainda que tais \\nresgates reflitam na remuneração da Poupança Fácil Next, total ou parcialmente.\\n5.1 .1 - Sem prejuízo da autorização dada na Cláusula 5.1 acima, o Next também procederá \\naos resgates quando solicitados pelo Cliente através dos Meios disponibilizados pelo Next, \\nporém sempre observadas as regras legais e regulamentares vigentes à época das instruções.\\n5.1 .2 - Caso o cliente queira cancelar o serviço de resgate automático, o Banco se compromete \\na acolher o pedido de cancelamento nos mesmos canais utilizados para a contratação.\\n5.2 - O Cliente poderá solicitar a aplicação dos créditos e depósitos realizados na Conta \\nCorrente na Poupança Fácil, por meio do Aplicativo Next ou outros Meios que venham a ser \\ndisponibilizados pelo Next, observadas as normas vigentes à época das instruções.\\nVI - Acolhimento de Ordens de Débito na Conta de Depósito\\n6.1 - O Next não assume qualquer obrigação de acolher ordens de débito na Conta de \\nDepósito sem que nelas existam saldos suficientes e disponíveis, salvo nos casos em que\\n10/23\\nMOD.: 4769-023E                    VERSÃO: 02/2020\\nRegulamento para Abertura de Contas de \\nDepósito, Produtos e Serviços - Pessoa Física\\nhouver a contratação específica de limite de crédito, quando os débitos dar-se-ão até o \\nvalor do limite de crédito concedido. \\nVII - Movimentação da Conta de Depósito por Valores em Espécie\\n7.1 - Nas transações representadas por (I) depósitos em espécie, (II) retiradas em espécie, (III) \\nprovisionamento para retiradas em espécie, (IV) emissão de cheque administrativo, TED - \\nTransferência Eletrônica Disponível ou de qualquer outro instrumento de transferência de fundos \\ncontra pagamento em espécie e (V) pagamentos e recebimentos em espécie, de qualquer natureza, \\nefetuadas pelo próprio Cliente, este se obriga a identificar, sempre que requerido por norma \\nestabelecida por autoridade competente, os seguintes intervenientes das respectivas transações:\\n7.1.1 - O nome e o número do CPF ou do CNPJ do proprietário do dinheiro; \\n7.1.2 - O nome e o número do CPF ou do CNPJ do beneficiário do dinheiro; e\\n7.1.3 - O nome e o número do CPF ou do CNPJ do portador do dinheiro.\\n7.2 - A negativa em fornecer qualquer um dos elementos de identificação mencionados nos \\nitens 7.1.1, 7 .1.2 e 7.1.3 acima implicará na não aceitação da transação.\\n7.3 - Observado o disposto neste Regulamento, na hipótese de saques de valores superiores \\na R$ 5.000,00 (cinco mil reais), o Cliente se obriga a fazer a solicitação por meio da Central de \\nRelacionamento Next, com antecedência mínima de 1 (um) dia, indicando uma agência Bradesco \\npara retirada do recurso, por meio de atendimento pessoal. As Partes reconhecem que as \\nautoridades competentes poderão alterar a definição de valores e o prazo de antecedência mínima \\nprevistos nesta Cláusula e comprometem-se a observá-los sempre que vierem a ser alterados.\\nVIII - Movimentação da Conta de Depósito por Cheques\\n8.1 - O Next não disponibiliza cheques para a movimentação da Conta de Depósito, sendo possível \\napenas a realização de depósitos de cheques emitidos por terceiros em favor do Cliente. \\n8.1.1 - O Cliente/beneficiário/depositário dos cheques (que é aquele que deposita em sua Conta de \\nDepósito mantida no Next, cheque emitido por terceira pessoa), autoriza expressamente o Next, \\nna hipótese de o cheque depositado ter sido devolvido e incluído no CCF, a fornecer ao emissor do \\ncheque, o seu nome completo, endereço residencial e comercial, mediante a solicitação por parte do \\nemissor nesse sentido e a apresentação da cópia do referido cheque.\\n8.2. No caso de devolução de cheque depositado na conta do Cliente, este, que é beneficiário do \\ndepósito (depositário do cheque), deverá, no momento em que tomar conhecimento da sua devolução \\npor meio de consulta ao extrato da conta ou por meio de contato da Central de Relacionamento \\nNext, indicar uma agência do Bradesco para a retirada do cheque, mediante atendimento pessoal.\\n8.2.1. Como o cheque poderá ser devolvido em outra Agência, que não a de relacionamento do \\nCliente, este concorda, desde já, que a sua devolução não está sujeita ao prazo regulamentar.\\nIX - Movimentação da Conta de Depósito por Meio do Cartão Next\\n9.1 - Condições Gerais:\\n9.1.1 - O Next poderá proporcionar ao Cliente, conforme contratação constante do Termo de \\nAdesão, a movimentação da Conta de Depósito por meio de cartão magnético (“Cartão Next”), que \\nserá emitido após a gravação de Senhas por meio do Aplicativo Next.  \\n9.1.2 - As Senhas para a utilização do Cartão Next serão escolhidas pelo Cliente, respeitada \\na limitação sistêmica, delas não tendo conhecimento ou envolvimento os empregados ou \\nprepostos do Next. As Senhas são de uso exclusivamente pessoal, intransferíveis e confidenciais \\ne valerão como assinaturas do Cliente, que poderá utilizá-las no Aplicativo Next, na Central de \\nRelacionamento Next, nas máquinas de Autoatendimento do Bradesco, na rede compartilhada \\ndo Banco24horas ou em outros Meios Eletrônicos eventualmente disponibilizados pelo Next.\\n11/23\\nMOD.: 4769-023E                    VERSÃO: 02/2020\\nRegulamento para Abertura de Contas de \\nDepósito, Produtos e Serviços - Pessoa Física\\n9.1.3 - O Cliente receberá o Cartão Next ciente das seguintes condições:\\n9.1.3.1 - Da qualidade de fiel depositário, assumindo, de forma gratuita, os encargos e \\nresponsabilidades fixadas pela legislação vigente, tendo em vista ser o Cartão de propriedade \\ndo Next;\\n9.1.3.2 - De que seu uso é de caráter pessoal e intransferível pela pessoa nele identificada, \\na qual colocará sua assinatura no campo próprio, podendo ser o Cartão Next cancelado \\na qualquer tempo, hipótese em que ele deverá ser inutilizado, ficando assegurada a \\nmovimentação da Conta por outros Meios;\\n9.1.3.3 - Da obrigação de comunicar imediatamente ao Next, além do cancelamento \\nprevisto no item 8.1.8 abaixo, a ocorrência de perda, furto, roubo, extravio ou suspeita de \\nque o Cartão Next esteja sendo utilizado por terceiros, para tanto acessando os serviços \\nde Autoatendimento do Bradesco e Central de Relacionamento Next, ou, ainda, por \\nintermédio de outros Meios que são ou venham a ser disponibilizados pelo Next para esse \\nfim. Nessas hipóteses, o Cliente permanecerá, até o momento da comunicação, como o \\núnico responsável pelo uso indevido do Cartão Next.\\n9.1.4 - O Cliente não se exime da responsabilidade se, porventura, o Cartão Next vier a ser \\nutilizado por terceiro com o conhecimento das Senhas.\\n9.1.5 - Caso existam indícios ou suspeitas de uso indevido do Cartão de Débito, o Next contatará \\no Cliente para confirmações e, caso esse contato deixe de ocorrer por qualquer motivo, o Next \\npoderá efetuar o cancelamento do Cartão. O Next poderá, a seu exclusivo critério, solicitar ao \\nCliente a troca da Senha de 6 (seis) dígitos e/ou a substituição do Cartão Next.\\n9.1.6 - O Cartão Next será enviado ao Cliente no endereço residencial indicado na Ficha-Proposta. \\n9.1.7 - O Cliente não poderá fornecer a terceiros informações sobre as suas Senhas ou sobre \\no Cartão Next, qualquer que seja a natureza dessas informações.\\n9.1.8 - Na eventualidade do Cartão Next ficar retido em quaisquer das máquinas de \\nAutoatendimento do Bradesco, o Cliente deverá fazer imediatamente o seu cancelamento na \\nprópria máquina, na máquina mais próxima, ou solicitar o cancelamento por meio da Central \\nde Relacionamento Next. Para solicitar um novo Cartão Next, o Cliente deverá solicitar uma \\nnova via por meio do Aplicativo Next ou contatar a Central de Relacionamento Next.\\n9.1.9 - Havendo dúvida quanto à utilização das máquinas de Autoatendimento instaladas \\nnas Agências Bradesco, o Cliente deverá procurar os funcionários do Bradesco devidamente \\nidentificados, e jamais aceitar orientações de estranhos.\\n9.1.10 - Na hipótese de descumprimento de qualquer cláusula ou condição estabelecida \\nneste Regulamento, o Next poderá cancelar o Cartão Next de imediato, independentemente \\nde qualquer aviso ou notificação.\\n9.2 - Condições Específicas para a Função Débito\\n9.2.1 - Conforme opção constante do Termo de Adesão, o Cliente poderá utilizar o Cartão Next \\nna função débito, nas máquinas de Autoatendimento de qualquer Agência Bradesco, na Rede Plus \\nExterior (mediante prévia habilitação) e nos estabelecimentos credenciados no Brasil, sendo permitidas \\ntodas as transações disponibilizadas pelas Administradoras indicadas no Cartão, observados os limites \\nestabelecidos pelo Next.\\n9.2.2 - Nas operações de compras efetuadas no comércio em geral dentro do território nacional, o \\nsistema fará o débito automático do valor na Conta de Depósito do Cliente.\\n9.2.3 - As operações realizadas pelo Cliente no exterior envolvendo saques configuram \\noperações de câmbio (troca de moeda nacional por estrangeira) e os valores a elas\\n12/23\\nMOD.: 4769-023E                    VERSÃO: 02/2020\\nRegulamento para Abertura de Contas de \\nDepósito, Produtos e Serviços - Pessoa Física\\ncorrespondentes, adicionados das tarifas em moeda estrangeira divulgados no Quadro \\nde Tarifas, serão convertidos para moeda nacional (reais), com base na cotação do dólar \\namericano - valor de venda - vigente na data da transação e serão, em seguida, debitados \\nna Conta de Depósito do Cliente em tempo real, observados o seguinte:\\na) o valor dos saques efetuados com o Cartão Next na função Débito no exterior, em outra \\nmoeda que não seja o dólar americano, será convertido em dólar dos Estados Unidos da \\nAmérica para, em seguida, ser convertida para a moeda nacional (reais), de acordo com \\na prática adotada mundialmente, em obediência às normas aplicáveis à conversão de \\nqualquer moeda estrangeira no país em que a despesa tenha sido efetuada;\\nb) o valor da cotação do dólar dos Estados Unidos da América é flutuante (oscila) durante o \\ndia. Essa cotação é efetuada com base na cotação do dólar no Mercado de Câmbio de Taxas \\nflutuantes, por isso pode alcançar valores diferenciados no decorrer do dia;\\nc) dentre as oscilações ocorridas durante o dia, o Next elegerá a cotação de referência, \\nem horário de sua escolha, a ser utilizada na conversão de todas as operações de saque \\nacontecidas no dia da transação;\\nd) sobre o valor da cotação de conversão aplicada pelo Next, incidirá o percentual divulgado \\nno Quadro de Tarifas, no momento da concretização da operação de saque, o que corresponde \\nao custo da operação.\\n9.3 - Condições Específicas para a Função Crédito do Cartão Next.\\n9.3.1 - Conforme o caso, o Cliente poderá utilizar o Cartão Next na função Crédito, desde que haja \\na efetiva contratação, conforme opção constante do Termo de Adesão, e após análise e aprovação do \\nNext, devendo ser observadas as cláusulas destee Regulamento e as do Regulamento de Utilização \\ndos Cartões de Crédito Next.\\n9.3.2 - O Cartão Múltiplo Next (Cartão Múltiplo) é a modalidade do cartão que possui: (a) função de \\ncrédito, por meio da qual é permitido realizar compras no Brasil e no exterior (este último quando o \\nCartão for internacional), e saques emergenciais quando disponibilizada essa função pelo Emissor \\nexclusivamente em terminais eletrônicos; (b) função de débito que permite efetuar saque e/ou \\ncompras mediante débito direto na conta corrente do Cliente mantida no Next.\\n9.3.3 - Os pagamentos das Despesas efetuadas com o Cartão Múltiplo serão realizados \\npreferencialmente por meio de débito na agência e conta corrente vinculada ao cartão que possui a \\nfunção de crédito liberada.\\n9.3.4 - A utilização de ambas as funções de crédito subordina-se às regras de seu respectivo \\nRegulamento, e às regras dispostas neste Regulamento que são disponibilizados neste ato ao Cliente.\\n9.3.5 - Pela utilização dessas funções, o Cliente pagará, mensalmente, as tarifas constantes do \\nQuadro de Tarifas Vigentes e nos respectivos Regulamentos.\\nX - Acesso e Movimentação da Conta de Depósito por meio do Aplicativo Next, Central de \\nRelacionamento Next e máquinas de Autoatendimento Bradesco\\n10.1 - O Cliente poderá acessar sua Conta de Depósito por meio do Aplicativo Next, da \\nCentral de Relacionamento Next e das máquinas de Autoatendimento do Bradesco.\\n10.1.1 - Os clientes podem realizar depósito nas máquinas de autoatendimento bradesco, \\nexceto máquinas de depósito imediato.”\\n10.2 - A movimentação da Conta de Depósito por meio dos canais indicados acima estará \\nsujeita à cobrança das tarifas constantes do Quadro de Tarifas vigente e observará os valores \\ne os limites estabelecidos para a realização de transações dessa espécie.\\n10.3 - A fim de ter acesso aos produtos e serviços do Aplicativo Next, por ocasião da \\nabertura da Conta de Depósito, o Cliente deverá criar suas Senhas no próprio Aplicativo \\nNext. As Senhas são conferidas em caráter pessoal e intransferível, assumindo o Cliente\\n13/23\\nMOD.: 4769-023E                    VERSÃO: 02/2020\\nRegulamento para Abertura de Contas de \\nDepósito, Produtos e Serviços - Pessoa Física\\ntotal responsabilidade pelas ordens por ele enviadas que são consideradas como ordens \\nescritas, portanto, válidas e eficazes.\\n10.4 - A movimentação da Conta de Depósitos por meio do Aplicativo Next obedecerá, \\nainda, o limite de valor de saque estabelecido no item 6.3 deste Regulamento.\\n10.5 - Aplica-se aos serviços do Aplicativo Next o quanto previsto nas Cláusulas 11.3 à 11.10 \\nadiante.\\nXI - Acesso aos Serviços da Central de Relacionamento Next.\\n11.1 - O Cliente poderá utilizar os serviços da Central de Relacionamento Next, por meio de \\natendimento pessoal via chat, e-mail e ligação telefônica, podendo obter informações e solicitar as \\nprincipais operações e serviços oferecidos pelo Next, tais como: Cartão de Crédito, transferências \\nentre Contas, emissão de Documentos de Crédito (“DOCs”), Transferências Eletrônicas Disponíveis \\n(“TEDs”) e outros, observados os limites e as condições específicas fixadas para cada operação ou \\nserviço.\\n11.2 - O acesso ao atendimento via chat e ligação telefônica da Central de Relacionamento Next \\nocorrerá mediante a utilização de Senha.\\n11.3 - O Cliente responderá pela guarda da Senha e por seu uso indevido.\\n11.4 - A qualquer tempo e a seu exclusivo critério, o Next se reserva o direito de disponibilizar \\nna Central de Relacionamento Next novas informações, operações e serviços ou excluir \\nquaisquer daqueles oferecidos na data de formalização da abertura da Conta de Depósito.\\n11.5 - Para fins de segurança mútua, a Central de Relacionamento Next poderá, também, \\nsolicitar ao Cliente informações adicionais ou confirmações por meio do chat, de telefone \\nou de Dispositivos de Segurança.\\n11.6 - O Cliente poderá ter acesso aos valores das tarifas sobre serviços bancários solicitados \\ne dos produtos contratados com o Next, por meio da Central de Relacionamento Next, no \\nAplicativo Next, no site www.bradesco.com.br e na Home Page next.me.\\n11.7 - Por medida de segurança, o Cliente autoriza o Next a realizar gravações das solicitações, \\ninterações via chat e instruções telefônicas   relacionada à Conta de Depósito comandada \\npor intermédio da Central de Relacionamento Next ou qualquer outra forma que seja ou \\nvenha ser oferecida pelo Next ao Cliente, não estando, no entanto, obrigado a fazê-lo, \\npodendo, inclusive, utilizá-las como meio de prova válido e eficaz em juízo ou fora dele.\\n11.8 - O Next não se responsabiliza pela não efetivação das transferências ou dos pagamentos \\nsolicitados nos seguintes casos:\\n11.8.1 - Insuficiência de fundos disponíveis na Conta indicada para o débito;\\n11.8.2 - Rejeição de recebimento por parte de outros Bancos;\\n11.8.3 - Erro por parte de outros Bancos ou do Cliente nas informações fornecidas ao Next.\\n11.9 - O Next poderá, a seu exclusivo critério, fixar condições, horários e limites de valor para \\na realização de transferências entre Contas e outros serviços, transações ou operações já \\ndisponíveis ou que venham a ser disponibilizados, sendo tais condições e limites informados \\nao Cliente pela própria Central de Relacionamento Next.\\n11.10 - Os serviços da Central de Relacionamento Next serão prestados por tempo \\nindeterminado, podendo o Cliente deixar de utilizá-los, ou tais serviços serem cancelados \\npelo Next, independentemente do motivo, a qualquer tempo e sem ônus às Partes, mediante \\nsimples comunicado divulgado pelos Meios Eletrônicos disponíveis.\\nXII - Poupança Fácil Next \\n12.1 - A Poupança Fácil Next possuirá, no mesmo número de Conta, até 28 (vinte e oito)\\n14/23\\nMOD.: 4769-023E                    VERSÃO: 02/2020\\nRegulamento para Abertura de Contas de \\nDepósito, Produtos e Serviços - Pessoa Física\\nsubcontas. A data do 1º (primeiro) depósito em cada subconta será considerada básica para \\na contagem do mês corrido e do crédito dos rendimentos nos meses subsequentes. Para as \\nContas/subcontas abertas nos dias 29, 30 e 31, a contagem do mês corrido será iniciada no \\n1º dia do mês subsequente.\\n12.2 - Os créditos dos rendimentos serão efetuados mensalmente nas datas de aniversário da Conta/\\nsubconta ou no 1º (primeiro) dia útil subsequente, quando elas coincidirem com sábado, domingo \\nou feriado. Os rendimentos serão calculados tendo por base o menor saldo credor apresentado \\npela Conta/ subconta durante o mês corrido e compreenderão juros, incidentes sobre os valores do \\nsaldo corrigido, de acordo com a legislação e/ou regulamentação aplicáveis, em conformidade com \\nas determinações da autoridade monetária competente. Em decorrência, os critérios de correção e \\nde juros poderão ser alterados a qualquer tempo, independentemente de comunicação prévia por \\nquaisquer das Partes, sempre que assim o determinar a legislação e/ou a regulamentação expedida \\npelas autoridades competentes.\\n12.3 - Os valores das retiradas da Poupança Fácil Next poderão ser desdobrados para permitir a sua \\ncontabilização em mais de uma subconta e sempre naquela mais próxima à data da sua realização. \\nDepósitos e retiradas feitos na mesma data serão contabilizados na mesma subconta, exceto aqueles \\nrealizados por cheques.\\n12.4 - Desde que o Cliente tenha optado pelo serviço no momento de aplicação, o Next efetuará \\noagendamento das aplicaçoes na Conta-Poupanca.\\n12.4.1 - O Cliente indicará a data para realização das aplicações na Conta-Poupança e os valores das aplicações.\\n12.4.2 - A partir da solicitação de agendamento, o Next ficará instruído pelo Cliente a realizar os \\ndébitos na Conta Corrente e as aplicações na Conta-Poupança.\\n12.4.3 - Quando a data de transferência coincidir com sábado, domingo ou feriado, a aplicação \\nocorrerá no primeiro dia útil subsequente\\n12.4.4 - Fica esclarecido, desde já, que as aplicações para a Conta-Poupança somente se realizarão \\ncaso a Conta Corrente indicada pelo Cliente tenha saldo suficiente e disponível para suportar a \\nreferida transferência.\\n12.4.5 - Agendamentos para as datas de 29, 30 e 31 do mês serão permitidas e os débitos na \\nConta Corrente ocorrerão naqueles dias. Porém, os rendimentos correspondentes começarão a fluir \\nsomente a partir do 1º (primeiro) dia do mês subsequente.\\n12.4.6 - O Cliente poderá cancelar o agendamento das aplicações na Conta-Poupanca por meio do \\nAplicativo Next até 1 dia útil antes da data agendada.\\nXIII - Responsabilidades do Cliente pelo Uso de Senhas\\n13.1 - O Next não tem qualquer responsabilidade com relação às Senhas e códigos secretos \\ncriados e utilizados pelo Cliente em transações realizadas por quaisquer dos Meios \\ndisponibilizados pelo Next. Portanto, é de responsabilidade única e exclusiva do Cliente as \\nSenhas e os códigos secretos por ele criados, que, para o resguardo de seus direitos, não \\npoderão fornecer informações a terceiros, especialmente com referência ao Cartão Next.\\n13.2 - O Cliente é responsável pelo sigilo e pela guarda das Senhas e demais códigos de \\nsegurança, por si, ou por todas as pessoas a quem venham a revelar, mesmo que indevida \\nou acidentalmente, inclusive, sem limitação, na hipótese de caso fortuito ou força maior.\\n13.3 - O Cliente assume inteira responsabilidade por todas as instruções e autorizações \\npassadas ao Next com uso das Senhas e Dispositivos de Segurança (Códigos Secretos), \\nisentando este de qualquer responsabilidade, seja a que título for, decorrente de eventual \\nutilização inadequada ou indevida, ou, ainda, por pessoas que não sejam autorizadas a utilizá-las.\\nXIV - Prestação de Contas por Extratos\\n14.1 - O Next, observada a legislação em vigor, disponibilizará ao Cliente, por meio do\\n15/23\\nMOD.: 4769-023E                    VERSÃO: 02/2020\\nRegulamento para Abertura de Contas de \\nDepósito, Produtos e Serviços - Pessoa Física\\nAplicativo Next e e-mail cadastrado durante o processo de abertura da Conta, o extrato \\ndemonstrando os lançamentos feitos na Conta de Depósito. O Cliente deverá comunicar \\nao Next a não disponibilização do extrato de sua Conta de Depósito pelos citados meios. O \\nextrato é o documento que comprova a prestação de contas do Next ao Cliente, presumindo-\\nse corretos os lançamentos quando não contestados no prazo de até 30 (trinta) dias \\ncorridos contados da data do lançamento da Conta de Depósito. A eventual impugnação \\nde lançamentos contábeis em Conta de Depósito do Cliente será respondida pelo Next no \\nprazo de até 10 (dez) dias corridos.\\n14.2 - O Cliente poderá ter acesso e obter os extratos por meio das Máquinas de \\nAutoatendimento, sujeitando-se às tarifas pertinentes, previstas no Quadro de Tarifas \\nvigente, observadas as isenções constantes do mesmo Quadro.\\nXV - Encerramento da Conta de Depósito\\n15.1 - O encerramento da Conta de Depósito poderá se dar por vontade de quaisquer \\ndas Partes, mediante prévia comunicação por escrito endereçada à outra Parte, via \\ncorrespondência ou Meio Eletrônico, com no mínimo 15 (quinze) dias de antecedência, ou \\nainda, a qualquer tempo e de imediato, independentemente de aviso prévio:\\n15.1.1 - Por ordem de qualquer autoridade competente; ou\\n15.1.2 - Pelo Next, quando evidenciado o que segue:\\n15.1.2.1 - A movimentação de valores oriundos de atividades consideradas irregulares ou \\nilícitas, nos termos da lei e demais normas em vigor;\\n15.1.2.2 - A movimentação incompatível com a capacidade financeira do Cliente ou com as \\natividades desenvolvidas por este;\\n15.1.2.3 - A utilização de meios inidôneos com o objetivo de adiar pagamentos e/ou \\ncumprimento de obrigações assumidas junto ao Next;\\n15.1.2.4 - Irregularidades nas informações prestadas julgadas de natureza grave pelo Next;\\n15.1.2.5 - O cancelamento da inscrição do Cliente no CPF/MF ou outras irregularidades \\ncadastrais neste documento apontadas pela Secretaria da Receita Federal do Brasil;\\n15.1.2.5.1 - O Next poderá fazer prévia comunicação ao Cliente solicitando a regularização da \\nsituação cadastral do CPF naquele órgão. A não regularização implicará na indisponibilização \\ndos seus equipamentos de Autoatendimento para movimentação da Conta que apresentar \\ntal irregularidade.\\n15.1.2.6 - A violação ou descumprimento de quaisquer das disposições deste Regulamento, \\nda lei ou de ato normativo emanado dos poderes competentes;\\n15.1.2.7 - Se o Next constatar por qualquer forma, inclusive por listas, relações ou outros \\nmeios de divulgação utilizados pelas autoridades dos Poderes Executivo, Legislativo ou \\nJudiciário, que o Cliente incentiva ou faz uso, de forma direta ou indireta, de práticas \\ncontrárias à política socioambiental do Bradesco (divulgada no endereço eletrônico\\nhttp://www.bradescosustentabilidade.com.br e/ou aos direitos trabalhista, ambiental, \\nsocial e humano, sendo exemplos dessas práticas o uso ou incentivo do trabalho escravo \\ne/ou da mão de obra infantil, a prática de condutas que contribuam para a degradação \\ndo meio ambiente, o desmatamento não autorizado, a compra ou revenda de madeira \\nproveniente de áreas de desmatamento ilegal, a prática de discriminação por sexo, origem, \\nraça, cor, condição física, religião, estado civil, idade, situação familiar etc.\\n15.2 - Sob pena de não acatamento do pedido de encerramento, o Cliente se obriga a:\\n15.2.1 - Inutilizar o Cartão Next;\\n16/23\\nMOD.: 4769-023E                    VERSÃO: 02/2020\\nRegulamento para Abertura de Contas de \\nDepósito, Produtos e Serviços - Pessoa Física\\n15.2.2 - Manter, na Conta de Depósito, fundos suficientes e disponíveis para acolher o pagamento \\nde compromissos legais e/ou contratuais assumidos com o Next e com terceiros (serviços e produtos \\nbancários contratados, tarifas, encargos financeiros, tributos, convênios para débitos automáticos de \\ncontas de consumo, remessa de crédito etc.);\\n15.3 - A existência de saldo devedor impede o encerramento da Conta de Depósito, razão \\npela qual o Cliente deverá quitar eventual saldo devedor existente, sob pena de não \\nacatamento do pedido de encerramento.\\n15.4 - Eventual saldo credor existente na Conta de Depósito deverá ser sacado e/ou transferido \\npelo Cliente na data do pedido de encerramento da Conta, procedimento que se não for \\nadotado resultará na contabilização desse saldo em ordem de pagamento à disposição do \\nCliente, sendo que sobre esse saldo não incidirá qualquer tipo de remuneração.\\n15.5 - O pedido de encerramento da Conta de Depósito enseja a rescisão dos contratos de \\nlimite de crédito eventualmente existentes e o cancelamento das autorizações para débitos \\nautomáticos de compromissos assumidos na Conta de Depósito (contas de consumo, assinaturas \\nde revistas, TV a cabo, parcelas de empréstimos etc.), porém, os débitos agendados para o \\ndia do pedido de encerramento não serão passíveis de cancelamento e serão normalmente \\nrealizados na Conta de Depósito, caso haja saldo disponível para os débitos.\\n15.6 - Se atendidas as condições previstas na Cláusula 14.2 e seus itens e na Cláusula 14.3 \\nacima, o Next providenciará o encerramento da Conta de Depósito na data constante do Termo \\nde Encerramento de Conta de Depósito, a ser fornecido ao Cliente quando do seu pedido de \\nencerramento e, posteriormente, o Next fará expedir ao Cliente, via correspondência ou Meio \\neletrônico, comunicação sobre o efetivo encerramento da Conta de Depósito.\\n15.7 - Fica desde já esclarecido que a não movimentação da Conta de Depósito por \\ndeterminado período não acarretará o seu encerramento automático, nem assim poderá \\nser interpretada pelo Cliente.\\nXVI - Dispositivos de Segurança\\n16.1 - O Next poderá ceder ao Cliente o uso dos Dispositivos de Segurança que entender \\nadequados para acesso à Contasde Depósito, por prazo indeterminado. A exclusivo critério do \\nNext, a utilização dos Dispositivos de Segurança pelo Cliente poderá ser obrigatória.\\n16.1.2 - O Cliente não possuirá qualquer direito de propriedade sobre os referidos Dispositivos \\nde Segurança. \\n16.2 - Ao acessar a Conta de Depósito nos meios disponíveis pelo Next serão solicitadas as Senhas e \\nos códigos de segurança já utilizados e criados pelo Cliente no ato da abertura da conta, bem como \\nos Dispositivos de Segurança aplicáveis.\\n16.3 - O Cliente responderá integral e exclusivamente por todas e quaisquer perdas e danos, \\npessoais, morais ou materiais pelo descumprimento do disposto neste Capítulo, em especial \\npelas operações e transações efetuadas perante o Next e/ou terceiros nos meios disponíveis para \\nmovimentação da Conta de Depósito, sem que sejam observados os Dispositivos de Segurança. \\n16.4 - O Cliente obriga-se a:\\n16.4.1 - Por si e por terceiros autorizados não fazer engenharia ou compilação reversa dos \\nDispositivos de Segurança, no todo ou em parte, bem como a abster-se de revelar, duplicar \\nou reproduzir os Dispositivos de Segurança; \\n16.4.2 - Adotar todas as medidas necessárias para impedir que terceiros não autorizados \\ntenham acesso aos Dispositivos de Segurança; e\\n16.4.3 - Não remover dos Dispositivos de Segurança os avisos de direitos autorais ou outros\\n17/23\\nMOD.: 4769-023E                    VERSÃO: 02/2020\\nRegulamento para Abertura de Contas de \\nDepósito, Produtos e Serviços - Pessoa Física\\nsinais de propriedade fornecidos pelo fabricante.\\n16.5 - Na hipótese de perda, extravio, roubo ou furto dos Smartphones nos quais estão \\ninstalados os Dispositivos de Segurança, o Cliente deverá comunicar o fato, imediatamente, \\npor quaisquer dos Meios, ficando o Cliente inteiramente responsável pelas transações \\nefetuadas na Conta de Depósito mediante a utilização dos Dispositivos de Segurança \\ncedidos, até a data da efetiva comunicação do evento ao Next.\\n16.6 - No caso de encerramento da Conta de Depósito, os Dispositivos de Segurança serão \\nanulados pelo Next.\\nXVII - Da Coleta de Vídeos e Dados Biométricos do Cliente\\n17.1 - Durante o procedimento de abertura da Conta de Depósito e na constância de sua manutenção, \\nquando necessário, o Next solicitará que o Cliente utilize seus dispositivos móveis para o fornecimento \\nde um vídeo, por meio do Aplicativo Next, com a captura da face do Cliente e da sua voz solicitando \\na abertura de conta, para fins de identificação do Cliente. A recusa quanto à obtenção dos \\nvídeos poderá ensejar, a exclusivo critério do Next, a não abertura da Conta de Depósito ou \\no seu encerramento.\\n17.1.1 - Os vídeos obtidos ficarão sob a guarda do Next durante o período de manutenção \\nda Conta de Depósito, sendo que esse período poderá ser estendido, a exclusivo critério do \\nNext, por até 11 (onze) anos, contados do encerramento da Conta. Ao final desse período, \\no Next inutilizará os vídeos do Cliente que estejam sob sua guarda.\\n17.1.2 - O Cliente autoriza o uso dos vídeos pelo Next para que o identifique como a pessoa \\nresponsável pela movimentação da Conta de Depósito ou pela contratação de produtos \\ne serviços e, quando necessário, na defesa dos interesses do Next nas esferas judicial e \\nextrajudicial. O Cliente autoriza, ainda, o fornecimento de seus vídeos às autoridades \\ncompetentes, quando solicitados.\\n17.1.3 - Fica sob exclusiva responsabilidade do Cliente acessar o Aplicativo para, sempre \\nque necessário, substituir os vídeos que estejam em poder do Next, em especial, mas não \\nse limitando, quando ocorrerem mudanças naturais, cirúrgicas ou resultantes de qualquer \\noutro meio, que possam dificultar ou impedir ao Next a correlação entre aqueles vídeos e \\nos novos traços faciais do Cliente.\\n17.2 - O Cliente autoriza o Next a extrair e guardar, durante o procedimento de abertura \\nda Conta de Depósito ou na constância de sua manutenção, os dados biométricos \\ncorrespondentes à estrutura das veias das mãos do Cliente, para o fim de identificação em \\noperações que venham a ser concretizadas com a tecnologia de biometria.\\n17.2.1 - O Cliente autoriza que os dados biométricos fiquem sob a guarda do Next durante o \\nperíodo de manutenção da Conta de Depósito, sendo que esse período poderá ser estendido, a \\nexclusivo critério do Next, por até 11 (onze) anos contados do encerramento dessa Conta. Ao final \\ndesse período, o Next inutilizará os dados biométricos do Cliente, que estejam sob sua guarda.\\n17.2.2 - O Cliente autoriza o uso dos dados biométricos que os identifique como a pessoa \\nresponsável pela movimentação da Conta de Depósito ou pela contratação de produtos \\ne serviços e, quando necessário, na defesa dos interesses do Next nas esferas judicial \\ne extrajudicial. O Cliente autoriza, ainda, o fornecimento de seus dados biométricos às \\nautoridades competentes, quando solicitados.\\n17.2.3 - O Cliente reconhece que qualquer modificação fisiológica, de natureza permanente \\nou temporária, que dificulte ou impossibilite a leitura dos dados biométricos do Cliente, \\nnão excluí os efeitos desta Cláusula, mas demanda a imediata aplicação de processos de \\nidentificação alternativos.\\nXVIII- Dos Produtos e Serviços Contratados no Ato da Abertura da Conta\\n18/23\\nMOD.: 4769-023E                    VERSÃO: 02/2020\\nRegulamento para Abertura de Contas de \\nDepósito, Produtos e Serviços - Pessoa Física\\n18.1 - No ato da abertura da Conta de Depósito, o Cliente poderá contratar os produtos e/ou \\nserviços descritos no Anexo deste Regulamento, mediante a indicação no Termo de Adesão. \\n18.2 - A contratação pelo Cliente dos produtos e/ou serviços descritos no Termo de Adesão \\né opcional, ficando a seu exclusivo critério optar ou não pela sua contratação no ato de \\nabertura da Conta de Depósito, sem prejuízo das eventuais contratações que venham a ser \\nefetuadas após a abertura da Conta de Depósito.\\n18.3 - O Cliente que aderir aos produtos e serviços descritos no Anexo deste Regulamento deverá \\nobedecer às condições específicas de cada produto e/ou serviço descritos neste Regulamento, \\nbem como as demais condições peculiares de cada produto e/ou serviço descritos em Contrato/\\nRegulamento próprio, se for o caso.\\n18.4 - Os produtos e/ou serviços contratados no ato da abertura de Conta de Depósito, indicados no \\nTermo de Adesão, estarão sujeitos à aprovação do Next.\\n18.5 - Após a data de abertura da Conta de Depósito, a contratação dos produtos e/ou serviços \\ndescritos no Anexo reger-se-á pela celebração dos contratos específicos. Para efeitos deste \\nRegulamento, entende-se como data de abertura da Conta de Depósito aquela em que foi assinada \\na Ficha-Proposta e aprovada pelo Next.\\nXIX - Foro\\n19.1 - Fica eleito o foro da Comarca onde for assinada a Ficha-Proposta para conhecer das \\nquestões que se originarem deste Regulamento, de seu Anexo, da Ficha-Proposta, do Termo \\nde Adesão, podendo a Parte demandante optar pelo Foro do domicílio da Parte demandada.\\nAnexo - Condições para Contratação e Utilização dos Produtos e/ou Serviços por Meio do \\nTermo de Adesão a Produtos e Serviços:\\nI - Limites de Crédito Pessoal, de Crédito Especial e de Crédito Flex Next\\n1.1 - Cláusulas Especiais para o “Limite de Crédito Pessoal”.\\n1.1.1 - Sem prejuízo do disposto na Cláusula 2.15 deste Regulamento, caso o Cliente opte no \\nTermo de Adesão e inexistam restrições cadastrais em seu nome, o Next abrirá ao Cliente \\num limite de crédito rotativo na Conta de Depósito indicada no Termo de Adesão, até o \\nvalor e prazo indicados nesse Termo, para a obtenção de recursos através de empréstimos \\npessoais. Limite esse que poderá ser utilizado de uma só vez ou em parcelas, mediante \\ntransferências de valores para a Conta de Depósito indicada no Termo de Adesão.\\nParágrafo 1º - Os empréstimos serão obtidos e realizados pelo Cliente com a aposição de Senhas, dados \\nbiométricos ou outros Meios de identificação aceitos pelas Partes, em interatividade com os Meios \\ndisponibilizados pelo Next, quando o Cliente ajustará e aceitará as demais condições de cada operação, \\ndentre elas, as formas e prazo de pagamento, os encargos financeiros e demais despesas incidentes.\\nParágrafo 2º - A concordância do Cliente com as condições a ele demonstradas ou por ele escolhidas \\nnos termos do §1º acima, será considerada perfeitamente manifestada mediante a aposição de suas \\nSenhas, dados biométricos ou qualquer outro meio de identificação aceito pelas Partes, quando em \\ninteratividade com os Meios disponibilizados pelo Next, seguida de pressionamento eletrônico do \\nrespectivo botão/comando de confirmação ou equivalente da operação de empréstimo pleiteada, \\ntendo-se, assim, com a efetiva transferência dos valores para a Conta de Depósito indicada no Termo \\nde Adesão, a aceitação plena do Cliente, constituindo o resultado demonstrado nessa Conta prova \\nde utilização do limite de crédito aberto.\\nParágrafo 3º - Após a efetivação dos procedimentos previstos no §2º acima, não será possível \\ncancelar a operação de crédito solicitada.\\n1.1.2 - Sobre cada empréstimo obtido pelo Cliente incidirão juros de acordo com as taxas \\nvigentes à época dessa obtenção, que serão capitalizados diariamente (incidência de juros \\nsobre o capital acrescidos dos juros acumulados diariamente), bem como incidirá, ainda,\\n19/23\\nMOD.: 4769-023E                    VERSÃO: 02/2020\\nRegulamento para Abertura de Contas de \\nDepósito, Produtos e Serviços - Pessoa Física\\nquando devidos, a(s) tarifa(s) bancárias e o IOF - Imposto sobre Operações Financeiras, \\nde acordo com os valores e alíquotas vigentes à época, sendo que todos os respectivos \\nvalores e taxas serão demonstrados ao Cliente no Meio por ele escolhido para contratação \\ndo empréstimo, antes da aceitação, confirmação e efetiva obtenção do empréstimo.\\n§1º - O valor do IOF e, quando devido, os valores das tarifas serão financiados e pagos \\njuntamente com o valor do principal e juros do empréstimo obtido.\\n1.1.3 - Nas operações contratadas com taxa prefixada, o Cliente poderá liquidá-la, total ou \\nparcialmente, hipótese em que, o cálculo do valor presente das parcelas objeto da liquidação \\nobservará a taxa de juros vigente à época da obtenção do empréstimo, observando a \\ncarência de 1 dia antes do vencimento e no horário das 08h as 18h em dias úteis.\\n1.1.3.1 - Nas situações em que as despesas associadas à contratação do empréstimo tenham \\nsido objeto de financiamento, essas despesas integrarão a operação de crédito para \\napuração do valor presente do empréstimo.\\n1.1.4 - Previamente à contratação das operações de empréstimo, será calculado e \\ndemonstrado ao Cliente o Custo Efetivo Total - CET, pelos Meios disponibilizados pelo Next \\npara essa contratação, que representará as condições da operação de crédito vigentes na \\ndata de cálculo do CET, sendo que nesse cálculo serão considerados os fluxos referentes \\nàs liberações e aos pagamentos previstos, incluindo a taxa de juros anual acertada entre \\nas Partes, tributos, tarifas, seguros e outras despesas cobradas do Cliente e o cálculo dos \\npercentuais de cada componente do fluxo da operação, será efetuado considerando o valor \\ntotal devido no ato da contratação da operação.\\n1.1.5 - Pelos Meios utilizados pelo Cliente para contratação dos empréstimos, o Cliente tomará \\nconhecimento dos fluxos e referenciais de remuneração considerados no cálculo do CET, sendo \\nque o Cliente, desde já, autoriza o Next a destinar os valores para todos os pagamentos por \\nconta de serviços de terceiros e registros junto a Órgãos Públicos, quando for o caso.\\n1.2 - Cláusulas Especiais para o “Limite de Crédito Especial”.\\n1.2.1 - Sem prejuízo do disposto na Cláusula 2.15 deste Regulamento, caso o Cliente opte no \\nTermo de Adesão e inexistam restrições cadastrais em seu nome, o Next abrirá ao Cliente um \\nlimite de crédito rotativo na Conta de Depósito prevista no Termo de Adesão, até o valor e prazo \\nestipulados nesse Termo, que poderá ser utilizado de forma reiterada sempre que nessa Conta \\nde Depósito não existirem recursos suficientes para arcar com débitos de qualquer origem.\\nParágrafo 1º - As utilizações do limite concedido serão feitas pelos meios de movimentação \\nda Conta de\\nDepósito disponibilizados pelo Next.\\n1.2.2 - Sobre as importâncias utilizadas pelo Cliente, por conta do limite de crédito aberto, \\nincidirão juros capitalizados diariamente (incidência de juros sobre o capital acrescido \\ndos juros acumulados diariamente), às taxas previstas no Termo de Adesão, calculados, \\nrespectivamente, com base em 30 (trinta) e 360 (trezentos e sessenta) dias corridos. Além dos \\njuros, o Cliente restituirá os valores utilizados devidamente atualizados monetariamente, \\nconforme índice indicado no Termo de Adesão.\\nParágrafo 1º - Os valores de encargos serão apurados diariamente e debitados na Conta de \\nDepósito do Cliente, inclusive podendo tal débito recair sobre limite de crédito concedido, \\ncaso não seja mantido na Conta de Depósito saldo credor suficiente para o pagamento.\\n1.2.3 - Considerando que os juros e/ou a atualização monetária somente serão devidos se e \\nquando o Cliente utilizar de qualquer importância (valor) do limite concedido, poderá o Next, \\nainda na vigência desse limite, alterar as taxas de juros e o índice de correção monetária \\nconstantes do Termo de Adesão, para adequá-los àquelas vigentes no mercado financeiro \\npara as operações da espécie, bem como poderá promover a alteração dos encargos de\\n20/23\\nMOD.: 4769-023E                    VERSÃO: 02/2020\\nRegulamento para Abertura de Contas de \\nDepósito, Produtos e Serviços - Pessoa Física\\nprefixados para pós-fixados e vice-versa, que serão calculados sobre o valor do principal \\nutilizado até o dia do efetivo pagamento.\\nParágrafo 1º - As novas taxas e índices serão evidenciados ao Cliente por meio do Quadro de \\nTarifas afixado na Agência Next, no Aplicativo Next, no site www.bradesco.com.br e na Home \\nPage next.me, sendo facultado ao Cliente recusar a nova taxa ou índice. Nesta hipótese, o \\nCliente deverá manifestar-se por escrito, no prazo de até 7 (sete) dias corridos contados \\nda data de divulgação da nova taxa ou índice, e efetuar o pagamento do saldo devedor \\nespecificamente apurado.\\n1.2.4 - Além dos encargos previstos no item 1.2.2 acima, o Cliente será responsável pelo \\npagamento, quando da abertura do limite de crédito e das suas renovações, da(s) tarifa(s), \\nconforme valor(es) constante(s) do Quadro de Tarifas afixado na Agência Next, no Aplicativo \\nNext, no em vigor à época da contratação ou renovação do limite. Incidirá, ainda, o Imposto \\nSobre Operações Financeiras - IOF, calculado com base nas regras e alíquotas vigentes à \\népoca da utilização do limite de crédito, que será demonstrado no extrato da Conta de \\nDepósito, juntamente com o respectivo valor.\\n1.2.5 - À medida em que se tornarem exigíveis, os juros, tarifas, tributos e demais acessórios \\npoderão ser debitados, a critério do Next, sobre o próprio limite de crédito concedido, \\nconsiderando as respectivas importâncias como liberações feitas pelo Next ao Cliente por \\nconta do crédito aberto, para todos os fins de direito.\\n1.2.6 - O Custo Efetivo Total - CET, indicado no Termo de Adesão, representa as condições \\nda operação de crédito vigentes na data de cálculo do CET, sendo que nesse cálculo foram \\nconsiderados os fluxos referentes às liberações e aos pagamentos previstos, incluindo a \\ntaxa efetiva de juros anual acertada no Termo de Adesão, tributos, tarifas, seguros e outras \\ndespesas cobradas do Cliente.\\nParágrafo 1º - O Cliente, desde já, autoriza o Next a destinar os valores para todos os pagamentos \\npor conta de serviços de terceiros e registros junto a Órgãos Públicos, quando for o caso.\\n1.3 - Cláusulas Especiais para o “Limite de Crédito Flex Next”\\n1.3.1 - Sem prejuízo do disposto na Cláusula 2.15 deste Regulamento, caso o Cliente opte no \\nTermo de Adesão e inexistam restrições cadastrais em seu nome, o Next abrirá ao Cliente um \\nLimite de Crédito Flex Next na Conta de Depósito prevista no Termo de Adesão, até o valor \\ne prazo nele indicados, que se constitui de um limite de crédito rotativo cujo valor pode \\nser utilizado, de acordo com a opção e necessidade do Cliente, nas modalidades Crédito \\nEspecial, Crédito Pessoal e Cartão de Crédito.\\n1.3.2 - Caso o Cliente já possua, na data da contratação do Crédito Flex Next, limite de \\ncrédito nas modalidades Crédito Especial, Crédito Pessoal e/ou Cartão de Crédito em sua \\nConta de Depósito indicada no Termo de Adesão, o(s) limite(s) será(ão) cancelados, sendo \\nque eventuais valores desses limites que estiverem sendo utilizados serão migrados para \\no Limite de Crédito Flex Next, implicando assim em redução do valor total disponível do \\nLimite de Crédito Flex Next na data da mencionada migração.\\n1.3.3 - Na hipótese de o Cliente se utilizar do Limite de Crédito Flex Next, na modalidade “Crédito \\nPessoal”, serão aplicadas as condições constantes da Cláusula 1.1 e de seus itens 1.1.1 a 1.1.5, \\ntodas deste Anexo.\\n1.3.4 - Na hipótese de o Cliente se utilizar do Limite de Crédito Flex Next na modalidade “Crédito \\nEspecial/Crédito Pessoal”, serão aplicadas as condições constantes em seus respectivos regulamentos.\\n1.4 - Os limites de crédito disciplinados neste Anexo são rotativos, ou seja, seus valores \\nsão recompostos automaticamente durante o seu prazo de vigência, sempre que o Cliente \\namortiza ou liquida a dívida por ele contraída, na proporção dos reembolsos de principal \\nque vier a realizar, desde que o Cliente não esteja em mora ou inadimplente.\\n21/23\\nMOD.: 4769-023E                    VERSÃO: 02/2020\\nRegulamento para Abertura de Contas de \\nDepósito, Produtos e Serviços - Pessoa Física\\n1.4.1 - Os limites de crédito concedidos serão mantidos pelos prazos constantes do Termo de \\nAdesão, mas poderão ser cancelados, a qualquer tempo, por qualquer das Partes, mediante \\ncomunicação, com antecedência mínima de 2 (dois) dias úteis, contados da comunicação \\npela Parte interessada nesse cancelamento. Na hipótese desse cancelamento ser pedido \\npelo Cliente, este deverá pagar o saldo devedor e os respectivos encargos, se houver.\\nParágrafo 1º - Desde que não haja comunicação em contrário de quaisquer das Partes, \\nocorrendo os vencimentos normais do(s) limite(s) de crédito contratado(s) e estando o Cliente \\nperfeitamente em dia com suas obrigações, o(s) limite(s) de crédito concedido(s) será(ão) \\nconsiderado(s) automaticamente prorrogado(s) por período(s) idêntico(s) ao(s) inicial(is), sem a \\nnecessidade de qualquer outra formalidade, o mesmo ocorrendo ao final da primeira e demais \\nprorrogações, permanecendo em vigor todas as demais cláusulas e condições aqui previstas.\\nParágrafo 2º - Até o dia do vencimento do(s) limite(s) de crédito concedido(s) e de cada \\nprorrogação, o Next informará, no extrato da Conta de Depósito do Cliente, o(s) valor(es) \\ndo(s) limite(s) de crédito e a(s) taxa(s) de juros vigente(s), exceto para o produto Limite de \\nCrédito Pessoal, que informará somente o valor do crédito.\\nParágrafo 3º - Não estando de acordo com as condições da prorrogação, o Cliente poderá requerer \\no cancelamento do(s) limite(s) de crédito, observado o procedimento previsto item 1.3.1 acima.\\n1.4.2 - O(s) limite(s) de crédito concedido(s) poderá(ão) ser alterado(s) pelo Next, a qualquer \\népoca, e, no caso de aumento ou redução do(s) limite(s), o Cliente será notificado por meio \\ndo Aplicativo Next e por mensagem enviada ao e-mail cadastrado na abertura da conta, \\ncom antecedência mínima de 2 (dois) dias úteis.\\nParágrafo Único - Não estando de acordo com a alteração do valor do limite, o Cliente poderá \\ncancelar o(s) limite(s) de crédito, por meio de comunicado nos moldes previstos no item 1.3.1, \\ndevendo efetuar o pagamento do saldo devedor e dos respectivos encargos, se houver.\\n1.4.3 - Independentemente da modalidade de limite de crédito contratado pelo Cliente no \\nTermo de Adesão, qualquer quantia devida ao Next em virtude do uso do(s) limite(s) de crédito \\ncontrato(s), vencida e não paga na forma ajustada neste Anexo, será considerada como mora \\ndo Cliente e resultará no inadimplemento de toda dívida, independentemente de notificação \\nou interpelação, judicial ou extrajudicial, e nesse caso toda a dívida estará sujeita a:\\na.1) Quando se tratar de Crédito Especial: encargos Remuneratórios incidentes a partir da \\ndata da utilização do limite de crédito até a data da efetiva restituição, à taxa vigente à \\népoca da utilização;\\na.2) Quando se tratar de Crédito Pessoal: encargos remuneratórios incidentes a partir da \\ndata da liberação do empréstimo até a data da efetiva restituição do total da importância \\nemprestada, à taxa acordada entre as Partes à época da liberação do empréstimo.\\na.3) Quando se tratar de Crédito Flex Next: (I) se o Cliente fizer uso do Crédito Flex Next na \\nmodalidade “Crédito Especial/ Crédito Pessoal”, os encargos remuneratórios serão apurados \\nna forma da letra “a.1” acima; (II) se o Cliente fizer uso do Crédito Flex Next na modalidade \\n“Crédito Pessoal”, os encargos remuneratórios serão apurados na forma da letra “a.2” acima.\\nb) Encargos Moratórios, pelo período que decorrer da data do inadimplemento ou mora até \\na efetiva liquidação da dívida, a serem assim compostos:\\nb.1) juros moratórios à taxa de 1% (um por cento) ao mês, ou fração, incidente sobre o valor da dívida \\nacrescido dos juros remuneratórios previstos nas letras “a.1”, a.2 e a.3 (a depender da modalidade).\\nb.2) multa de 2% (dois por cento) incidente sobre o total devido.\\nc) despesas de cobrança, ressalvado o mesmo direito em favor dos Cliente, inclusive \\nhonorários advocatícios de 10% (dez por cento) sobre o valor do saldo devedor, nos termos \\ndo artigo 51, XII, da Lei nº 8.078/90.\\n22/23\\nMOD.: 4769-023E                    VERSÃO: 02/2020\\nRegulamento para Abertura de Contas de \\nDepósito, Produtos e Serviços - Pessoa Física\\n1.4.3.1. No que se refere ao Cartão de Crédito, na hipótese de mora ou inadimplemento do Devedor, \\nserão aplicadas as condições constantes do respectivo Regulamento do Cartão de Crédito.\\n1.4.4 - Todo e qualquer tributo que seja ou possa ser exigido em razão dos limites de crédito \\nconcedidos, bem como das operações deles decorrentes, correrão por conta do contribuinte \\ndefinido na lei fiscal. Na hipótese de o contribuinte ser o Cliente, este, desde já, autoriza que os \\nvalores dos tributos sejam debitados em sua Conta de Depósito descrita no Termo de Adesão.\\n1.4.5 - Em caráter irrevogável e irretratável, o Cliente autoriza o Next a debitar na Conta de \\nDepósito informada no Termo de Adesão os valores relativos ao principal, encargos, mora, \\nIOF, tarifas e demais despesas resultantes do uso do(s) limite(s) de crédito concedido(s).\\n1.4.6 - O Cliente se obriga a manter, na Conta de Depósito constante do Termo de Adesão, \\nsaldo disponível para acatar os débitos autorizados. \\n1.4.7 - É facultado ao Next considerar antecipadamente vencido o(s) limite(s) de crédito concedido(s) \\ne exigível de imediato o pagamento do saldo devedor em aberto, independentemente de aviso \\nou notificação, nas seguintes hipóteses, além das previstas em lei:\\na) se o Cliente não pagar quaisquer de suas obrigações;\\nb) se o Cliente tiver seu nome inscrito em órgãos de proteção ao crédito (SCPC, SERASA, etc.) ou no\\nCadastro de Cheques sem Fundos - CCF;\\nc) se, por força de normas do Conselho Monetário Nacional e/ou do Banco Central do Brasil, \\no Cliente der causa ao encerramento de sua Conta de Depósito no Next;\\nd) se o Cliente figurar como devedor em situação de mora ou de inadimplemento junto ao Next.\\n1.4.8 - Sem prejuízo do disposto no item 1.4.7 acima, o Next poderá cancelar e/ou bloquear, \\na seu exclusivo critério, o(s) limite(s) de crédito contratado(s) com base neste Anexo, na \\nhipótese de impontualidade no pagamento de dívida decorrente da utilização de outros \\nlimites de crédito contratados pelo Cliente na Conta de Depósito descrita no Termo de \\nAdesão ou em qualquer outra Conta de Depósito que o Cliente mantenha ou venha a \\nmanter no Next, independentemente de qualquer notificação judicial ou extrajudicial.\\nParágrafo Único - Ocorrendo o bloqueio e/ou cancelamento do(s) limite(s) de crédito pelas \\nrazões expostas no item 1.4.7 acima, sobre o eventual saldo utilizado desses limites incidirão \\nos encargos previstos nos itens 1.1.2 e 1.2.2 deste Anexo, sem prejuízo da cobrança dos \\nencargos constantes do item 1.4.3, no caso de mora ou inadimplência do Cliente.\\n1.4.9 - O Next esclarece que fica facultado a ele o registro da mora ou inadimplência do \\nCliente nos bancos de dados da SERASA e do SCPC, bem como em qualquer outro órgão de \\nproteção ao crédito, sendo que o Cliente será previamente informado pelos gestores desses \\nbancos de dados quando do aludido registro.\\n1.4.10 - O Next, neste ato, comunica ao Cliente que: a) o(s) limite(s) de crédito concedido(s), \\nbem como as eventuais operações resultantes do uso desse(s) limite(s), serão registrados \\nno Sistema de Informações de Créditos (SCR) gerido pelo Banco Central do Brasil (BACEN); \\nb) o SCR tem por finalidades: (I) fornecer informações ao BACEN para fins de supervisão do \\nrisco de crédito a que estão expostas as instituições financeiras e (II) propiciar o intercâmbio, \\nentre as instituições obrigadas a prestar informações ao SCR, das informações referentes a \\ndébitos e responsabilidades de clientes de operações de crédito, com o objetivo de subsidiar \\ndecisões de crédito e de negócios; c) o Cliente poderá ter acesso aos dados constantes \\nem seu nome no SCR, por meio da Central de Atendimento ao Público do BACEN; d) as \\nmanifestações de discordância quanto às informações constantes do SCR e os pedidos de \\ncorreções, exclusões e registros de medidas judiciais no SCR deverão ser dirigidos ao Next, \\npor meio de requerimento escrito e fundamentado do Cliente, acompanhado da respectiva\\n23/23\\nMOD.: 4769-023E                    VERSÃO: 02/2020\\nRegulamento para Abertura de Contas de \\nDepósito, Produtos e Serviços - Pessoa Física\\ndecisão judicial, quando for o caso; e) a consulta sobre qualquer informação constante do \\nSCR dependerá da prévia autorização do Cliente.\\n1.4.11 - Qualquer tolerância das Partes quanto ao exato cumprimento deste Anexo, não implicará em \\nrenúncia, perdão, novação ou alteração do acertado entre elas e o pagamento do principal, mesmo \\nsem ressalvas, não presume quitação dos encargos das dívidas resultantes do uso do(s) limite(s) de \\ncrédito concedido(s). Assim, qualquer prática diversa da aqui pactuada, mesmo que reiterada, não \\npoderá ser interpretada como novação contratual.\\n1.4.12 - O Cliente declara estar ciente de que, caso autorize ou solicite qualquer outro serviço \\napós a contratação do(s)limite(s)decrédito, ficará sujeito ao pagamento das tarifas bancárias \\npermitidas pelo Banco Central do Brasil, pelos valores e hipóteses vigentes à época de cada \\nsolicitação ou autorização, de acordo com o Quadro de Tarifas disponível na Agência Next, no \\nAplicativo Next, no no site www.bradesco.com.br e na Home Page next.me.\\n1.4.13 - Os avisos, as interpelações, as cartas e as notificações relativos ao(s) limite(s) de crédito \\ncontratado(s), somente serão considerados válidos e eficazes quando enviados aos respectivos \\ndestinatários, observados os endereços (físico ou eletrônico) fornecidos pelo Cliente quando \\nda abertura da Conta de Depósito indicada no Termo de Adesão, sendo que, com relação ao \\nCredor, as comunicações deverão ser remetidas à Agência indicada nesse Termo.\\nII - Cartão de Crédito Next\\n2.1 - Desde que haja a efetiva contratação por meio de opção manifestada no Termo de Adesão, o Cliente \\npoderá solicitar os Cartões de Crédito, na modalidade/tipo por ele escolhida no citado Termo de Adesão.\\n2.2 - Após análise e aprovação do Next e/ou do respectivo Banco emissor do Cartão, o Cartão de \\nCrédito e o Regulamento de Utilização aplicável à sua escolha estarão disponíveis no Aplicativo Next \\ne na página da internet para arquivo ou impressão a qualquer momento pelo Cliente.\\n2.3 - O Cliente declara ter ciência de que terá que se subordinar às regras constantes no \\nRegulamento de Utilização do Cartão de Crédito Next, cujos termos declaram ter tido \\nconhecimento previamente à assinatura do Termo de Adesão.\\n2.4 - O Next poderá introduzir alterações no Regulamento de Utilização do Cartão de Crédito \\nNext, ampliar a utilidade do Cartão ou agregar-lhe outros serviços e produtos, mediante \\nregistro em Cartório do correspondente Aditivo, dando prévia ciência ao Cliente. Essas \\nalterações serão tidas como recebidas e aceitas mediante a prática, pelo Cliente, de atos \\ndemonstradores de sua adesão e permanência no Sistema de Cartão de Crédito. Na hipótese \\nde o Cliente não concordar com as modificações, poderá, no prazo de 7 (sete) dias corridos, \\na contar da data da comunicação, exercer o direito de retirada, abstendo-se de usar o Cartão \\nque, de pleno direito, será cancelado, aplicando-se as regras dispostas no Regulamento de \\nUtilização do Cartão de Crédito Next no que tange ao cancelamento do Cartão.\\n2.5 - Pela utilização do Cartão de Crédito Next, o Cliente pagará a anuidade ou a taxa de \\ninatividade vigente, de acordo com a modalidade escolhida do Cartão, vigentes à época.\\n2.6 - Demais condições sobre a utilização do Cartão de Crédito estão descritas no Regulamento \\nde Utilização do Cartão de Crédito Next referente à modalidade de Cartão escolhida pelo Cliente.\\nDeficiência Auditiva ou de Fala                0800 722 0099\\nReclamações, Cancelamentos e Informações Gerais. \\nAtendimento 24 horas, 7 dias por semana.\\nSAC - Next                                               0800 722 6398\\nReclamações, Cancelamentos e Informações Gerais. \\nAtendimento 24 horas, 7 dias por semana.\\nCentral de Relacionamento Next              0800 275 6398\\nConsultas, Informações e Serviços Transacionais.\\nAtendimento 24 horas, 7 dias por semana.\\nOuvidoria                                                 0800 688 6398\\nSe não ficar satisfeito com a solução apresentada, \\ncontate a Ouvidoria, das 08h às 18h, de 2ª a 6ª feira, \\nexceto feriados.'"
            ]
          },
          "execution_count": 20,
          "metadata": {},
          "output_type": "execute_result"
        }
      ],
      "source": [
        "extract_text_pdf(file_path)"
      ]
    },
    {
      "cell_type": "code",
      "execution_count": null,
      "metadata": {
        "colab": {
          "base_uri": "https://localhost:8080/"
        },
        "id": "t3JA1KxfMQDn",
        "outputId": "36c0a7c2-571e-4ccf-8007-5246edb27df0"
      },
      "outputs": [
        {
          "name": "stdout",
          "output_type": "stream",
          "text": [
            "[PosixPath('/content/regulamento_abertura_conta.pdf')]\n"
          ]
        }
      ],
      "source": [
        "docs_path = Path(\"/content\")\n",
        "pdf_files = [f for f in docs_path.glob(\"*.pdf\")]\n",
        "print(pdf_files)\n",
        "#listando"
      ]
    },
    {
      "cell_type": "code",
      "execution_count": null,
      "metadata": {
        "colab": {
          "base_uri": "https://localhost:8080/"
        },
        "id": "WhPKVSm9Mcdy",
        "outputId": "f0967999-1a96-4ba2-da0e-0279eb1009e7"
      },
      "outputs": [
        {
          "data": {
            "text/plain": [
              "1"
            ]
          },
          "execution_count": 22,
          "metadata": {},
          "output_type": "execute_result"
        }
      ],
      "source": [
        "loaded_documents = [extract_text_pdf(pdf) for pdf in pdf_files]\n",
        "len(pdf_files)\n",
        "#carregando o documento na pasta"
      ]
    },
    {
      "cell_type": "markdown",
      "metadata": {
        "id": "6uX7jCFZMsFE"
      },
      "source": [
        "###Split"
      ]
    },
    {
      "cell_type": "code",
      "execution_count": null,
      "metadata": {
        "colab": {
          "base_uri": "https://localhost:8080/"
        },
        "id": "aKa3h7vSMx-e",
        "outputId": "94a5f6e8-cab8-4981-c677-72ab2cc5dfcb"
      },
      "outputs": [
        {
          "name": "stdout",
          "output_type": "stream",
          "text": [
            "Número de chunks criados: 186\n"
          ]
        }
      ],
      "source": [
        "from langchain_text_splitters import RecursiveCharacterTextSplitter\n",
        "\n",
        "text_splitter = RecursiveCharacterTextSplitter(chunk_size = 500, chunk_overlap=50)\n",
        "chunks = []\n",
        "for doc in loaded_documents:\n",
        "  chunks.extend(text_splitter.split_text(doc))\n",
        "\n",
        "print(f\"Número de chunks criados: {len(chunks)}\")\n",
        "#dividindo o texto dos pdfs em chucks"
      ]
    },
    {
      "cell_type": "code",
      "execution_count": null,
      "metadata": {
        "colab": {
          "base_uri": "https://localhost:8080/",
          "height": 498,
          "referenced_widgets": [
            "f86512933fab460292643a8a3d706b9d",
            "5e3534c5d2694a78bb744281ce076f23",
            "8f3814bbd3194b9fb71ec648143e9345",
            "58872bae60154a648bf2875912efb37d",
            "a0a8fca0b0b64c69b2c3bce31fd743c8",
            "6d7f5a77743049ff810bf84a9379dbcc",
            "1e905b7c8753477faeab593f368699db",
            "20e610f9ffba49ad9d968f48b3f96602",
            "9b2bae7f5f954a53a8febdd3cfaeec0f",
            "3a7c220e336b462b83ff3d728fba39a6",
            "fbe40f2e2077452985564cb6c04145a5",
            "ba0c7d1b0f044428b6f6dc556c48302e",
            "214bf3afa9b14cab8dcc2f3ca7124b4c",
            "abe6f2d3c32b40efa9fdd7af7d0854a9",
            "e7f9341a9acf4ab9875f00fcedcacb31",
            "89b538f34bff4b27a479b95ac6c32bff",
            "81000bab193a438a9db9c82baffc030c",
            "00e751fc995341d183434d0b8602d449",
            "c548224d937e462aaa5148f639ce2566",
            "7421407c4b7041b884fda6a1a2f53542",
            "2d2042cf5de54a2eaa2d674d3122abc8",
            "00b8dc2e3cc64ed1adf5c814dc045b21",
            "1d856904008d44f7bb0e62158ded82df",
            "fc0b9f8a892e450fab85f810cb1c90ba",
            "3b887c95775c48bc93cce4adbb699370",
            "c96b700d4f44405198ea4e680c326b4c",
            "a6cbf8f25d8548869f6f0bc4fbdae272",
            "cd8db5cd2afe409b910fd3b396f17ee4",
            "0f266d6df11145698bdbd4a717663746",
            "909eb501b5c44c7aa67c0e4cb5a19848",
            "a736708fde094023884133fc59aa1d51",
            "3364d7bd1a5c424586ee8bf5510b1420",
            "8219908d81fc4e85bae77f43d727b07d",
            "5c08f1306f334eab90fe6a2a3d78de49",
            "e41dc8ca3e0941d39c358e55566fd3c1",
            "46f8e72c32ca4aceac059406a68baf49",
            "54f5dd5a97cb45108b80f7b8758b2d05",
            "f806e21309054c27b10ac50e6f5283fd",
            "b0ac0af6e26b41408dfb43c6c8373867",
            "d335957558b848c8b2ff9400893d4af0",
            "904343a89d7448e08bbf414a782d0fa9",
            "6377b8753ec64577bf867fb4685ac6ac",
            "e300a80e51e44630a44e6a6bbae62c44",
            "a66907155c0a4e5d8fdd816bf01a5acd",
            "fd0a7587a6374100ab72a4a8754fb559",
            "40c82426c6ce4a68b51d747dc46c5585",
            "45351bbeccdb49fda99ac171aadcd0ef",
            "53a48edb4cee47378ff93acd2ce1bc1e",
            "d98c6842d8b84a9496869ef91bad17d7",
            "429b9019b55542e8a7f177b9e630730b",
            "f70d03781623451494fe6939881113f5",
            "d1914599eac94c98ab06b6ab215f0068",
            "54ebb375c9de4e63aac530693abcc7ab",
            "d3a5a5383fc947b697014ac8f069e94f",
            "947d70607eb34972ae0830393f5a1748",
            "cfeb6f074d114919b99871c071042327",
            "8964cec153f34f85a6ea359cf811db9c",
            "1d5dc5fa61e242d09bd01d9c3095eede",
            "8090c93121a04a51a50b060c72f63281",
            "b9eebf054c7f4793af9dfc6ac8c4bb35",
            "337d301e8a39473291f5f98fcfdec3a0",
            "030a25aec29145be954921df9270a892",
            "1ca6bb6d495b4c25b19ab3fcdbc5a207",
            "fc50efe2c10a41c0b4be260baa876979",
            "642cc082d4b9429abc3ad8f8caf1296d",
            "5c323381463c45688669d1a1e3a8867b",
            "8417591bb53645b88b09ce0c4ae467ab",
            "2bb5740f2fc640238d2ea775c2d07e62",
            "4d252727dcaa44d18f445bb65faa3249",
            "3c72acb401f5484f946765520e6e9a84",
            "52fe5403a2424e28b616334c8a245dda",
            "6a8d225b31834a76b11acda890cd9554",
            "e5ca87647ee94c5eb13971f8699fb1ab",
            "a9244085fb004b908eae14da9b9e642e",
            "3c3536fe344c4375a5e76d28e1241c0c",
            "c85978629ee640f7b6afb6c596489386",
            "190022f1373b44c19cfd08becaaeb1aa",
            "a45dfb97390b4d7e9bfecda4a6708c16",
            "3117cab417964b30bd778a1859f56a1c",
            "f297cef68a94499cac8f65864e447878",
            "fc25b3512bfc47c6b85362114569fa6b",
            "6f87eaedd6ea416cbbb0b5044b0b8af8",
            "9a07f3f0147d4e2a911a17b832309ef9",
            "e5f68d2d33fc4f32b4f1aac79bbbcdfc",
            "09a85a8935d1455c949631f9e1a81ddb",
            "261cb53c5d9142319a0a9ace8a7c97ef",
            "099ae05ca3004a069f77578781f6e73c",
            "aa8d4972ab574faebfb50d62b3a07dfb",
            "e2551cf966224d89876315ccdb7aa05d",
            "aa67a36afe6f4cc69b40cee2b7414a8f",
            "73d0f87746f04774a12076c4390ca6d8",
            "ad0134e737544cc38ad7224b94dce7a0",
            "f6c71fcd98e64275ba3fc22204d639ed",
            "ee3c737d872f4dbaad294687a8f9a3e8",
            "fe3f206a0bd449f8be97a56ea39c28d1",
            "718a93fa135f493d8a56dae7c8cf7510",
            "1de9e94bbe334a9e95745fd866e88cd1",
            "de778acc71f54592898fff39b4441703",
            "f75d1319723a4aeeae4847c847c53730",
            "a3e53eee40b749808fe2b1abc0a1064a",
            "3ce8a3a9006140e280b2bfdf750c42cb",
            "1fe898d5fe0a4d16bc5c1f48433869d1",
            "aedb6acf5e054467affb34da4f5fcb07",
            "0f9b6fc4dd5842d7ab764f4c51e1488c",
            "4ddedcd0ed314162969c5f61e91c8227",
            "429063dc75d9437bb65bfd792ad81583",
            "779ccaeb7a9f447e85a6c94aae3253b1",
            "f85a0418343144bda5ab11fbdb00410b",
            "2ce5f919ba6f4d30a2144ed655b5a833",
            "8b84f442c1d84bcbb2c520d55e1b996b",
            "bf41c7a20df94b01939461d793cfb779",
            "3270b787e28740ee9155e378e7675a40",
            "611c6a9df7d54462a4dcc98f7056179b",
            "56b91eb340a94874b2e073f26163e57a",
            "7c61e5c705924b77aeb445e5a75296f9",
            "e3dda32ddc34498f8f061843b7d8fa87",
            "277d98b4861f43d38e8f37f440309f74",
            "6793449d57b246dfbc30d5d6cebfbc4d",
            "8cbf108e569947e2aa539a4647850f0e",
            "c354c5929a8a43f1a72be8a850fceb40",
            "a8ea6a22899e4eaebebb34edd917e537"
          ]
        },
        "id": "3cM-Ma7kNDo0",
        "outputId": "75fbeff4-41c3-4308-a67e-4864c9bc0f25"
      },
      "outputs": [
        {
          "name": "stderr",
          "output_type": "stream",
          "text": [
            "/usr/local/lib/python3.11/dist-packages/huggingface_hub/utils/_auth.py:94: UserWarning: \n",
            "The secret `HF_TOKEN` does not exist in your Colab secrets.\n",
            "To authenticate with the Hugging Face Hub, create a token in your settings tab (https://huggingface.co/settings/tokens), set it as secret in your Google Colab and restart your session.\n",
            "You will be able to reuse this secret in all of your notebooks.\n",
            "Please note that authentication is recommended but still optional to access public models or datasets.\n",
            "  warnings.warn(\n"
          ]
        },
        {
          "data": {
            "application/vnd.jupyter.widget-view+json": {
              "model_id": "f86512933fab460292643a8a3d706b9d",
              "version_major": 2,
              "version_minor": 0
            },
            "text/plain": [
              "modules.json:   0%|          | 0.00/349 [00:00<?, ?B/s]"
            ]
          },
          "metadata": {},
          "output_type": "display_data"
        },
        {
          "data": {
            "application/vnd.jupyter.widget-view+json": {
              "model_id": "ba0c7d1b0f044428b6f6dc556c48302e",
              "version_major": 2,
              "version_minor": 0
            },
            "text/plain": [
              "config_sentence_transformers.json:   0%|          | 0.00/116 [00:00<?, ?B/s]"
            ]
          },
          "metadata": {},
          "output_type": "display_data"
        },
        {
          "data": {
            "application/vnd.jupyter.widget-view+json": {
              "model_id": "1d856904008d44f7bb0e62158ded82df",
              "version_major": 2,
              "version_minor": 0
            },
            "text/plain": [
              "README.md: 0.00B [00:00, ?B/s]"
            ]
          },
          "metadata": {},
          "output_type": "display_data"
        },
        {
          "data": {
            "application/vnd.jupyter.widget-view+json": {
              "model_id": "5c08f1306f334eab90fe6a2a3d78de49",
              "version_major": 2,
              "version_minor": 0
            },
            "text/plain": [
              "sentence_bert_config.json:   0%|          | 0.00/53.0 [00:00<?, ?B/s]"
            ]
          },
          "metadata": {},
          "output_type": "display_data"
        },
        {
          "data": {
            "application/vnd.jupyter.widget-view+json": {
              "model_id": "fd0a7587a6374100ab72a4a8754fb559",
              "version_major": 2,
              "version_minor": 0
            },
            "text/plain": [
              "config.json:   0%|          | 0.00/571 [00:00<?, ?B/s]"
            ]
          },
          "metadata": {},
          "output_type": "display_data"
        },
        {
          "data": {
            "application/vnd.jupyter.widget-view+json": {
              "model_id": "cfeb6f074d114919b99871c071042327",
              "version_major": 2,
              "version_minor": 0
            },
            "text/plain": [
              "model.safetensors:   0%|          | 0.00/438M [00:00<?, ?B/s]"
            ]
          },
          "metadata": {},
          "output_type": "display_data"
        },
        {
          "data": {
            "application/vnd.jupyter.widget-view+json": {
              "model_id": "8417591bb53645b88b09ce0c4ae467ab",
              "version_major": 2,
              "version_minor": 0
            },
            "text/plain": [
              "tokenizer_config.json:   0%|          | 0.00/363 [00:00<?, ?B/s]"
            ]
          },
          "metadata": {},
          "output_type": "display_data"
        },
        {
          "data": {
            "application/vnd.jupyter.widget-view+json": {
              "model_id": "a45dfb97390b4d7e9bfecda4a6708c16",
              "version_major": 2,
              "version_minor": 0
            },
            "text/plain": [
              "vocab.txt: 0.00B [00:00, ?B/s]"
            ]
          },
          "metadata": {},
          "output_type": "display_data"
        },
        {
          "data": {
            "application/vnd.jupyter.widget-view+json": {
              "model_id": "e2551cf966224d89876315ccdb7aa05d",
              "version_major": 2,
              "version_minor": 0
            },
            "text/plain": [
              "tokenizer.json: 0.00B [00:00, ?B/s]"
            ]
          },
          "metadata": {},
          "output_type": "display_data"
        },
        {
          "data": {
            "application/vnd.jupyter.widget-view+json": {
              "model_id": "a3e53eee40b749808fe2b1abc0a1064a",
              "version_major": 2,
              "version_minor": 0
            },
            "text/plain": [
              "special_tokens_map.json:   0%|          | 0.00/239 [00:00<?, ?B/s]"
            ]
          },
          "metadata": {},
          "output_type": "display_data"
        },
        {
          "data": {
            "application/vnd.jupyter.widget-view+json": {
              "model_id": "bf41c7a20df94b01939461d793cfb779",
              "version_major": 2,
              "version_minor": 0
            },
            "text/plain": [
              "config.json:   0%|          | 0.00/190 [00:00<?, ?B/s]"
            ]
          },
          "metadata": {},
          "output_type": "display_data"
        }
      ],
      "source": [
        "from langchain_huggingface import HuggingFaceEmbeddings\n",
        "from langchain.vectorstores import FAISS\n",
        "\n",
        "embedding_model = \"sentence-transformers/all-mpnet-base-v2\"\n",
        "#embedding_model = \"BAAI/bge-m3\"\n",
        "\n",
        "embeddings = HuggingFaceEmbeddings(model_name = embedding_model)\n",
        "\n",
        "input_test = \"Um teste apenas\"\n",
        "\n",
        "result = embeddings.embed_query(input_test)\n",
        "#criando reprsentações vetoriais"
      ]
    },
    {
      "cell_type": "code",
      "execution_count": null,
      "metadata": {
        "colab": {
          "base_uri": "https://localhost:8080/"
        },
        "id": "uQovfuRyU9G7",
        "outputId": "f322b982-2f7d-4f92-b81d-b4e3c901746c"
      },
      "outputs": [
        {
          "data": {
            "text/plain": [
              "768"
            ]
          },
          "execution_count": 25,
          "metadata": {},
          "output_type": "execute_result"
        }
      ],
      "source": [
        "len(result)"
      ]
    },
    {
      "cell_type": "code",
      "execution_count": null,
      "metadata": {
        "colab": {
          "base_uri": "https://localhost:8080/"
        },
        "id": "bg9Uu5PEVDHo",
        "outputId": "b4b3cc8b-4bab-4164-c4fb-6e8356f9689b"
      },
      "outputs": [
        {
          "name": "stdout",
          "output_type": "stream",
          "text": [
            "[-0.026895038783550262, -0.011064727790653706, -0.04532000422477722, -0.0013972934102639556, 0.04243597015738487, -0.014201696030795574, 0.023354969918727875, 0.06011558324098587, 0.06152193248271942, 0.006502091884613037, 0.008159181103110313, -0.03056747280061245, 0.002060319297015667, 0.0129615543410182, 0.0042511713691055775, 0.0036631484981626272, -0.026755547150969505, 0.029737001284956932, -0.009770059026777744, -0.04650460556149483, -0.028108958154916763, 0.00016859530296642333, -0.02481103502213955, -0.01182831171900034, 0.0818282887339592, 0.0014993064105510712, 0.013264846988022327, -0.0624217726290226, -0.0012287232093513012, 0.02897718735039234, -0.02952898107469082, -0.02569606713950634, 0.0033771232701838017, -0.028868917375802994, 1.518517706244893e-06, -0.038824815303087234, -0.019842024892568588, -0.01765807531774044, -0.008112371899187565, -0.025130528956651688, 0.02574918232858181, 0.11367510259151459, -0.006133151240646839, -0.017986435443162918, -0.04541146382689476, -0.027877163141965866, 0.0015602917410433292, -0.0915532186627388, -0.04099876061081886, 0.09265203773975372, 0.004412863869220018, 0.010464552789926529, 0.0007996013155207038, -0.01969103328883648, 0.03650812432169914, -0.03294996917247772, -0.008631080389022827, -0.0701548159122467, 0.04781186580657959, 0.012426985427737236, 0.03929924964904785, -0.033150918781757355, 0.03459771350026131, 0.05724998190999031, -0.08736564218997955, 0.03071817383170128, 0.031383365392684937, 0.014051029458642006, 0.0017950452165678144, -0.005633516237139702, 0.048154640942811966, -0.019206702709197998, -0.011559934355318546, 0.08503212779760361, -0.006487331353127956, 0.0023521259427070618, -0.04190335050225258, 0.017693039029836655, -0.01843789592385292, -0.02610538713634014, 0.0648563951253891, 0.025859491899609566, 0.023214776068925858, 0.0554584264755249, 0.026868967339396477, 0.002058833371847868, 0.0009315970819443464, -0.026096777990460396, 0.057364970445632935, -0.02261415868997574, -0.07133799046278, -0.03026532754302025, -0.03707360476255417, 0.005593064706772566, -0.020938213914632797, 0.006007066462188959, 0.028800733387470245, -0.07083354890346527, 0.0412924624979496, -0.015260562300682068, 0.003454473102465272, -0.04460637643933296, -0.015291132964193821, 0.027724318206310272, -0.05711265280842781, 0.04585937410593033, -0.005197699647396803, 0.006527126766741276, -0.009516854770481586, 0.02570897713303566, -0.021213361993432045, -0.02610078640282154, -0.05994536355137825, 0.00188832962885499, -0.020556801930069923, 0.03388512507081032, -0.03254192695021629, -0.03989897295832634, -0.028026042506098747, 0.03304499760270119, -0.07813964784145355, 0.028564518317580223, 0.007828633300960064, -0.02149881049990654, 0.023470843210816383, -0.04386105760931969, -0.025265313684940338, 0.021412473171949387, -0.005160038359463215, -0.006203554105013609, 0.030328555032610893, -0.015578067861497402, -0.03226369991898537, -0.014691651798784733, 0.02736281231045723, 0.06135481968522072, 0.008915895596146584, -0.06337064504623413, 0.09293574094772339, -0.07296948879957199, 0.005000986624509096, -0.02166319638490677, 0.016979020088911057, 0.03933105245232582, 0.05606888234615326, 0.004061491694301367, 0.04266587644815445, -0.009427452459931374, -0.013593715615570545, 0.004144093953073025, 0.10023453831672668, -0.024249106645584106, 0.0068891397677361965, -0.006571978330612183, -0.0011964755831286311, 0.05975862592458725, 0.025898486375808716, -0.023822546005249023, -0.010319588705897331, 0.017328668385744095, 0.0173043180257082, 0.01799534633755684, -0.01657755672931671, 0.03262535482645035, 0.054933130741119385, 0.042793162167072296, 0.010805409401655197, 0.07248571515083313, 0.015065865591168404, 0.05297965928912163, -0.018466275185346603, -0.0021782119292765856, 0.013975239358842373, 0.01650877855718136, -0.03288945555686951, -0.026282010599970818, -0.017118748277425766, 0.0534709133207798, 0.03749589994549751, -0.09625166654586792, 0.053749892860651016, -0.09891689568758011, 0.04951918125152588, -0.04478053003549576, -0.005402707494795322, 0.030070597305893898, -0.018221495673060417, 0.008066208101809025, -0.04340552166104317, 0.03534466773271561, 0.031540773808956146, -0.0004619679821189493, -0.06522036343812943, 0.02847008965909481, 0.009117978624999523, -0.0018554190173745155, -0.00044073438039049506, -0.04350675269961357, -0.026620857417583466, -0.004173624329268932, -0.002683849772438407, -0.06295042484998703, 0.13889802992343903, -0.0025076030287891626, -0.008020883426070213, 0.0054751732386648655, 0.044193219393491745, -0.015630565583705902, 0.008162650279700756, -0.043154045939445496, -0.07802567631006241, -0.022255435585975647, -0.008205280639231205, -0.01221882738173008, 0.006667277310043573, -0.00887050200253725, -0.016143636777997017, 0.048574790358543396, -0.06864812225103378, 0.10150335729122162, 0.014913775026798248, 0.002720410469919443, -0.006364232394844294, 0.03729986399412155, -0.045359160751104355, 0.0015552741242572665, -0.008102761581540108, -0.0040617468766868114, -0.021751224994659424, 0.02236347831785679, 0.003913441207259893, -0.016853906214237213, 0.03583041578531265, -0.010102756321430206, 0.022808976471424103, 0.04941322281956673, 0.004059604834765196, -0.03163040801882744, -0.017502741888165474, -0.04231629520654678, -0.016446959227323532, 0.053416673094034195, -0.039991915225982666, -0.02412639744579792, -0.0008644228219054639, -0.03582378849387169, 0.046420641243457794, 0.03517133742570877, -0.002933637471869588, -0.02181144431233406, -0.007590729743242264, -0.0033185093197971582, -0.017720654606819153, -0.0041961283423006535, 0.060929760336875916, 0.03119385801255703, -0.04978980869054794, 0.02892782725393772, 0.018123405054211617, 0.005587434396147728, 0.04935727268457413, -0.038371630012989044, 0.0139800189062953, -0.005702251568436623, 0.11206532269716263, -0.03078642301261425, -0.01954059489071369, -0.061976879835128784, -0.005198345519602299, -0.01293474156409502, 0.04317965358495712, 0.05277307704091072, -0.00538673298433423, -0.005967993754893541, -0.020812474191188812, 0.006294076796621084, -0.019052626565098763, 0.03348452225327492, 0.015530155040323734, -0.025307225063443184, 0.003892389126121998, -0.011546121910214424, -0.022205747663974762, 0.005664370488375425, 0.02406254969537258, -0.0006229202845133841, 0.03223336488008499, -0.02209942415356636, 0.014996851794421673, 0.039078664034605026, -0.04726675525307655, -0.03156282752752304, -0.001101477537304163, 0.029367156326770782, -0.0059446548111736774, 0.0634828433394432, -0.028771432116627693, 0.08674214035272598, 0.04289359599351883, 0.016258111223578453, 0.057968154549598694, 0.04520077258348465, 0.00011932123743463308, -0.056625720113515854, 0.033665940165519714, 0.02216404490172863, -0.0648011565208435, -0.04862651973962784, 0.05708763003349304, -0.031306441873311996, 0.008798073045909405, -0.01576829142868519, 0.031604185700416565, 0.05372083559632301, -0.005637555383145809, 0.0025357382837682962, 0.03380724415183067, -0.07810928672552109, -0.04002636298537254, -0.022713780403137207, -0.027494752779603004, 0.04770010709762573, 0.007517891936004162, 0.004207357298582792, -0.030075984075665474, -0.06297487020492554, 0.029867522418498993, -0.031434595584869385, -0.03369980677962303, 0.01676107384264469, 0.00127014413010329, -0.05749840289354324, 0.025166962295770645, 0.03966621309518814, 0.007802662439644337, -0.02373928390443325, -0.0226193405687809, -0.004246965982019901, 0.02225457690656185, -0.012884587980806828, -0.0029128447640687227, -0.017688989639282227, -0.013026625849306583, -0.005166524555534124, 0.001362202106975019, 0.0578576996922493, 0.004168863408267498, 0.05172509327530861, -0.05108503997325897, -0.04914679005742073, -0.020909802988171577, 0.008270839229226112, -0.00133987027220428, -0.01461722794920206, 0.00036254673614166677, 0.0131101468577981, -0.007299026474356651, -0.0019826190546154976, 0.000883846718352288, -0.007931417785584927, -0.032286930829286575, -0.010726961307227612, -0.03096960484981537, -0.03613130375742912, -0.028829751536250114, 0.03239418938755989, -0.0021129262167960405, 0.0019668755121529102, -0.01113358698785305, -0.040890827775001526, 0.029149780049920082, 0.01285879872739315, -0.014429617673158646, 0.04041210934519768, -0.007630528882145882, 0.018905023112893105, 0.018534718081355095, 0.00792849250137806, -0.009208353236317635, -0.007835193537175655, 0.012929647229611874, -0.060546450316905975, 0.02852936089038849, -0.040509097278118134, -0.011371166445314884, -0.034710220992565155, 0.025328604504466057, 0.019807571545243263, -0.01273144781589508, 0.014655858278274536, 0.02746948041021824, -0.045956242829561234, 0.06308944523334503, 0.030518297106027603, 0.005620464216917753, -0.009370359592139721, 0.07778029888868332, 0.003372215898707509, 0.03219781070947647, 0.046399734914302826, 0.0551895946264267, 0.0694604367017746, -0.06990893930196762, 0.025291262194514275, -0.014019901864230633, -0.043432701379060745, 0.024918386712670326, 0.04559718817472458, 0.014913517981767654, -0.05965792387723923, 0.02631625160574913, -0.036386698484420776, -0.012211600318551064, 0.000953885552007705, -0.04916291683912277, -0.004886298906058073, 0.015948191285133362, -0.0362151637673378, 0.0003701477835420519, 0.015516567043960094, 0.04279937595129013, 0.09239181876182556, 0.03407518193125725, -0.028672615066170692, -0.0442204587161541, -0.015852227807044983, -0.05367333069443703, -0.014707908034324646, -0.03172875568270683, 0.02312006801366806, 0.0039332471787929535, 0.0208926759660244, 0.034247901290655136, -0.03408131003379822, -0.056498218327760696, -0.02956194244325161, -0.05883109197020531, -0.0012100721942260861, 0.007963237352669239, -0.04625130817294121, -0.025428080931305885, -0.00013847224181517959, -0.008623521775007248, 0.024245867505669594, -0.08036450296640396, -0.07633547484874725, -0.016686638817191124, 0.020801350474357605, -0.006170312874019146, 0.02786565013229847, 0.06137003377079964, 0.050424497574567795, -0.004134743474423885, -0.004570536781102419, 0.06354054063558578, -0.0176461823284626, 0.0020858237985521555, -0.004755185917019844, -0.00017063696577679366, 0.014183689840137959, 0.006581716705113649, 0.018288223072886467, 0.005858188029378653, -0.019091743975877762, -0.04988212510943413, -0.03656895458698273, -0.014485616236925125, -0.046975649893283844, 0.019555598497390747, -0.0395633690059185, -0.0514669269323349, -0.009109018370509148, -0.007895085029304028, 0.008904315531253815, -0.004791661165654659, 0.01499959360808134, -0.043376632034778595, -0.005429117940366268, -0.058005500584840775, 0.013606703840196133, 0.02750350907444954, 0.0029979690443724394, -0.006302862428128719, -0.04706652835011482, -0.00048449725727550685, 0.006820727605372667, 0.028988629579544067, -0.008416968397796154, 0.04322490841150284, 0.06299041211605072, -0.023079903796315193, 0.01426252443343401, -0.008182890713214874, -0.04585285112261772, -0.060829292982816696, -0.01765950582921505, 0.032998934388160706, 0.014474363066256046, 0.042233411222696304, 0.014864031225442886, 0.014850093051791191, 0.04350024089217186, 0.0043899319134652615, 0.020708493888378143, 0.028191326186060905, 0.05633518472313881, -0.022038018330931664, 0.012528309598565102, 0.020243098959326744, -0.02720511704683304, 0.030859913676977158, 0.05097552016377449, 0.057061951607465744, 0.04912228882312775, -0.07532686740159988, -0.03875262290239334, -0.06011516973376274, -0.04778816178441048, -0.04121813923120499, -0.0067374142818152905, 0.022876989096403122, -0.005868743639439344, -0.03185902163386345, -0.0017397513147443533, 0.011983741074800491, 0.02512999437749386, 0.0010289804777130485, -0.027509262785315514, 0.08624660968780518, 0.010777056217193604, -0.01709023118019104, -0.019142301753163338, 0.04873695224523544, -0.0038058925420045853, -0.05204712599515915, 0.03652622550725937, 0.060623008757829666, -0.033699993044137955, -0.05457993224263191, -0.03006914258003235, 0.02362070232629776, -0.00040285472641699016, -0.026550674811005592, 0.00036423467099666595, 0.04256290942430496, 0.04173571243882179, 0.013853278942406178, 0.06419757753610611, 0.0022169470321387053, 0.016585707664489746, 0.0017610389040783048, 0.09430364519357681, -0.12284836173057556, 0.011991472914814949, -0.08268553763628006, -6.041272483794708e-33, 0.029623964801430702, -0.04171998053789139, 0.03399186208844185, -0.04317367821931839, -0.02169002592563629, -0.005367739591747522, -0.015080608427524567, 0.01596459560096264, 0.008724517188966274, 0.014837757684290409, 0.012467566877603531, -0.08036110550165176, 0.011160050518810749, -0.008566008880734444, 0.013953996822237968, 0.035220917314291, 0.009990103542804718, -0.043255966156721115, -0.0424102246761322, -0.02629796601831913, -0.0189993716776371, -0.023900412023067474, 0.06179909035563469, 0.015350040048360825, 0.03656080365180969, -0.05076818913221359, 0.014108455739915371, 0.006591079290956259, -0.08108485490083694, -0.0007322560995817184, 0.0223105289041996, 0.009007135406136513, 0.04123253375291824, 0.03427502140402794, 0.07497353851795197, 0.0013246753951534629, 0.039470940828323364, -0.037754666060209274, 0.05166225507855415, 0.035693928599357605, -0.050363536924123764, -0.03865087032318115, 0.0005449859309010208, -0.010135224089026451, 0.005389264784753323, 0.020403491333127022, -0.0009994148276746273, -0.04171357303857803, 0.02308122254908085, -0.045247867703437805, 0.030325787141919136, 0.010595048777759075, 0.02601919323205948, -0.041253410279750824, 0.022419845685362816, 0.09777531772851944, -0.012653072364628315, -0.08025769144296646, 0.03153529018163681, -0.003796131582930684, 0.03268150985240936, -0.015776662155985832, 0.01083444431424141, -0.029962662607431412, -0.017286302521824837, -0.012102213688194752, 0.045264121145009995, -0.02983252890408039, 0.04376808553934097, 0.023305509239435196, -0.00014861022646073252, 0.0009504701010882854, 0.015173202380537987, 0.0022456019651144743, -0.007003559730947018, 0.02967291697859764, 0.004535234998911619, 0.014706531539559364, 0.03527473658323288, 0.039405159652233124, 0.005220011807978153, -0.031784169375896454, -0.02239251881837845, 0.009863256476819515, -0.008316915482282639, -0.046990685164928436, -0.027865998446941376, -0.06348733603954315, -0.05670987442135811, -0.010592453181743622, 0.0034515182487666607, 0.05052618682384491, -0.02408197708427906, -0.03432294353842735, 0.010506992228329182, -0.06821903586387634, -0.08237326145172119, -0.014462570659816265, 0.01888204552233219, 0.00798802636563778, -0.031108295544981956, 0.02713708207011223, 0.017847904935479164, 0.0864173173904419, -0.032928988337516785, -0.030301561579108238, 0.011653636582195759, -0.027213234454393387, -0.01407267153263092, 0.03499468043446541, 0.02563856914639473, 0.04131951183080673, 0.020941678434610367, -0.029840201139450073, 0.010065642185509205, 0.06347320973873138, 0.025003375485539436, -0.027065938338637352, -0.03164173290133476, -0.0483323335647583, -0.059617966413497925, 0.022296689450740814, -0.003733031451702118, 0.008703596889972687, -0.04224719479680061, -0.034361325204372406, 0.019108666107058525, 0.0657314583659172, -0.06816918402910233, -0.03570781648159027, -0.006035949103534222, -0.026023898273706436, 2.345032612538489e-07, -0.021343091502785683, 0.06288006901741028, 0.023480752483010292, -0.018586423248052597, 0.030350375920534134, -0.016687771305441856, -0.018327591940760612, 0.042415618896484375, 0.011716832406818867, 0.01138868648558855, 0.016773052513599396, -0.02297777123749256, -0.0073629384860396385, 0.0002796227636281401, -0.031322747468948364, 0.031277675181627274, -0.0695112943649292, -0.01377976592630148, -0.024242019280791283, -0.052494876086711884, -0.025316279381513596, 0.010528587736189365, -0.006585215218365192, -0.0234767347574234, -0.04902523383498192, -0.014900345355272293, 0.025055907666683197, 0.0225448627024889, -0.04918356612324715, -0.06017875671386719, 0.042779285460710526, 0.0858953446149826, 0.0031902119517326355, 0.02429933473467827, 0.015067098662257195, -0.021560082212090492, 0.0023984876461327076, -0.0007855644798837602, 0.018858373165130615, 0.030646750703454018, 0.048287201672792435, -0.04779693856835365, -0.017014682292938232, 0.0034241448156535625, 0.04564568027853966, -0.00624847924336791, -0.019756196066737175, -0.02017003856599331, 0.05161748081445694, -0.03356390446424484, -0.02270865999162197, 0.0026186301838606596, 0.007378630340099335, 0.03040112741291523, -0.02293228916823864, -0.00040753354551270604, 0.02446899563074112, -0.03299545496702194, -0.0006159980548545718, 0.10305844247341156, -0.0023264549672603607, -0.04382089525461197, 0.03479288890957832, 0.08542438596487045, 0.0026990165933966637, -0.05801437795162201, 0.017570778727531433, 1.3583878408689223e-34, -0.03432239964604378, 0.0009079049341380596, -0.004187998827546835, -0.010864615440368652, 0.00746578723192215, -0.0037146613467484713, 0.0018862609285861254, -0.01174072828143835, 0.05101265385746956, 0.0008828238933347166, 0.004050464369356632]\n"
          ]
        }
      ],
      "source": [
        "print(result)"
      ]
    },
    {
      "cell_type": "markdown",
      "metadata": {
        "id": "nyovcz--VKpW"
      },
      "source": [
        "### Armazenamento - Geração de embeddings e indexação"
      ]
    },
    {
      "cell_type": "code",
      "execution_count": null,
      "metadata": {
        "colab": {
          "base_uri": "https://localhost:8080/"
        },
        "id": "ZtwPiF9LVN_g",
        "outputId": "93f6e3eb-e461-4498-c5ee-81ab17ee596c"
      },
      "outputs": [
        {
          "data": {
            "text/plain": [
              "186"
            ]
          },
          "execution_count": 27,
          "metadata": {},
          "output_type": "execute_result"
        }
      ],
      "source": [
        "len(chunks)"
      ]
    },
    {
      "cell_type": "code",
      "execution_count": null,
      "metadata": {
        "colab": {
          "base_uri": "https://localhost:8080/",
          "height": 90
        },
        "id": "Eo3TNuF9YJPV",
        "outputId": "c71eb235-138c-4803-be8a-7a58215f5ca6"
      },
      "outputs": [
        {
          "data": {
            "application/vnd.google.colaboratory.intrinsic+json": {
              "type": "string"
            },
            "text/plain": [
              "'1/23\\nMOD.: 4769-023E                    VERSÃO: 02/2020\\nRegulamento para Abertura de Contas de \\nDepósito, Produtos e Serviços - Pessoa Física\\nImportante:\\n- Emprestar sua Conta de Depósito para utilização por terceiros poderá acarretar problemas \\ngraves, inclusive, sob o ponto de vista legal;\\n- Não empreste sua Conta de Depósito ou o seu Cartão Next para utilização por terceiros;\\n- Cuidado com o uso de Códigos Secretos (Senhas). Eles são pessoais e intransferíveis.\\nPrezado Cliente,'"
            ]
          },
          "execution_count": 28,
          "metadata": {},
          "output_type": "execute_result"
        }
      ],
      "source": [
        "chunks[0]"
      ]
    },
    {
      "cell_type": "markdown",
      "metadata": {
        "id": "Cmjelp3iYXDv"
      },
      "source": [
        "###Armazenando no banco de dados vetorial"
      ]
    },
    {
      "cell_type": "code",
      "execution_count": null,
      "metadata": {
        "id": "exvB92N6YRyh"
      },
      "outputs": [],
      "source": [
        "vectorstore = FAISS.from_texts(chunks, embedding=embeddings)"
      ]
    },
    {
      "cell_type": "markdown",
      "metadata": {
        "id": "Pll4cCKSZLLf"
      },
      "source": [
        "###Salvando Indice Faiss"
      ]
    },
    {
      "cell_type": "code",
      "execution_count": null,
      "metadata": {
        "id": "wPfMXs9rZZbX"
      },
      "outputs": [],
      "source": [
        "vectorstore.save_local(\"index_faiss\")\n",
        "# salva o índice FAISS no diretório local para reutilização futura"
      ]
    },
    {
      "cell_type": "markdown",
      "metadata": {
        "id": "dLWs-OCQaFmd"
      },
      "source": [
        "###Configurando o recuperador de texto / Retriever"
      ]
    },
    {
      "cell_type": "code",
      "execution_count": null,
      "metadata": {
        "colab": {
          "base_uri": "https://localhost:8080/"
        },
        "id": "RKf1uz-HZ7S7",
        "outputId": "981e8148-d039-4cd9-adb8-cb67ceeb98d0"
      },
      "outputs": [
        {
          "data": {
            "text/plain": [
              "VectorStoreRetriever(tags=['FAISS', 'HuggingFaceEmbeddings'], vectorstore=<langchain_community.vectorstores.faiss.FAISS object at 0x7d62201f8290>, search_kwargs={'k': 6})"
            ]
          },
          "execution_count": 31,
          "metadata": {},
          "output_type": "execute_result"
        }
      ],
      "source": [
        "retriever = vectorstore.as_retriever(search_type = \"similarity\", search_kwargs={\"k\": 6})\n",
        "retriever\n",
        "#cria um buscador baseado em similaridade (usa FAISS para encontrar os chunks mais parecidos)"
      ]
    },
    {
      "cell_type": "markdown",
      "metadata": {
        "id": "EbHFf_O9bAUb"
      },
      "source": [
        "###Geração"
      ]
    },
    {
      "cell_type": "code",
      "execution_count": null,
      "metadata": {
        "colab": {
          "base_uri": "https://localhost:8080/"
        },
        "id": "RzlWLb_Da4JW",
        "outputId": "45da5280-e0f0-4fe5-ed41-ed79f2849619"
      },
      "outputs": [
        {
          "data": {
            "text/plain": [
              "PromptTemplate(input_variables=['context', 'input'], input_types={}, partial_variables={}, template='\\nPergunta: {input}\\nContexto: {context}\\n')"
            ]
          },
          "execution_count": 32,
          "metadata": {},
          "output_type": "execute_result"
        }
      ],
      "source": [
        "prompt_rag = PromptTemplate(\n",
        "    input_variables=[\"context\", \"input\"],\n",
        "    template=template_rag,\n",
        ")\n",
        "prompt_rag\n",
        "#criando o template de prompt que será usado com os textos recuperados e a pergunta do usuário"
      ]
    },
    {
      "cell_type": "code",
      "execution_count": null,
      "metadata": {
        "id": "7UMUc08nbei9"
      },
      "outputs": [],
      "source": [
        "from langchain_core.runnables import RunnablePassthrough\n",
        "\n",
        "chain_rag = (\n",
        "    {\"context\": retriever, \"input\": RunnablePassthrough()}\n",
        "    | prompt_rag\n",
        "    | llm\n",
        "    | StrOutputParser()\n",
        ")\n",
        "#montando a cadeia Rag"
      ]
    },
    {
      "cell_type": "code",
      "execution_count": null,
      "metadata": {
        "colab": {
          "base_uri": "https://localhost:8080/",
          "height": 98
        },
        "id": "en2RjWLTbk01",
        "outputId": "70b6c710-928a-4396-c50f-bce331353489"
      },
      "outputs": [
        {
          "data": {
            "text/markdown": "Com base nos documentos fornecidos, é possível inferir que o público alvo do banco são pessoas físicas que desejam abrir contas de depósito e contratar produtos e serviços bancários. Isso é sugerido pelas referências a \"Pessoa Física\" em vários documentos, como o \"Regulamento para Abertura de Contas de Depósito, Produtos e Serviços - Pessoa Física\". Além disso, as informações sobre tarifas, impostos e responsabilidades também sugerem que o público alvo são indivíduos que buscam utilizar os serviços bancários do Next.",
            "text/plain": [
              "<IPython.core.display.Markdown object>"
            ]
          },
          "metadata": {},
          "output_type": "display_data"
        }
      ],
      "source": [
        "res = chain_rag.invoke(\"Qual é o público alvo do banco?\")\n",
        "show_res(res)\n",
        "#executando o sistema"
      ]
    },
    {
      "cell_type": "markdown",
      "metadata": {
        "id": "vbciZztscDmV"
      },
      "source": [
        "###Melhorando o prompt"
      ]
    },
    {
      "cell_type": "code",
      "execution_count": null,
      "metadata": {
        "colab": {
          "base_uri": "https://localhost:8080/"
        },
        "id": "ufapen8ycGu_",
        "outputId": "8b094a95-8e32-4767-d6b7-e495b860bb19"
      },
      "outputs": [
        {
          "data": {
            "text/plain": [
              "ChatPromptTemplate(input_variables=['context', 'input'], input_types={}, partial_variables={}, messages=[SystemMessagePromptTemplate(prompt=PromptTemplate(input_variables=[], input_types={}, partial_variables={}, template='Você é um assistente virtual chamado Nx, você é prestativo e está respondendo perguntas gerais sobre os serviços de uma empresa.\\nUse os seguintes pedaços de contexto recuperado para responder à pergunta.\\nSe você não sabe a resposta, apenas comente que não sabe dizer com certeza.\\nMas caso seja uma dúvida muito comum, pode sugerir como alternativa uma solução possível.\\nMantenha a resposta concisa.\\nResponda em português. \\n\\n'), additional_kwargs={}), HumanMessagePromptTemplate(prompt=PromptTemplate(input_variables=['context', 'input'], input_types={}, partial_variables={}, template='Pergunta: {input}\\n\\n Contexto: {context}'), additional_kwargs={})])"
            ]
          },
          "execution_count": 35,
          "metadata": {},
          "output_type": "execute_result"
        }
      ],
      "source": [
        "system_prompt = \"\"\"Você é um assistente virtual chamado Nx, você é prestativo e está respondendo perguntas gerais sobre os serviços de uma empresa.\n",
        "Use os seguintes pedaços de contexto recuperado para responder à pergunta.\n",
        "Se você não sabe a resposta, apenas comente que não sabe dizer com certeza.\n",
        "Mas caso seja uma dúvida muito comum, pode sugerir como alternativa uma solução possível.\n",
        "Mantenha a resposta concisa.\n",
        "Responda em português. \\n\\n\"\"\"\n",
        "\n",
        "qa_prompt = ChatPromptTemplate.from_messages(\n",
        "    [\n",
        "        (\"system\", system_prompt),\n",
        "        (\"human\", \"Pergunta: {input}\\n\\n Contexto: {context}\"),\n",
        "    ]\n",
        ")\n",
        "qa_prompt"
      ]
    },
    {
      "cell_type": "code",
      "execution_count": null,
      "metadata": {
        "colab": {
          "base_uri": "https://localhost:8080/",
          "height": 110
        },
        "id": "rKv6kVfLcMvw",
        "outputId": "5868a560-f523-4264-92b7-42908afa9d7e"
      },
      "outputs": [
        {
          "data": {
            "text/markdown": "Olá!\n\nPara abrir uma conta, você precisará preencher a Ficha-Proposta ou o Termo de Adesão. Além disso, é necessário concordar com as condições para abertura, movimentação e manutenção da Conta de Depósito, na modalidade Conta Fácil.\n\nSe tiver alguma dúvida adicional, sinta-se à vontade para perguntar!",
            "text/plain": [
              "<IPython.core.display.Markdown object>"
            ]
          },
          "metadata": {},
          "output_type": "display_data"
        }
      ],
      "source": [
        "chain_rag = (\n",
        "    {\"context\": retriever, \"input\": RunnablePassthrough()}\n",
        "    | qa_prompt\n",
        "    | llm\n",
        "    | StrOutputParser()\n",
        ")\n",
        "\n",
        "res = chain_rag.invoke(\"Como abrir uma conta?\")\n",
        "show_res(res)\n",
        "#montando a cadeia rag"
      ]
    },
    {
      "cell_type": "markdown",
      "metadata": {
        "id": "ssR0XKe-cdFX"
      },
      "source": [
        "###Melhorar no método de busca"
      ]
    },
    {
      "cell_type": "code",
      "execution_count": null,
      "metadata": {
        "id": "me1wFXdGcYO3"
      },
      "outputs": [],
      "source": [
        "retriever = vectorstore.as_retriever(\n",
        "    search_type='mmr',\n",
        "    search_kwargs={'k':3, 'fetch_k':4}\n",
        ")\n",
        "#equilibrando relevancia e diversidade"
      ]
    },
    {
      "cell_type": "markdown",
      "metadata": {
        "id": "AmCE-gMUc__G"
      },
      "source": [
        "###Pipeline Rag"
      ]
    },
    {
      "cell_type": "code",
      "execution_count": null,
      "metadata": {
        "id": "Q37H33I5c7gK"
      },
      "outputs": [],
      "source": [
        "from langchain_core.prompts import MessagesPlaceholder\n",
        "from langchain_core.messages import AIMessage, HumanMessage\n",
        "from langchain.chains import create_history_aware_retriever, create_retrieval_chain\n",
        "from langchain.chains.combine_documents import create_stuff_documents_chain\n",
        "\n",
        "context_q_system_prompt = \"Given the following chat history and the follow-up question which might reference context in the chat history, formulate a standalone question which can be understood without the chat history. Do NOT answer the question, just reformulate it if needed and otherwise return it as is.\"\n",
        "context_q_system_prompt = context_q_system_prompt\n",
        "context_q_user_prompt = \"Question: {input}\"\n",
        "context_q_prompt = ChatPromptTemplate.from_messages(\n",
        "    [\n",
        "        (\"system\", context_q_system_prompt),\n",
        "        MessagesPlaceholder(\"chat_history\"),\n",
        "        (\"human\", context_q_user_prompt),\n",
        "    ]\n",
        ")\n",
        "#instruções para o modelo reformular a pergunta levando em conta o histórico da conversa,"
      ]
    },
    {
      "cell_type": "code",
      "execution_count": null,
      "metadata": {
        "id": "YboodxO1dgnV"
      },
      "outputs": [],
      "source": [
        "history_aware_retriever = create_history_aware_retriever(\n",
        "    llm = llm, retriever = retriever, prompt = context_q_prompt\n",
        ")\n",
        "#criando um retriever que intende o historico da conversa"
      ]
    },
    {
      "cell_type": "code",
      "execution_count": null,
      "metadata": {
        "id": "lPIfUi4udyMh"
      },
      "outputs": [],
      "source": [
        "qa_prompt = ChatPromptTemplate.from_messages([\n",
        "    (\"system\", system_prompt),\n",
        "    MessagesPlaceholder(\"chat_history\"),\n",
        "    (\"human\", \"Pergunta: {input}\\n\\n Contexto: {context}\"),\n",
        "])\n",
        "\n",
        "qa_chain = create_stuff_documents_chain(llm, qa_prompt)\n",
        "\n",
        "rag_chain = create_retrieval_chain(history_aware_retriever, qa_chain)\n",
        "#chain para perguntas e respostas"
      ]
    },
    {
      "cell_type": "code",
      "execution_count": null,
      "metadata": {
        "id": "yi-3VPeReWyo"
      },
      "outputs": [],
      "source": [
        "from langchain_core.prompts import MessagesPlaceholder\n",
        "from langchain_core.messages import AIMessage, HumanMessage\n",
        "from langchain.chains import create_history_aware_retriever, create_retrieval_chain\n",
        "from langchain.chains.combine_documents import create_stuff_documents_chain\n",
        "\n",
        "def config_rag_chain(llm, retriever):\n",
        "\n",
        "    # Prompt de contextualização\n",
        "    context_q_system_prompt = \"Given the following chat history and the follow-up question which might reference context in the chat history, formulate a standalone question which can be understood without the chat history. Do NOT answer the question, just reformulate it if needed and otherwise return it as is.\"\n",
        "\n",
        "    context_q_system_prompt = context_q_system_prompt\n",
        "    context_q_user_prompt = \"Question: {input}\"\n",
        "    context_q_prompt = ChatPromptTemplate.from_messages(\n",
        "        [\n",
        "            (\"system\", context_q_system_prompt),\n",
        "            MessagesPlaceholder(\"chat_history\"),\n",
        "            (\"human\", context_q_user_prompt),\n",
        "        ]\n",
        "    )\n",
        "\n",
        "    # Chain para contextualização\n",
        "    history_aware_retriever = create_history_aware_retriever(\n",
        "        llm=llm, retriever=retriever, prompt=context_q_prompt\n",
        "    )\n",
        "\n",
        "    # Prompt para perguntas e respostas (Q&A)\n",
        "    system_prompt = \"\"\"Você é o NX um assistente virtual prestativo e está respondendo perguntas gerais sobre os serviços de uma empresa.\n",
        "    Use os seguintes pedaços de contexto recuperado para responder à pergunta.\n",
        "    Se você não sabe a resposta, apenas comente que não sabe dizer com certeza.\n",
        "    Mas caso seja uma dúvida muito comum, pode sugerir como alternativa uma solução possível.\n",
        "    Mantenha a resposta concisa.\n",
        "    Responda em português. \\n\\n\"\"\"\n",
        "\n",
        "    qa_prompt = ChatPromptTemplate.from_messages([\n",
        "        (\"system\", system_prompt),\n",
        "        MessagesPlaceholder(\"chat_history\"),\n",
        "        (\"human\", \"Pergunta: {input}\\n\\n Contexto: {context}\"),\n",
        "    ])\n",
        "\n",
        "    # Configurar LLM e Chain para perguntas e respostas (Q&A)\n",
        "\n",
        "    qa_chain = create_stuff_documents_chain(llm, qa_prompt)\n",
        "\n",
        "    rag_chain = create_retrieval_chain(\n",
        "        history_aware_retriever,\n",
        "        qa_chain,\n",
        "    )\n",
        "\n",
        "    return rag_chain"
      ]
    },
    {
      "cell_type": "markdown",
      "metadata": {
        "id": "POeAcWfgebpI"
      },
      "source": [
        "###Adicionando historio da converssa"
      ]
    },
    {
      "cell_type": "code",
      "execution_count": null,
      "metadata": {
        "id": "OSVAOz7seY-x"
      },
      "outputs": [],
      "source": [
        "store = {}"
      ]
    },
    {
      "cell_type": "code",
      "execution_count": null,
      "metadata": {
        "id": "XaV9_V96esHa"
      },
      "outputs": [],
      "source": [
        "from langchain_core.runnables.history import RunnableWithMessageHistory\n",
        "from langchain_community.chat_message_histories import ChatMessageHistory\n",
        "from langchain_core.chat_history import BaseChatMessageHistory\n",
        "\n",
        "def get_session_history(session_id: str) -> BaseChatMessageHistory:\n",
        "  if session_id not in store:\n",
        "    store[session_id] = ChatMessageHistory()\n",
        "  return store[session_id]\n",
        "#criando uma função para gerenciar o histórico de chat por sessão"
      ]
    },
    {
      "cell_type": "code",
      "execution_count": null,
      "metadata": {
        "id": "MYWKUZwZe5tf"
      },
      "outputs": [],
      "source": [
        "qa_chain_with_history = RunnableWithMessageHistory(\n",
        "    qa_chain,\n",
        "    get_session_history,\n",
        "    input_messages_key = \"input\",\n",
        "    history_messages_key = \"chat_history\"\n",
        ")"
      ]
    },
    {
      "cell_type": "code",
      "execution_count": null,
      "metadata": {
        "id": "t9RAjzexfD7w"
      },
      "outputs": [],
      "source": [
        "session_id = \"usuario_42\""
      ]
    },
    {
      "cell_type": "code",
      "execution_count": null,
      "metadata": {
        "colab": {
          "base_uri": "https://localhost:8080/"
        },
        "id": "vmtJs-Fmfdty",
        "outputId": "18b735c4-367a-4b1c-a284-0aeb63af137e"
      },
      "outputs": [
        {
          "name": "stdout",
          "output_type": "stream",
          "text": [
            "Olá! Para abrir uma conta, é necessário fornecer informações pessoais, como nome, CPF, data de nascimento e endereço. Além disso, você precisará de um documento de identificação válido, como RG ou CNH. É possível abrir uma conta online ou pessoalmente em uma de nossas agências.\n"
          ]
        }
      ],
      "source": [
        "response1 = qa_chain_with_history.invoke(\n",
        "    {\"input\": \"O que é necessário para abrir uma conta?\", \"context\": \"\"},\n",
        "    config = {\"configurable\": {\"session_id\": session_id}}\n",
        ")\n",
        "print(response1)"
      ]
    },
    {
      "cell_type": "code",
      "execution_count": null,
      "metadata": {
        "colab": {
          "base_uri": "https://localhost:8080/"
        },
        "id": "Jcs2loBufvsp",
        "outputId": "e06009bd-aeef-421a-8722-176e6fd19032"
      },
      "outputs": [
        {
          "name": "stdout",
          "output_type": "stream",
          "text": [
            "Sua última pergunta foi \"O que é necessário para abrir uma conta?\"\n"
          ]
        }
      ],
      "source": [
        "response2 = qa_chain_with_history.invoke(\n",
        "    {\"input\": \"Qual minha última pergunta?\", \"context\": \"\"},\n",
        "    config={\"configurable\": {\"session_id\": session_id}},\n",
        ")\n",
        "print(response2)\n",
        "#tstando memoria"
      ]
    },
    {
      "cell_type": "markdown",
      "metadata": {
        "id": "Oer1g_r4gH2T"
      },
      "source": [
        "###Passando histórico de chat à Chain"
      ]
    },
    {
      "cell_type": "code",
      "execution_count": null,
      "metadata": {
        "id": "Dih8fhwIgDoO"
      },
      "outputs": [],
      "source": [
        "rag_chain = config_rag_chain(llm, retriever)\n",
        "# juntando o modelo (llm), o sistema de recuperação com histórico (retriever) e os prompts configurados na função config_rag_chain."
      ]
    },
    {
      "cell_type": "code",
      "execution_count": null,
      "metadata": {
        "id": "q1gT6BHRgZSS"
      },
      "outputs": [],
      "source": [
        "chat_history = []\n",
        "# criando uma lista vazia para armazenar o histórico da conversa manualmente"
      ]
    },
    {
      "cell_type": "code",
      "execution_count": null,
      "metadata": {
        "colab": {
          "base_uri": "https://localhost:8080/"
        },
        "id": "Hb6xQl0sgpTd",
        "outputId": "2fbae202-ee1e-478a-e63f-c15bf8efd863"
      },
      "outputs": [
        {
          "name": "stdout",
          "output_type": "stream",
          "text": [
            "Infelizmente, o contexto fornecido não apresenta informações claras sobre como abrir uma conta. No entanto, posso sugerir que você entre em contato com a empresa diretamente ou visite uma de suas agências para obter mais informações sobre como abrir uma conta. É provável que você precise fornecer documentos pessoais, como RG e CPF, e preencher um formulário de abertura de conta.\n"
          ]
        }
      ],
      "source": [
        "input = \"como abrir uma conta\"\n",
        "\n",
        "chat_history.append(HumanMessage(content=input))\n",
        "\n",
        "result = rag_chain.invoke({\"input\": input, \"chat_history\": chat_history})\n",
        "\n",
        "res = result['answer']\n",
        "print(res)\n",
        "\n",
        "chat_history.append(AIMessage(content=res))\n",
        "#fluxo básico de uma conversa com histórico manual, usando o rag_chain"
      ]
    },
    {
      "cell_type": "code",
      "execution_count": null,
      "metadata": {
        "colab": {
          "base_uri": "https://localhost:8080/"
        },
        "id": "XElRKE0xhCb6",
        "outputId": "3e018c3e-1365-4a29-9945-f62b4816ab50"
      },
      "outputs": [
        {
          "data": {
            "text/plain": [
              "[HumanMessage(content='como abrir uma conta', additional_kwargs={}, response_metadata={}),\n",
              " AIMessage(content='Infelizmente, o contexto fornecido não apresenta informações claras sobre como abrir uma conta. No entanto, posso sugerir que você entre em contato com a empresa diretamente ou visite uma de suas agências para obter mais informações sobre como abrir uma conta. É provável que você precise fornecer documentos pessoais, como RG e CPF, e preencher um formulário de abertura de conta.', additional_kwargs={}, response_metadata={})]"
            ]
          },
          "execution_count": 51,
          "metadata": {},
          "output_type": "execute_result"
        }
      ],
      "source": [
        "chat_history"
      ]
    },
    {
      "cell_type": "code",
      "execution_count": null,
      "metadata": {
        "colab": {
          "base_uri": "https://localhost:8080/"
        },
        "id": "TtP2ZwCahzOU",
        "outputId": "445ffbfb-8411-4d4b-c587-688a22dc77d5"
      },
      "outputs": [
        {
          "name": "stdout",
          "output_type": "stream",
          "text": [
            "Sua última pergunta foi \"como abrir uma conta\".\n"
          ]
        }
      ],
      "source": [
        "input = \"Qual foi minha última pergunta?\"\n",
        "result = rag_chain.invoke({\n",
        "    \"input\": input,\n",
        "    \"chat_history\": chat_history\n",
        "})\n",
        "res = result[\"answer\"]\n",
        "print(res)\n",
        "#historico da conversa para responder as perguntas"
      ]
    },
    {
      "cell_type": "markdown",
      "metadata": {
        "id": "NCMmf-2KiJ5F"
      },
      "source": [
        "###Configuração a função de Indexação e Recuperação"
      ]
    },
    {
      "cell_type": "code",
      "execution_count": null,
      "metadata": {
        "id": "nPgCJesqiFA3"
      },
      "outputs": [],
      "source": [
        "from pathlib import Path\n",
        "from langchain_community.document_loaders import PyMuPDFLoader\n",
        "from langchain_text_splitters import RecursiveCharacterTextSplitter\n",
        "from langchain_huggingface import HuggingFaceEmbeddings\n",
        "from langchain.vectorstores import FAISS\n",
        "\n",
        "def config_retriever(folder_path=\"/content\"):\n",
        "    # Carregar documentos\n",
        "    docs_path = Path(\"/content\")\n",
        "    pdf_files = [f for f in docs_path.glob(\"*.pdf\")]\n",
        "\n",
        "    loaded_documents = [extract_text_pdf(pdf) for pdf in pdf_files]\n",
        "\n",
        "    # Divisão em pedaços de texto / Split\n",
        "    text_splitter = RecursiveCharacterTextSplitter(\n",
        "        chunk_size=1000,\n",
        "        chunk_overlap=200\n",
        "    )\n",
        "    chunks = []\n",
        "    for doc in loaded_documents:\n",
        "        chunks.extend(text_splitter.split_text(doc))\n",
        "\n",
        "    # Embeddings\n",
        "    embedding_model = \"BAAI/bge-m3\"\n",
        "\n",
        "    embeddings = HuggingFaceEmbeddings(model_name=embedding_model)\n",
        "\n",
        "    # Armazenamento\n",
        "    vectorstore = FAISS.from_texts(chunks, embedding=embeddings)\n",
        "\n",
        "    vectorstore.save_local('index_faiss')\n",
        "\n",
        "    # Configurando o recuperador de texto / Retriever\n",
        "    retriever = vectorstore.as_retriever(\n",
        "        search_type='mmr',\n",
        "        search_kwargs={'k':3, 'fetch_k':4}\n",
        "    )\n",
        "\n",
        "    return retriever"
      ]
    },
    {
      "cell_type": "code",
      "execution_count": null,
      "metadata": {
        "colab": {
          "base_uri": "https://localhost:8080/",
          "height": 457,
          "referenced_widgets": [
            "a69a5f433a5645a491c0fa67a7aa51d4",
            "25d593ebca704f6d840e17cec15d7dd6",
            "432af6af09934f8bbfc1f30311ff4f61",
            "34e5e2a055af470eacd8ae5f35e6fb30",
            "271cec0b6dd544399bd800be6e1944a6",
            "e9f37290fe6947bda1b4f14867aea480",
            "793eb23dc29d4670ad6d654c0aa44a1b",
            "be7498920799443d9e958703137d740f",
            "93b8fed378ec462eaadc6e4784f6d934",
            "5abc1c0eec75436980b302e4197b3739",
            "343077b106a1475791ec4d67acf03b29",
            "c649d8d820734950a021ae05eafbbd45",
            "d1d427aa096f4ca787c10bbcc13213a7",
            "bcec342efa5a451b8cef06e63123e3bf",
            "42322a8578bc4376b3c055768b3d6b86",
            "5c095f9dde554058930261c3c8d44043",
            "91743ea84c11427fae525f0cec4c8e28",
            "6254649529bf409eb66481f41d680437",
            "dc5918b1ccb94743a35a700f0bd18394",
            "78ce06e5c621409ba2095d04f936ce82",
            "e08f7ef7d8964bdb8d144825c634472b",
            "37c00bef90ca49f98c6df1dea7345476",
            "6e2080376e9d456c86c022167cfd618b",
            "a107d2b01f824771aeac2476a6083390",
            "42cc1d1c5b5f4dac8df018de3171a66e",
            "e0e8aeee2e7e4d96a709724203cdbbe8",
            "363b552a5c5d4609bb2cbde19e35838c",
            "3e305b63e5e5455f9bc6b0c0a0a0c8b7",
            "b76307022d774f188c861df3f838a510",
            "a5967f2ff4d64f438bd1cb24c6b9b0f3",
            "2a6c6c9d865d4e219b5337723e381458",
            "40782b5cb07b40c9b970f3bf5f296348",
            "edf9a65393994825bc44eff908ad2bd3",
            "122294a490b348ccb854e37cf49c4609",
            "353475b0607343088df2afdbcbb95a37",
            "d1411380afea41a482932b4ea53c37fe",
            "b97c228bdd61451aa9383d8e253f0207",
            "bf5871a078f74ea28eac628718619498",
            "1c4f8fea3f2b4c7fa1d10f62955b0975",
            "e0fa426c0d34407ea02dc76aeb0e8a61",
            "a895d2c8230e41d9b8782366ef1c36c4",
            "bac01c076e724bf5af0cd6f281756dd4",
            "e443086e7de4448f8b2097dc4c068438",
            "7670ec2aa88b4600ab00ffe5d159de50",
            "55f15e6bf2da45dd9dd396468d28a054",
            "7224c50a7da647b59547155f2b53e3dc",
            "5bead01a5e5f481abb03c4abea534d84",
            "9fc520fb64074202b0c7019a43bea9db",
            "9c9122c31745407c9933f60b3af74430",
            "ec7f7d18004444bba5e230db99895489",
            "287ec2164f9e4626be9a4c5f18b1d7b6",
            "00285684b9a24bfb8db556e80c7c9860",
            "c736aaac9db644ffa720d2fa944442a7",
            "2120cf555e754dac82adc968f1c0fd5f",
            "3bbc98d6314c446e949c917ea1c04b04",
            "517eb25b1333407f83bbef6883a41292",
            "e6b6db759d204b26979704a593c48d82",
            "455fd547dd5b44b5b37191dde5fb697a",
            "7cdf57c13d3c4bc0aadd5b9db73e5c56",
            "1da72d240df9493a9ff64093fb81f3d0",
            "527d37ac75ed4229988ce7f21ec0b8f6",
            "80117321e9004ae5b323f37982a2e3ef",
            "faa2b9a9aae6436eb8a019901f703d18",
            "26e0517af481404b898bf618cc006433",
            "1317f64c6604487db8c0134b50787e68",
            "f4aa204d8e91498590a572f91a98e52c",
            "6b2f92ab70f545c488ff4d261cd8b1cc",
            "47066a80fbf14e8ea11b0519e6f7dc73",
            "f576293837224c998ff5a89b4f9217e8",
            "1420b188f3954e6287b0a9a0691d3d41",
            "020dd68f996649219178df951492c0f2",
            "5c31d13df7e14c4aba4e797c93141c47",
            "616345d0fefa4101b2c051fc1582c8fc",
            "aa76a3caee17457aab146877a8da2944",
            "9f0815389f7e47c9a6244dc4b8ec1836",
            "6ae75849081f4201a5b2d56da2785541",
            "1dd347f946a6449d8f97e395ed87fe69",
            "558c365b84994a44b4fd55f2e8f4867f",
            "beb83a9bd7b14ef8ad7f6926f726cbcf",
            "180e60b2c1d842db9ef1a115e7c945af",
            "c487aaf2ddf040a492d8883e6f797b9b",
            "01d50da89f034a768a3407febee7ef40",
            "d20653313de14973bb902fce3284b26c",
            "466c9fb04b874fbe88bb27842fdc1cc8",
            "76b54ee3564d455faeb74d406dbec219",
            "d37e26df48ef408391abe9f8b6dd1acb",
            "f2113451f26043b49a6c63ab21a611f9",
            "a44c22f0d543456c86d9a92cc34ec706",
            "51249a8f0dcc47f591c579f9d9bf4f73",
            "f7a80549fb444b938564b8101362a602",
            "af29f053ae9f4d44a2031c141625850a",
            "ca3ef81e1f64435c88b51c843d93499f",
            "047f10a5644c41b183fd3ca301f1b290",
            "823e5b26cf7543cfb4ddd95f657d59b7",
            "527b1c66c3e1495385d396c9d17fd50e",
            "8b9e3938b89f4606bf8d8a5fb3dcc9ba",
            "b88bba01efe34decbe43fc3d9f623a51",
            "2f0dc89ee61a4df786132c4a9dca9e70",
            "8b4c245207794f688e9687e1158e0082",
            "d8e1c39ba4034a6b849b9bd5f7374f5f",
            "c733d0200b9d44c09524ca1fab0cea98",
            "4e8b8770a9a142018ff7a802aa030e2c",
            "a1d684a7ee674f01b8632c1af05cd51e",
            "61ca8c7ae21f44648debf2e14b954c61",
            "0429b2ca0e614d38b10849146a08739c",
            "858ff9ba3e734689bbed4bd814e5af76",
            "c695adc6bcfb4966b4e451a060d6dd0b",
            "15d646d5258b4194ba7a2e5fa774e89e",
            "208b144354364f61bb2e71ee161a9bb4",
            "4cf3ddd3299a462f9fdfe7f2e831afdb",
            "f76d8ccf65ab4705a10cb0275c5490d9",
            "8bbfd402316e44bdbba6eecf8efbb03c",
            "dcd2bfb69fb04f20a00d8580f7b78081",
            "7f3add669d3746018bb253f6d06b24f6",
            "e308d42e33a644f096314c152d6cd861",
            "677b43807ed0428fb21950bc5a07dc1c",
            "a3f64aa0f3e34dad9ce787f8dc198105",
            "fb05af4a464d445e991d24491a32f275",
            "041e21b5dbc54017976e69e92ef12ea1",
            "083b889c0be5413c954209c17560a84b",
            "80a0016b9f3247c3b99973a69e0ff06a",
            "402ca66cd1a7490c9aaf9e3aa4d829fa",
            "b8db3a8c6b0f4d5fbcdac04f369c35b0",
            "bf24a4a3f5ef46d4b085336b1bfe9863",
            "303ff0a3f2244c67970b6ba1203646bd",
            "3585ddfbc2c8452da0a64710f71a7e5c",
            "2ed9ead657d74a7f88fbaa8fb78b564e",
            "f17efe7fd2774bc8902bff8b3746936a",
            "c94c388781704e90be0d16f7a0d176c4",
            "77dfff46add141fa9560d8f950a51fd9",
            "4bcdef508da4443380e9fa1aeca80a34",
            "53da8e149f99455da55b6add69a5e354"
          ]
        },
        "id": "_vzcyEwYicxd",
        "outputId": "5ce1bdd7-0c49-460a-b505-5e8b31b0b501"
      },
      "outputs": [
        {
          "data": {
            "application/vnd.jupyter.widget-view+json": {
              "model_id": "a69a5f433a5645a491c0fa67a7aa51d4",
              "version_major": 2,
              "version_minor": 0
            },
            "text/plain": [
              "modules.json:   0%|          | 0.00/349 [00:00<?, ?B/s]"
            ]
          },
          "metadata": {},
          "output_type": "display_data"
        },
        {
          "data": {
            "application/vnd.jupyter.widget-view+json": {
              "model_id": "c649d8d820734950a021ae05eafbbd45",
              "version_major": 2,
              "version_minor": 0
            },
            "text/plain": [
              "config_sentence_transformers.json:   0%|          | 0.00/123 [00:00<?, ?B/s]"
            ]
          },
          "metadata": {},
          "output_type": "display_data"
        },
        {
          "data": {
            "application/vnd.jupyter.widget-view+json": {
              "model_id": "6e2080376e9d456c86c022167cfd618b",
              "version_major": 2,
              "version_minor": 0
            },
            "text/plain": [
              "README.md: 0.00B [00:00, ?B/s]"
            ]
          },
          "metadata": {},
          "output_type": "display_data"
        },
        {
          "data": {
            "application/vnd.jupyter.widget-view+json": {
              "model_id": "122294a490b348ccb854e37cf49c4609",
              "version_major": 2,
              "version_minor": 0
            },
            "text/plain": [
              "sentence_bert_config.json:   0%|          | 0.00/54.0 [00:00<?, ?B/s]"
            ]
          },
          "metadata": {},
          "output_type": "display_data"
        },
        {
          "data": {
            "application/vnd.jupyter.widget-view+json": {
              "model_id": "55f15e6bf2da45dd9dd396468d28a054",
              "version_major": 2,
              "version_minor": 0
            },
            "text/plain": [
              "config.json:   0%|          | 0.00/687 [00:00<?, ?B/s]"
            ]
          },
          "metadata": {},
          "output_type": "display_data"
        },
        {
          "data": {
            "application/vnd.jupyter.widget-view+json": {
              "model_id": "517eb25b1333407f83bbef6883a41292",
              "version_major": 2,
              "version_minor": 0
            },
            "text/plain": [
              "pytorch_model.bin:   0%|          | 0.00/2.27G [00:00<?, ?B/s]"
            ]
          },
          "metadata": {},
          "output_type": "display_data"
        },
        {
          "data": {
            "application/vnd.jupyter.widget-view+json": {
              "model_id": "6b2f92ab70f545c488ff4d261cd8b1cc",
              "version_major": 2,
              "version_minor": 0
            },
            "text/plain": [
              "model.safetensors:   0%|          | 0.00/2.27G [00:00<?, ?B/s]"
            ]
          },
          "metadata": {},
          "output_type": "display_data"
        },
        {
          "data": {
            "application/vnd.jupyter.widget-view+json": {
              "model_id": "558c365b84994a44b4fd55f2e8f4867f",
              "version_major": 2,
              "version_minor": 0
            },
            "text/plain": [
              "tokenizer_config.json:   0%|          | 0.00/444 [00:00<?, ?B/s]"
            ]
          },
          "metadata": {},
          "output_type": "display_data"
        },
        {
          "data": {
            "application/vnd.jupyter.widget-view+json": {
              "model_id": "51249a8f0dcc47f591c579f9d9bf4f73",
              "version_major": 2,
              "version_minor": 0
            },
            "text/plain": [
              "sentencepiece.bpe.model:   0%|          | 0.00/5.07M [00:00<?, ?B/s]"
            ]
          },
          "metadata": {},
          "output_type": "display_data"
        },
        {
          "data": {
            "application/vnd.jupyter.widget-view+json": {
              "model_id": "d8e1c39ba4034a6b849b9bd5f7374f5f",
              "version_major": 2,
              "version_minor": 0
            },
            "text/plain": [
              "tokenizer.json:   0%|          | 0.00/17.1M [00:00<?, ?B/s]"
            ]
          },
          "metadata": {},
          "output_type": "display_data"
        },
        {
          "data": {
            "application/vnd.jupyter.widget-view+json": {
              "model_id": "f76d8ccf65ab4705a10cb0275c5490d9",
              "version_major": 2,
              "version_minor": 0
            },
            "text/plain": [
              "special_tokens_map.json:   0%|          | 0.00/964 [00:00<?, ?B/s]"
            ]
          },
          "metadata": {},
          "output_type": "display_data"
        },
        {
          "data": {
            "application/vnd.jupyter.widget-view+json": {
              "model_id": "402ca66cd1a7490c9aaf9e3aa4d829fa",
              "version_major": 2,
              "version_minor": 0
            },
            "text/plain": [
              "config.json:   0%|          | 0.00/191 [00:00<?, ?B/s]"
            ]
          },
          "metadata": {},
          "output_type": "display_data"
        },
        {
          "name": "stderr",
          "output_type": "stream",
          "text": [
            "/usr/local/lib/python3.11/dist-packages/torch/nn/modules/module.py:1750: FutureWarning: `encoder_attention_mask` is deprecated and will be removed in version 4.55.0 for `XLMRobertaSdpaSelfAttention.forward`.\n",
            "  return forward_call(*args, **kwargs)\n"
          ]
        }
      ],
      "source": [
        "retriever = config_retriever()\n",
        "#executando a função config_retriever() e armazenando o objeto retriever na variável retriever"
      ]
    },
    {
      "cell_type": "code",
      "execution_count": null,
      "metadata": {
        "id": "q5rBpA2xi_4_"
      },
      "outputs": [],
      "source": [
        "rag_chain = config_rag_chain(llm, retriever)\n",
        "#unindo o modelo llm com o retriever"
      ]
    },
    {
      "cell_type": "markdown",
      "metadata": {
        "id": "gRccsaE_juyc"
      },
      "source": [
        "###Junção da pipeline final + Conclusão"
      ]
    },
    {
      "cell_type": "code",
      "execution_count": null,
      "metadata": {
        "id": "qdIJxKFPjpSO"
      },
      "outputs": [],
      "source": [
        "def chat_llm(rag_chain, input, chat_history):\n",
        "  chat_history.append(HumanMessage(content = input))\n",
        "\n",
        "  response = rag_chain.invoke({\n",
        "      \"input\": input,\n",
        "      \"chat_history\": chat_history\n",
        "  })\n",
        "\n",
        "  res = response[\"answer\"]\n",
        "\n",
        "  chat_history.append(AIMessage(content = res))\n",
        "\n",
        "  return chat_history"
      ]
    },
    {
      "cell_type": "code",
      "execution_count": null,
      "metadata": {
        "id": "8U5kuadrkG6n"
      },
      "outputs": [],
      "source": [
        "chat_history = []"
      ]
    },
    {
      "cell_type": "code",
      "execution_count": null,
      "metadata": {
        "colab": {
          "base_uri": "https://localhost:8080/"
        },
        "id": "fwyS7iiXkTa1",
        "outputId": "ade1c0e6-f0fa-4848-809a-86eae787a4c8"
      },
      "outputs": [
        {
          "name": "stderr",
          "output_type": "stream",
          "text": [
            "/usr/local/lib/python3.11/dist-packages/torch/nn/modules/module.py:1750: FutureWarning: `encoder_attention_mask` is deprecated and will be removed in version 4.55.0 for `XLMRobertaSdpaSelfAttention.forward`.\n",
            "  return forward_call(*args, **kwargs)\n"
          ]
        }
      ],
      "source": [
        "input = \"olá! como criar uma conta?\"  # @param {type:\"string\"}\n",
        "\n",
        "chat_history = chat_llm(rag_chain, input, chat_history)\n",
        "#fazendo pergunta"
      ]
    },
    {
      "cell_type": "code",
      "execution_count": null,
      "metadata": {
        "colab": {
          "base_uri": "https://localhost:8080/"
        },
        "id": "117ktf00kcL-",
        "outputId": "4fca12bc-3000-428b-9ab4-76a72088520e"
      },
      "outputs": [
        {
          "data": {
            "text/plain": [
              "[HumanMessage(content='olá! como criar uma conta?', additional_kwargs={}, response_metadata={}),\n",
              " AIMessage(content='Olá!\\n\\nPara criar uma conta, você precisa acessar o Aplicativo Next e seguir as instruções para abertura de conta. Lá, você criará suas senhas, que são pessoais e intransferíveis. Além disso, você precisará concordar com as condições do Termo de Adesão e do Regulamento para Abertura de Contas de Depósito, Produtos e Serviços - Pessoa Física.\\n\\nSe tiver alguma dúvida ou precisar de ajuda, você pode acessar a Central de Relacionamento Next ou visitar uma agência do Bradesco.', additional_kwargs={}, response_metadata={})]"
            ]
          },
          "execution_count": 59,
          "metadata": {},
          "output_type": "execute_result"
        }
      ],
      "source": [
        "chat_history"
      ]
    },
    {
      "cell_type": "markdown",
      "metadata": {
        "id": "sgq78jV9k6du"
      },
      "source": [
        "###Interface com Streamlit"
      ]
    },
    {
      "cell_type": "code",
      "execution_count": null,
      "metadata": {
        "colab": {
          "base_uri": "https://localhost:8080/"
        },
        "id": "UM2PX2_YkoRX",
        "outputId": "00317557-be62-4955-835c-dac25a3b8ba3"
      },
      "outputs": [
        {
          "name": "stdout",
          "output_type": "stream",
          "text": [
            "\u001b[2K     \u001b[90m━━━━━━━━━━━━━━━━━━━━━━━━━━━━━━━━━━━━━━━━\u001b[0m \u001b[32m44.3/44.3 kB\u001b[0m \u001b[31m2.0 MB/s\u001b[0m eta \u001b[36m0:00:00\u001b[0m\n",
            "\u001b[2K   \u001b[90m━━━━━━━━━━━━━━━━━━━━━━━━━━━━━━━━━━━━━━━━\u001b[0m \u001b[32m9.9/9.9 MB\u001b[0m \u001b[31m71.0 MB/s\u001b[0m eta \u001b[36m0:00:00\u001b[0m\n",
            "\u001b[2K   \u001b[90m━━━━━━━━━━━━━━━━━━━━━━━━━━━━━━━━━━━━━━━━\u001b[0m \u001b[32m6.9/6.9 MB\u001b[0m \u001b[31m106.0 MB/s\u001b[0m eta \u001b[36m0:00:00\u001b[0m\n",
            "\u001b[2K   \u001b[90m━━━━━━━━━━━━━━━━━━━━━━━━━━━━━━━━━━━━━━━━\u001b[0m \u001b[32m79.1/79.1 kB\u001b[0m \u001b[31m5.0 MB/s\u001b[0m eta \u001b[36m0:00:00\u001b[0m\n",
            "\u001b[?25h\u001b[1G\u001b[0K⠙\u001b[1G\u001b[0K⠹\u001b[1G\u001b[0K⠸\u001b[1G\u001b[0K⠼\u001b[1G\u001b[0K⠴\u001b[1G\u001b[0K⠦\u001b[1G\u001b[0K⠧\u001b[1G\u001b[0K⠇\u001b[1G\u001b[0K⠏\u001b[1G\u001b[0K⠋\u001b[1G\u001b[0K⠙\u001b[1G\u001b[0K⠹\u001b[1G\u001b[0K⠸\u001b[1G\u001b[0K⠼\u001b[1G\u001b[0K⠴\u001b[1G\u001b[0K⠦\u001b[1G\u001b[0K⠧\u001b[1G\u001b[0K⠇\u001b[1G\u001b[0K⠏\u001b[1G\u001b[0K⠋\u001b[1G\u001b[0K⠙\u001b[1G\u001b[0K⠹\u001b[1G\u001b[0K⠸\u001b[1G\u001b[0K⠼\u001b[1G\u001b[0K\n",
            "added 22 packages in 3s\n",
            "\u001b[1G\u001b[0K⠼\u001b[1G\u001b[0K\n",
            "\u001b[1G\u001b[0K⠼\u001b[1G\u001b[0K3 packages are looking for funding\n",
            "\u001b[1G\u001b[0K⠼\u001b[1G\u001b[0K  run `npm fund` for details\n",
            "\u001b[1G\u001b[0K⠼\u001b[1G\u001b[0K"
          ]
        }
      ],
      "source": [
        "!pip install -q streamlit python-dotenv\n",
        "!npm install -q localtunnel\n",
        "#instalando dependencia"
      ]
    },
    {
      "cell_type": "code",
      "execution_count": null,
      "metadata": {
        "colab": {
          "base_uri": "https://localhost:8080/"
        },
        "id": "QBzm2ym0k-7c",
        "outputId": "62f861c8-17a6-4a62-8cf2-986035419d26"
      },
      "outputs": [
        {
          "name": "stdout",
          "output_type": "stream",
          "text": [
            "Writing .env\n"
          ]
        }
      ],
      "source": [
        "%%writefile .env\n",
        "GROQ_API_KEY=#######"
      ]
    },
    {
      "cell_type": "code",
      "execution_count": null,
      "metadata": {
        "colab": {
          "base_uri": "https://localhost:8080/"
        },
        "id": "6wUtpYw1y5dE",
        "outputId": "a572d512-fdb1-4438-c917-b48a0fca753e"
      },
      "outputs": [
        {
          "name": "stdout",
          "output_type": "stream",
          "text": [
            "Writing app02.py\n"
          ]
        }
      ],
      "source": [
        "%%writefile app02.py\n",
        "import streamlit as st\n",
        "from langchain_groq import ChatGroq\n",
        "from langchain_core.prompts import ChatPromptTemplate\n",
        "from pathlib import Path\n",
        "from langchain_community.document_loaders import PyMuPDFLoader\n",
        "from langchain_text_splitters import RecursiveCharacterTextSplitter\n",
        "from langchain_huggingface import HuggingFaceEmbeddings\n",
        "from langchain_core.prompts import MessagesPlaceholder\n",
        "from langchain_core.messages import AIMessage, HumanMessage\n",
        "from langchain.chains import create_history_aware_retriever, create_retrieval_chain\n",
        "from langchain.chains.combine_documents import create_stuff_documents_chain\n",
        "from langchain.vectorstores import FAISS\n",
        "from dotenv import load_dotenv\n",
        "load_dotenv()\n",
        "\n",
        "st.set_page_config(page_title=\"Atendimento Banco Next 🤖\", page_icon=\"🤖\")\n",
        "st.title(\"Atendimento Banco Next\")\n",
        "id_model = \"deepseek-r1-distill-llama-70b\"\n",
        "temperature = 0.7\n",
        "path = \"/content\"\n",
        "\n",
        "### Carregamento da LLM\n",
        "def load_llm(id_model, temperature):\n",
        "  llm = ChatGroq(\n",
        "    model=id_model,\n",
        "    temperature=temperature,\n",
        "    max_tokens=None,\n",
        "    timeout=None,\n",
        "    max_retries=2,\n",
        "  )\n",
        "  return llm\n",
        "\n",
        "llm = load_llm(id_model, temperature)\n",
        "\n",
        "### Exibição do resultado\n",
        "def show_res(res):\n",
        "  from IPython.display import Markdown\n",
        "  if \"</think>\" in res:\n",
        "    res = res.split(\"</think>\")[-1].strip()\n",
        "  else:\n",
        "    res = res.strip()  # fallback se não houver tag\n",
        "  display(Markdown(res))\n",
        "\n",
        "### Extração do conteúdo\n",
        "def extract_text_pdf(file_path):\n",
        "  loader = PyMuPDFLoader(file_path)\n",
        "  doc = loader.load()\n",
        "  content = \"\\n\".join([page.page_content for page in doc])\n",
        "  return content\n",
        "\n",
        "### Indexação e recuperação\n",
        "def config_retriever(folder_path=\"/content\"):\n",
        "  # Carregar documentos\n",
        "  docs_path = Path(\"/content\")\n",
        "  pdf_files = [f for f in docs_path.glob(\"*.pdf\")]\n",
        "\n",
        "  if len(pdf_files) < 1:\n",
        "    st.error(\"Nenhum arquivo PDF carregado\")\n",
        "    st.stop()\n",
        "\n",
        "  loaded_documents = [extract_text_pdf(pdf) for pdf in pdf_files]\n",
        "\n",
        "  # Divisão em pedaços de texto / Split\n",
        "  text_splitter = RecursiveCharacterTextSplitter(\n",
        "      chunk_size=1000,\n",
        "      chunk_overlap=200\n",
        "  )\n",
        "  chunks = []\n",
        "  for doc in loaded_documents:\n",
        "      chunks.extend(text_splitter.split_text(doc))\n",
        "\n",
        "  # Embeddings\n",
        "  embedding_model = \"BAAI/bge-m3\" #sentence-transformers/all-mpnet-base-v2\n",
        "\n",
        "  embeddings = HuggingFaceEmbeddings(model_name=embedding_model)\n",
        "\n",
        "  # Armazenamento\n",
        "  vectorstore = FAISS.from_texts(chunks, embedding=embeddings)\n",
        "\n",
        "  vectorstore.save_local('index_faiss')\n",
        "\n",
        "  # Configurando o recuperador de texto / Retriever\n",
        "  retriever = vectorstore.as_retriever(\n",
        "      search_type='mmr',\n",
        "      search_kwargs={'k':3, 'fetch_k':4}\n",
        "  )\n",
        "\n",
        "  return retriever\n",
        "\n",
        "### Chain da RAG\n",
        "def config_rag_chain(llm, retriever):\n",
        "\n",
        "  # Prompt de contextualização\n",
        "  context_q_system_prompt = \"Given the following chat history and the follow-up question which might reference context in the chat history, formulate a standalone question which can be understood without the chat history. Do NOT answer the question, just reformulate it if needed and otherwise return it as is.\"\n",
        "\n",
        "  context_q_system_prompt = context_q_system_prompt\n",
        "  context_q_user_prompt = \"Question: {input}\"\n",
        "  context_q_prompt = ChatPromptTemplate.from_messages(\n",
        "      [\n",
        "          (\"system\", context_q_system_prompt),\n",
        "          MessagesPlaceholder(\"chat_history\"),\n",
        "          (\"human\", context_q_user_prompt),\n",
        "      ]\n",
        "  )\n",
        "\n",
        "  # Chain para contextualização\n",
        "  history_aware_retriever = create_history_aware_retriever(\n",
        "    llm=llm, retriever=retriever, prompt=context_q_prompt\n",
        "  )\n",
        "\n",
        "  # Prompt para perguntas e respostas (Q&A)\n",
        "  system_prompt = \"\"\"Você é um assistente virtual prestativo chamado NX e está respondendo perguntas gerais sobre os serviços de uma empresa.\n",
        "  Use os seguintes pedaços de contexto recuperado para responder à pergunta.\n",
        "  Se você não sabe a resposta, apenas comente que não sabe dizer com certeza.\n",
        "  Mas caso seja uma dúvida muito comum, pode sugerir como alternativa uma solução possível.\n",
        "  Mantenha a resposta concisa.\n",
        "  Responda em português. \\n\\n\"\"\"\n",
        "\n",
        "  qa_prompt = ChatPromptTemplate.from_messages([\n",
        "    (\"system\", system_prompt),\n",
        "    MessagesPlaceholder(\"chat_history\"),\n",
        "    (\"human\", \"Pergunta: {input}\\n\\n Contexto: {context}\"),\n",
        "  ])\n",
        "\n",
        "  # Configurar LLM e Chain para perguntas e respostas (Q&A)\n",
        "\n",
        "  qa_chain = create_stuff_documents_chain(llm, qa_prompt)\n",
        "\n",
        "  rag_chain = create_retrieval_chain(\n",
        "    history_aware_retriever,\n",
        "    qa_chain,\n",
        "  )\n",
        "\n",
        "  return rag_chain\n",
        "\n",
        "### Interação com chat\n",
        "def chat_llm(rag_chain, input):\n",
        "\n",
        "  st.session_state.chat_history.append(HumanMessage(content=input))\n",
        "\n",
        "  response = rag_chain.invoke({\n",
        "      \"input\": input,\n",
        "      \"chat_history\": st.session_state.chat_history\n",
        "  })\n",
        "\n",
        "  res = response[\"answer\"]\n",
        "  res = res.split(\"</think>\")[-1].strip() if \"</think>\" in res else res.strip()\n",
        "\n",
        "  st.session_state.chat_history.append(AIMessage(content=res))\n",
        "\n",
        "  return res\n",
        "\n",
        "input = st.chat_input(\"Digite sua mensagem aqui...\")\n",
        "\n",
        "if \"chat_history\" not in st.session_state:\n",
        "  st.session_state.chat_history = [\n",
        "      AIMessage(content = \"Olá, sou o NX seu assistente virtual! Como posso te ajudar?\"),\n",
        "  ]\n",
        "\n",
        "if \"retriever\" not in st.session_state:\n",
        "  st.session_state.retriever = None\n",
        "\n",
        "for message in st.session_state.chat_history:\n",
        "  if isinstance(message, AIMessage):\n",
        "    with st.chat_message(\"AI\"):\n",
        "      st.write(message.content)\n",
        "  elif isinstance(message, HumanMessage):\n",
        "    with st.chat_message(\"Human\"):\n",
        "      st.write(message.content)\n",
        "\n",
        "if input is not None:\n",
        "  with st.chat_message(\"Human\"):\n",
        "    st.markdown(input)\n",
        "\n",
        "  with st.chat_message(\"AI\"):\n",
        "    if st.session_state.retriever is None:\n",
        "      st.session_state.retriever = config_retriever(path)\n",
        "    rag_chain = config_rag_chain(llm, st.session_state.retriever)\n",
        "    res = chat_llm(rag_chain, input)\n",
        "    st.write(res)"
      ]
    },
    {
      "cell_type": "code",
      "execution_count": null,
      "metadata": {
        "colab": {
          "background_save": true,
          "base_uri": "https://localhost:8080/"
        },
        "id": "6ZsfLvu41J37",
        "outputId": "65ff0f48-a7eb-4f94-aae6-facdd322ad93"
      },
      "outputs": [
        {
          "name": "stdout",
          "output_type": "stream",
          "text": [
            "34.57.84.88\n",
            "\u001b[1G\u001b[0K⠙\u001b[1G\u001b[0Kyour url is: https://chilly-hoops-press.loca.lt\n"
          ]
        }
      ],
      "source": [
        "!streamlit run app02.py &>/content/logs.txt &\n",
        "\n",
        "!wget -q -O - ipv4.icanhazip.com\n",
        "!npx localtunnel --port 8501"
      ]
    }
  ],
  "metadata": {
    "colab": {
      "provenance": [],
      "include_colab_link": true
    },
    "kernelspec": {
      "display_name": "Python 3",
      "name": "python3"
    },
    "language_info": {
      "name": "python"
    }
  },
  "nbformat": 4,
  "nbformat_minor": 0
}